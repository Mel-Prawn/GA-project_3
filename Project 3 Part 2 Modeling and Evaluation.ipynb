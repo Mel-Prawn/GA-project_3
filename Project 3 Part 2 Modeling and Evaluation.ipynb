{
 "cells": [
  {
   "cell_type": "markdown",
   "id": "ac182e97",
   "metadata": {},
   "source": [
    "<img src=\"http://imgur.com/1ZcRyrc.png\" style=\"float: left; margin: 20px; height: 55px\">\n",
    "\n",
    "# Project 3: Web APIs and Classification\n",
    "***Classifying subreddit posts***"
   ]
  },
  {
   "cell_type": "markdown",
   "id": "14396232",
   "metadata": {},
   "source": [
    "# Overview\n",
    "You are an analyst at a social media company which uses targeted advertising on its platform. You have been tasked to create a classification model to identify users who are likely to been keen on *green* products based on their text-based interactions on the platform.\n",
    "\n",
    "**Goal**: To train a classification model which can **ACCURATELY** distinguish text created by individuals who are motivated to be *green* from those are are *Frugal*. Accuracy and Sensitivity are the key metrics as you would want to get as many ZeroWaste users as possible without making too many mistakes.\n"
   ]
  },
  {
   "cell_type": "markdown",
   "id": "b0282b4e",
   "metadata": {},
   "source": [
    "## Contents\n",
    "\n",
    "Part 1: Webscraping, Data Exploration and Data Cleaning <br/>\n",
    "\n",
    "Part 2: Analysis and Model Tuning (YOU ARE HERE)<br/>\n",
    "- Model Exploration\n",
    "- Feature and Error Analysis\n",
    "- Model Tuning"
   ]
  },
  {
   "cell_type": "code",
   "execution_count": 1,
   "id": "05ee78be",
   "metadata": {},
   "outputs": [],
   "source": [
    "import numpy as np\n",
    "import pandas as pd\n",
    "import matplotlib.pyplot as plt"
   ]
  },
  {
   "cell_type": "code",
   "execution_count": 306,
   "id": "402655f0",
   "metadata": {},
   "outputs": [],
   "source": [
    "# Imports\n",
    "#from nltk.tokenize import sent_tokenize, word_tokenize, RegexpTokenizer\n",
    "#from nltk.stem import WordNetLemmatizer\n",
    "#from nltk.stem.porter import PorterStemmer\n",
    "from nltk.corpus import stopwords\n",
    "#from nltk.sentiment.vader import SentimentIntensityAnalyzer\n",
    "import re"
   ]
  },
  {
   "cell_type": "code",
   "execution_count": 263,
   "id": "3825dada",
   "metadata": {},
   "outputs": [],
   "source": [
    "# imports\n",
    "\n",
    "from sklearn.model_selection import train_test_split, GridSearchCV\n",
    "from sklearn.pipeline import Pipeline\n",
    "\n",
    "from sklearn.preprocessing import StandardScaler\n",
    "from sklearn.neighbors import KNeighborsClassifier\n",
    "from sklearn.naive_bayes import MultinomialNB\n",
    "from sklearn.ensemble import RandomForestClassifier\n",
    "\n",
    "from sklearn.metrics import (\n",
    "    confusion_matrix, \n",
    "    plot_confusion_matrix, \n",
    "    accuracy_score, \n",
    "    plot_roc_curve, \n",
    "    roc_auc_score,\n",
    "    recall_score, \n",
    "    precision_score, \n",
    "    f1_score,\n",
    ")\n",
    "\n",
    "# Import CountVectorizer and TFIDFVectorizer from feature_extraction.text.\n",
    "from sklearn.feature_extraction.text import CountVectorizer, TfidfVectorizer"
   ]
  },
  {
   "cell_type": "code",
   "execution_count": 4,
   "id": "c4888508",
   "metadata": {},
   "outputs": [
    {
     "name": "stderr",
     "output_type": "stream",
     "text": [
      "C:\\Users\\User\\AppData\\Local\\Temp/ipykernel_3680/52418072.py:3: DtypeWarning: Columns (7,10,11,12,21,78,80,88) have mixed types. Specify dtype option on import or set low_memory=False.\n",
      "  df_f = pd.read_csv('Frugal_for_analysis.csv')\n",
      "C:\\Users\\User\\AppData\\Local\\Temp/ipykernel_3680/52418072.py:4: DtypeWarning: Columns (3,10,12,21,29,62,84,86) have mixed types. Specify dtype option on import or set low_memory=False.\n",
      "  df_zw = pd.read_csv('ZeroWaste_for_analysis.csv')\n"
     ]
    }
   ],
   "source": [
    "# open datafile\n",
    "\n",
    "df_f = pd.read_csv('./datasets/Frugal_for_analysis.csv')\n",
    "df_zw = pd.read_csv('./datasets/ZeroWaste_for_analysis.csv')\n",
    "\n",
    "df = pd.concat([df_f[:10000], df_zw[:10000]], ignore_index = True)"
   ]
  },
  {
   "cell_type": "markdown",
   "id": "a4ad1ecc",
   "metadata": {},
   "source": [
    "# Data Preparation"
   ]
  },
  {
   "cell_type": "code",
   "execution_count": 5,
   "id": "909cbdaf",
   "metadata": {},
   "outputs": [
    {
     "name": "stdout",
     "output_type": "stream",
     "text": [
      "Frugal       10000\n",
      "ZeroWaste    10000\n",
      "Name: subreddit, dtype: int64\n"
     ]
    }
   ],
   "source": [
    "print(df['subreddit'].value_counts())\n",
    "df['subreddit'] =  df['subreddit'].map(lambda x: 1 if x == 'ZeroWaste' else 0)"
   ]
  },
  {
   "cell_type": "code",
   "execution_count": 6,
   "id": "3971e81f",
   "metadata": {},
   "outputs": [
    {
     "name": "stdout",
     "output_type": "stream",
     "text": [
      "0    10000\n",
      "1    10000\n",
      "Name: subreddit, dtype: int64\n"
     ]
    }
   ],
   "source": [
    "X = df['fulltext']\n",
    "y = df['subreddit']\n",
    "print(y.value_counts())"
   ]
  },
  {
   "cell_type": "code",
   "execution_count": 7,
   "id": "b8eff998",
   "metadata": {},
   "outputs": [],
   "source": [
    "# Split the data into the training and testing sets.\n",
    "X_train, X_test, y_train, y_test = train_test_split(X,\n",
    "                                                    y,\n",
    "                                                    test_size=0.33,\n",
    "                                                    random_state=28)"
   ]
  },
  {
   "cell_type": "markdown",
   "id": "3c03e0e4",
   "metadata": {},
   "source": [
    "<font color = \"red\">\n",
    "    \n",
    "### Caution!!!\n",
    "\n",
    "The following lines of code will take hours to complete running due to GridSearch.\n",
    "\n",
    "</font>    \n",
    "\n",
    "If you wish to avoid this, please run the first few cells where functions are created, and continue from **Feature and Error Analysis**"
   ]
  },
  {
   "cell_type": "markdown",
   "id": "5a2a94cb",
   "metadata": {},
   "source": [
    "# Modeling Exploration\n",
    "\n",
    "To implement GridSearch over a variety of hyperparameters to with two vectorizers (CountVectorizer and TfidfVectorizer) and three classification algorithms (KNearestNeighbor, MultinomialNaiveBayes and RandomForest). The intention is to get an idea of which combination is relatively well on the dataset. A summary of the model performances are at the bottom.\n",
    "\n",
    "Note: Models were povided with ALL hyperparameters during GridSearch."
   ]
  },
  {
   "cell_type": "code",
   "execution_count": 148,
   "id": "84a083e8",
   "metadata": {},
   "outputs": [],
   "source": [
    "# Create function to print model information\n",
    "# Obtain best model, its hyper parameters, cross_validated_scores\n",
    "# Scores on train set and test set\n",
    "\n",
    "def model_info(gs):\n",
    "    print(gs.best_params_)\n",
    "    print(f'Cross validated Score is {gs.best_score_}')\n",
    "    print(f'Train set accuracy is {gs.score(X_train, y_train)}')\n",
    "    print(f'Test set accuracy is {gs.score(X_test, y_test)}')"
   ]
  },
  {
   "cell_type": "code",
   "execution_count": 149,
   "id": "ad19ce2b",
   "metadata": {},
   "outputs": [],
   "source": [
    "# Create function to get confusion matrix\n",
    "\n",
    "def conf_matrix(gs, train_or_test, X_, y_, model):\n",
    "    plot_confusion_matrix(gs, X_, y_, cmap='Blues', \n",
    "                      values_format='d', display_labels=['Frugal', 'ZeroWaste'])\n",
    "    plt.title(f\"Confusion Matrix for {train_or_test} Set with {model}\",\n",
    "              fontsize=14, y=1.1)\n"
   ]
  },
  {
   "cell_type": "code",
   "execution_count": 364,
   "id": "d679e5f5",
   "metadata": {},
   "outputs": [],
   "source": [
    "# Function to get sensitivity and specificity\n",
    "\n",
    "def eval_metrics(gs, train_or_test, X_, y_, model):\n",
    "    preds = gs.predict(X_)\n",
    "    tn, fp, fn, tp = confusion_matrix(y_, preds).ravel()\n",
    "    sensitivity = recall_score(y_, preds)\n",
    "    specificity = precision_score(y_, preds)\n",
    "    auc_roc = roc_auc_score(y_, gs.predict_proba(X_)[:,1])\n",
    "    \n",
    "    print(f'{model} {train_or_test} set Sensitivity: {sensitivity:.3f}')\n",
    "    print(f'{model} {train_or_test} set Specificity: {specificity:.3f}')\n",
    "    print(f'{model} {train_or_test} set AUC ROC: {auc_roc:.3f}')      \n"
   ]
  },
  {
   "cell_type": "code",
   "execution_count": 151,
   "id": "e18d0f24",
   "metadata": {},
   "outputs": [],
   "source": [
    "# Function to tokenize and create dataframe\n",
    "\n",
    "def tok(vectorizer, text_liz):\n",
    "    \n",
    "    # Instantiate vectorizer\n",
    "    vec = vectorizer\n",
    "\n",
    "    # Fit the vectorizer on ZeroWaste text\n",
    "    vec.fit(text_liz)\n",
    "\n",
    "    # Transform the data\n",
    "    dat = vec.transform(text_liz)\n",
    "\n",
    "    # Convert to a dataframe\n",
    "    dat = pd.DataFrame(dat.todense(),\n",
    "                       columns=vec.get_feature_names())\n",
    "    \n",
    "    return dat"
   ]
  },
  {
   "cell_type": "markdown",
   "id": "620bf95c",
   "metadata": {},
   "source": [
    "**Model 1a (CountVectorizer with KNearestNeighbor)**"
   ]
  },
  {
   "cell_type": "code",
   "execution_count": 225,
   "id": "f3047ede",
   "metadata": {},
   "outputs": [],
   "source": [
    "# Setup pipeline\n",
    "# 1. CountVectorizer (transformer)\n",
    "# 2. KNearestNeighbor (estimator)\n",
    "\n",
    "pipe = Pipeline([\n",
    "    ('cvec', CountVectorizer()),\n",
    "    ('knn', KNeighborsClassifier())\n",
    "])\n",
    "\n",
    "pipe_params = {\n",
    "    'cvec__max_features': [20_000],\n",
    "    'cvec__min_df': [3],\n",
    "    'cvec__max_df': [.9],\n",
    "    'cvec__ngram_range': [(1,1), (1,2)],\n",
    "    'cvec__stop_words': ['english'],\n",
    "    'knn__n_neighbors': [10, 50, 100]\n",
    "    \n",
    "}\n",
    "\n",
    "gs_cv_knn = GridSearchCV(pipe,\n",
    "                  param_grid=pipe_params, # search parameters\n",
    "                  cv=5)                   # 5-fold cross-validation\n"
   ]
  },
  {
   "cell_type": "code",
   "execution_count": 226,
   "id": "f6f07b3b",
   "metadata": {},
   "outputs": [
    {
     "data": {
      "text/plain": [
       "GridSearchCV(cv=5,\n",
       "             estimator=Pipeline(steps=[('cvec', CountVectorizer()),\n",
       "                                       ('knn', KNeighborsClassifier())]),\n",
       "             param_grid={'cvec__max_df': [0.9], 'cvec__max_features': [20000],\n",
       "                         'cvec__min_df': [3],\n",
       "                         'cvec__ngram_range': [(1, 1), (1, 2)],\n",
       "                         'cvec__stop_words': ['english'],\n",
       "                         'knn__n_neighbors': [10, 50, 100]})"
      ]
     },
     "execution_count": 226,
     "metadata": {},
     "output_type": "execute_result"
    }
   ],
   "source": [
    "# Fit GridSearch to training data.\n",
    "\n",
    "gs_cv_knn.fit(X_train, y_train)"
   ]
  },
  {
   "cell_type": "code",
   "execution_count": 227,
   "id": "bd2cc862",
   "metadata": {},
   "outputs": [
    {
     "name": "stdout",
     "output_type": "stream",
     "text": [
      "{'cvec__max_df': 0.9, 'cvec__max_features': 20000, 'cvec__min_df': 3, 'cvec__ngram_range': (1, 1), 'cvec__stop_words': 'english', 'knn__n_neighbors': 100}\n",
      "Cross validated Score is 0.7789552238805971\n",
      "Train set accuracy is 0.8097761194029851\n",
      "Test set accuracy is 0.7786363636363637\n"
     ]
    }
   ],
   "source": [
    "# Get model information\n",
    "\n",
    "model_info(gs_cv_knn)"
   ]
  },
  {
   "cell_type": "code",
   "execution_count": 228,
   "id": "34aa133d",
   "metadata": {},
   "outputs": [],
   "source": [
    "# Name model\n",
    "\n",
    "model_1a = \"Model 1a (Cvec with KNN)\""
   ]
  },
  {
   "cell_type": "code",
   "execution_count": 105,
   "id": "27edb538",
   "metadata": {},
   "outputs": [
    {
     "name": "stderr",
     "output_type": "stream",
     "text": [
      "C:\\Users\\User\\.conda\\envs\\dsi\\lib\\site-packages\\sklearn\\utils\\deprecation.py:87: FutureWarning: Function plot_confusion_matrix is deprecated; Function `plot_confusion_matrix` is deprecated in 1.0 and will be removed in 1.2. Use one of the class methods: ConfusionMatrixDisplay.from_predictions or ConfusionMatrixDisplay.from_estimator.\n",
      "  warnings.warn(msg, category=FutureWarning)\n"
     ]
    },
    {
     "data": {
      "image/png": "[encoded data removed]",
      "text/plain": [
       "<Figure size 432x288 with 2 Axes>"
      ]
     },
     "metadata": {
      "needs_background": "light"
     },
     "output_type": "display_data"
    }
   ],
   "source": [
    "# Confusion matrix for Train set\n",
    "\n",
    "conf_matrix(gs_cv_knn, \"TRA\", X_train, y_train, model_1a)"
   ]
  },
  {
   "cell_type": "code",
   "execution_count": 106,
   "id": "d259218e",
   "metadata": {},
   "outputs": [
    {
     "name": "stderr",
     "output_type": "stream",
     "text": [
      "C:\\Users\\User\\.conda\\envs\\dsi\\lib\\site-packages\\sklearn\\utils\\deprecation.py:87: FutureWarning: Function plot_confusion_matrix is deprecated; Function `plot_confusion_matrix` is deprecated in 1.0 and will be removed in 1.2. Use one of the class methods: ConfusionMatrixDisplay.from_predictions or ConfusionMatrixDisplay.from_estimator.\n",
      "  warnings.warn(msg, category=FutureWarning)\n"
     ]
    },
    {
     "data": {
      "image/png": "[encoded data removed]",
      "text/plain": [
       "<Figure size 432x288 with 2 Axes>"
      ]
     },
     "metadata": {
      "needs_background": "light"
     },
     "output_type": "display_data"
    }
   ],
   "source": [
    "# Confusion matrix for Test set\n",
    "\n",
    "conf_matrix(gs_cv_knn, \"Test\", X_test, y_test, model_1a)"
   ]
  },
  {
   "cell_type": "code",
   "execution_count": 107,
   "id": "a1a4abba",
   "metadata": {},
   "outputs": [
    {
     "name": "stdout",
     "output_type": "stream",
     "text": [
      "Model 1a (Cvec with KNN) Train set Sensitivity: 0.81\n",
      "Model 1a (Cvec with KNN) Train set Specificity: 0.83\n",
      "Model 1a (Cvec with KNN) Train set AUC ROC: 0.90\n"
     ]
    }
   ],
   "source": [
    "# Get evaluation metrics for train set\n",
    "\n",
    "eval_metrics(gs_cv_knn, \"Train\", X_train, y_train, model_1a)"
   ]
  },
  {
   "cell_type": "code",
   "execution_count": 108,
   "id": "ccc1d856",
   "metadata": {},
   "outputs": [
    {
     "name": "stdout",
     "output_type": "stream",
     "text": [
      "Model 1a (Cvec with KNN) Test set Sensitivity: 0.72\n",
      "Model 1a (Cvec with KNN) Test set Specificity: 0.73\n",
      "Model 1a (Cvec with KNN) Test set AUC ROC: 0.81\n"
     ]
    }
   ],
   "source": [
    "# Get evaluation metrics for test set\n",
    "\n",
    "eval_metrics(gs_cv_knn, \"Test\", X_test, y_test, model_1a)"
   ]
  },
  {
   "cell_type": "markdown",
   "id": "8bd741f4",
   "metadata": {},
   "source": [
    "**Model 1b (TfidfVectorizer with KNearestNeighbor)**"
   ]
  },
  {
   "cell_type": "code",
   "execution_count": 404,
   "id": "86cd3485",
   "metadata": {},
   "outputs": [],
   "source": [
    "# Setup pipeline\n",
    "# 1. TfidVectorizer (transformer)\n",
    "# 2. KNearestNeighbor (estimator)\n",
    "\n",
    "pipe = Pipeline([\n",
    "    ('tvec', TfidfVectorizer()),\n",
    "    ('knn', KNeighborsClassifier())\n",
    "])\n",
    "\n",
    "pipe_params = {\n",
    "    'tvec__max_features': [5_000, 10_000, 20_000],\n",
    "    'tvec__min_df': [3, 5],\n",
    "    'tvec__max_df': [.9, .85],\n",
    "    'tvec__ngram_range': [(1,1), (1,2)],\n",
    "    'tvec__stop_words': ['english'],\n",
    "    'knn__n_neighbors': [5, 8, 10]\n",
    "    \n",
    "}\n",
    "\n",
    "gs_tvec_knn = GridSearchCV(pipe,\n",
    "                  param_grid=pipe_params, # search parameters\n",
    "                  cv=5)                   # 5-fold cross-validation\n"
   ]
  },
  {
   "cell_type": "code",
   "execution_count": 405,
   "id": "c0d29c0d",
   "metadata": {},
   "outputs": [
    {
     "data": {
      "text/plain": [
       "GridSearchCV(cv=5,\n",
       "             estimator=Pipeline(steps=[('tvec', TfidfVectorizer()),\n",
       "                                       ('knn', KNeighborsClassifier())]),\n",
       "             param_grid={'knn__n_neighbors': [5, 8, 10],\n",
       "                         'tvec__max_df': [0.9, 0.85],\n",
       "                         'tvec__max_features': [5000, 10000, 20000],\n",
       "                         'tvec__min_df': [3, 5],\n",
       "                         'tvec__ngram_range': [(1, 1), (1, 2)],\n",
       "                         'tvec__stop_words': ['english']})"
      ]
     },
     "execution_count": 405,
     "metadata": {},
     "output_type": "execute_result"
    }
   ],
   "source": [
    "# Fit GridSearch to training data.\n",
    "\n",
    "gs_tvec_knn.fit(X_train, y_train)"
   ]
  },
  {
   "cell_type": "code",
   "execution_count": 406,
   "id": "6767a231",
   "metadata": {},
   "outputs": [
    {
     "name": "stdout",
     "output_type": "stream",
     "text": [
      "{'knn__n_neighbors': 10, 'tvec__max_df': 0.9, 'tvec__max_features': 20000, 'tvec__min_df': 3, 'tvec__ngram_range': (1, 2), 'tvec__stop_words': 'english'}\n",
      "Cross validated Score is 0.833358208955224\n",
      "Train set accuracy is 0.8802985074626866\n",
      "Test set accuracy is 0.816060606060606\n"
     ]
    }
   ],
   "source": [
    "# Get model info\n",
    "\n",
    "model_info(gs_tvec_knn)"
   ]
  },
  {
   "cell_type": "code",
   "execution_count": 407,
   "id": "75b2a670",
   "metadata": {},
   "outputs": [],
   "source": [
    "# Name model\n",
    "\n",
    "model_1b = \"Model 1b (Tvec with KNN)\""
   ]
  },
  {
   "cell_type": "code",
   "execution_count": 408,
   "id": "62624979",
   "metadata": {},
   "outputs": [
    {
     "name": "stderr",
     "output_type": "stream",
     "text": [
      "C:\\Users\\User\\.conda\\envs\\dsi\\lib\\site-packages\\sklearn\\utils\\deprecation.py:87: FutureWarning: Function plot_confusion_matrix is deprecated; Function `plot_confusion_matrix` is deprecated in 1.0 and will be removed in 1.2. Use one of the class methods: ConfusionMatrixDisplay.from_predictions or ConfusionMatrixDisplay.from_estimator.\n",
      "  warnings.warn(msg, category=FutureWarning)\n"
     ]
    },
    {
     "data": {
      "image/png": "[encoded data removed]",
      "text/plain": [
       "<Figure size 432x288 with 2 Axes>"
      ]
     },
     "metadata": {
      "needs_background": "light"
     },
     "output_type": "display_data"
    }
   ],
   "source": [
    "# Confusion matrix for Train set\n",
    "\n",
    "conf_matrix(gs_tvec_knn, \"Train\", X_train, y_train, model_1b)"
   ]
  },
  {
   "cell_type": "code",
   "execution_count": 409,
   "id": "02a8ee63",
   "metadata": {},
   "outputs": [
    {
     "name": "stderr",
     "output_type": "stream",
     "text": [
      "C:\\Users\\User\\.conda\\envs\\dsi\\lib\\site-packages\\sklearn\\utils\\deprecation.py:87: FutureWarning: Function plot_confusion_matrix is deprecated; Function `plot_confusion_matrix` is deprecated in 1.0 and will be removed in 1.2. Use one of the class methods: ConfusionMatrixDisplay.from_predictions or ConfusionMatrixDisplay.from_estimator.\n",
      "  warnings.warn(msg, category=FutureWarning)\n"
     ]
    },
    {
     "data": {
      "image/png": "[encoded data removed]",
      "text/plain": [
       "<Figure size 432x288 with 2 Axes>"
      ]
     },
     "metadata": {
      "needs_background": "light"
     },
     "output_type": "display_data"
    }
   ],
   "source": [
    "# Confusion matrix for Test set\n",
    "\n",
    "conf_matrix(gs_tvec_knn, \"Test\", X_test, y_test, model_1b)"
   ]
  },
  {
   "cell_type": "code",
   "execution_count": 410,
   "id": "1658540d",
   "metadata": {},
   "outputs": [
    {
     "name": "stdout",
     "output_type": "stream",
     "text": [
      "Model 1b (Tvec with KNN) Train set Sensitivity: 0.861\n",
      "Model 1b (Tvec with KNN) Train set Specificity: 0.895\n",
      "Model 1b (Tvec with KNN) Train set AUC ROC: 0.952\n"
     ]
    }
   ],
   "source": [
    "# Get evaluation metrics for train set\n",
    "\n",
    "eval_metrics(gs_tvec_knn, \"Train\", X_train, y_train, model_1b)"
   ]
  },
  {
   "cell_type": "code",
   "execution_count": 411,
   "id": "50db5c64",
   "metadata": {},
   "outputs": [
    {
     "name": "stdout",
     "output_type": "stream",
     "text": [
      "Model 1b (Tvec with KNN) Test set Sensitivity: 0.806\n",
      "Model 1b (Tvec with KNN) Test set Specificity: 0.822\n",
      "Model 1b (Tvec with KNN) Test set AUC ROC: 0.894\n"
     ]
    }
   ],
   "source": [
    "# Get evaluation metrics for test set\n",
    "\n",
    "eval_metrics(gs_tvec_knn, \"Test\", X_test, y_test, model_1b)"
   ]
  },
  {
   "cell_type": "markdown",
   "id": "f704b0c1",
   "metadata": {},
   "source": [
    "**Model 2a (CountVectorizer with MultinomialNaiveBayes)**"
   ]
  },
  {
   "cell_type": "code",
   "execution_count": 117,
   "id": "8a3efdca",
   "metadata": {},
   "outputs": [],
   "source": [
    "# Setup pipeline\n",
    "# 1. CountVectorizer (transformer)\n",
    "# 2. Multinomial Naive Bayes (estimator)\n",
    "\n",
    "pipe = Pipeline([\n",
    "    ('cvec', CountVectorizer()),\n",
    "    ('nb', MultinomialNB())\n",
    "])\n",
    "\n",
    "pipe_params = {\n",
    "    'cvec__max_features': [5_000, 10_000, 20_000],\n",
    "    'cvec__min_df': [3, 5],\n",
    "    'cvec__max_df': [.9, .85],\n",
    "    'cvec__ngram_range': [(1,1), (1,2)],\n",
    "    'cvec__stop_words': ['english']\n",
    "    \n",
    "}\n",
    "\n",
    "gs_cvec_mnb = GridSearchCV(pipe,\n",
    "                  param_grid=pipe_params, # search parameters\n",
    "                  cv=5)                   # 5-fold cross-validation\n"
   ]
  },
  {
   "cell_type": "code",
   "execution_count": 118,
   "id": "719baf70",
   "metadata": {},
   "outputs": [
    {
     "data": {
      "text/plain": [
       "GridSearchCV(cv=5,\n",
       "             estimator=Pipeline(steps=[('cvec', CountVectorizer()),\n",
       "                                       ('nb', MultinomialNB())]),\n",
       "             param_grid={'cvec__max_df': [0.9, 0.85],\n",
       "                         'cvec__max_features': [5000, 10000, 20000],\n",
       "                         'cvec__min_df': [3, 5],\n",
       "                         'cvec__ngram_range': [(1, 1), (1, 2)],\n",
       "                         'cvec__stop_words': ['english']})"
      ]
     },
     "execution_count": 118,
     "metadata": {},
     "output_type": "execute_result"
    }
   ],
   "source": [
    "# Fit GridSearch to training data\n",
    "\n",
    "gs_cvec_mnb.fit(X_train, y_train)"
   ]
  },
  {
   "cell_type": "code",
   "execution_count": 119,
   "id": "622d62d1",
   "metadata": {},
   "outputs": [
    {
     "name": "stdout",
     "output_type": "stream",
     "text": [
      "{'cvec__max_df': 0.9, 'cvec__max_features': 20000, 'cvec__min_df': 3, 'cvec__ngram_range': (1, 2), 'cvec__stop_words': 'english'}\n",
      "Cross validated Score is 0.8943283582089553\n",
      "Train set accuracy is 0.9208955223880597\n",
      "Test set accuracy is 0.8854545454545455\n"
     ]
    }
   ],
   "source": [
    "# Get model info\n",
    "\n",
    "model_info(gs_cvec_mnb)"
   ]
  },
  {
   "cell_type": "code",
   "execution_count": 120,
   "id": "40fc1524",
   "metadata": {},
   "outputs": [],
   "source": [
    "# Name model\n",
    "\n",
    "model_2a = \"Model 2a (Cvec with MNB)\""
   ]
  },
  {
   "cell_type": "code",
   "execution_count": 121,
   "id": "8bcc9de1",
   "metadata": {},
   "outputs": [
    {
     "name": "stderr",
     "output_type": "stream",
     "text": [
      "C:\\Users\\User\\.conda\\envs\\dsi\\lib\\site-packages\\sklearn\\utils\\deprecation.py:87: FutureWarning: Function plot_confusion_matrix is deprecated; Function `plot_confusion_matrix` is deprecated in 1.0 and will be removed in 1.2. Use one of the class methods: ConfusionMatrixDisplay.from_predictions or ConfusionMatrixDisplay.from_estimator.\n",
      "  warnings.warn(msg, category=FutureWarning)\n"
     ]
    },
    {
     "data": {
      "image/png": "[encoded data removed]",
      "text/plain": [
       "<Figure size 432x288 with 2 Axes>"
      ]
     },
     "metadata": {
      "needs_background": "light"
     },
     "output_type": "display_data"
    }
   ],
   "source": [
    "# Confusion matrix for Train set\n",
    "\n",
    "conf_matrix(gs_cvec_mnb, \"Train\", X_train, y_train, model_2a)"
   ]
  },
  {
   "cell_type": "code",
   "execution_count": 122,
   "id": "4092077f",
   "metadata": {},
   "outputs": [
    {
     "name": "stderr",
     "output_type": "stream",
     "text": [
      "C:\\Users\\User\\.conda\\envs\\dsi\\lib\\site-packages\\sklearn\\utils\\deprecation.py:87: FutureWarning: Function plot_confusion_matrix is deprecated; Function `plot_confusion_matrix` is deprecated in 1.0 and will be removed in 1.2. Use one of the class methods: ConfusionMatrixDisplay.from_predictions or ConfusionMatrixDisplay.from_estimator.\n",
      "  warnings.warn(msg, category=FutureWarning)\n"
     ]
    },
    {
     "data": {
      "image/png": "[encoded data removed]",
      "text/plain": [
       "<Figure size 432x288 with 2 Axes>"
      ]
     },
     "metadata": {
      "needs_background": "light"
     },
     "output_type": "display_data"
    }
   ],
   "source": [
    "# Confusion matrix for Test set\n",
    "\n",
    "conf_matrix(gs_cvec_mnb, \"Test\", X_test, y_test, model_2a)"
   ]
  },
  {
   "cell_type": "code",
   "execution_count": 123,
   "id": "bcc0bde6",
   "metadata": {},
   "outputs": [
    {
     "name": "stdout",
     "output_type": "stream",
     "text": [
      "Model 2a (Cvec with MNB) Train set Sensitivity: 0.94\n",
      "Model 2a (Cvec with MNB) Train set Specificity: 0.90\n",
      "Model 2a (Cvec with MNB) Train set AUC ROC: 0.97\n"
     ]
    }
   ],
   "source": [
    "# Get evaluation metrics for train set\n",
    "\n",
    "eval_metrics(gs_cvec_mnb, \"Train\", X_train, y_train, model_2a)"
   ]
  },
  {
   "cell_type": "code",
   "execution_count": 124,
   "id": "0bd0c327",
   "metadata": {},
   "outputs": [
    {
     "name": "stdout",
     "output_type": "stream",
     "text": [
      "Model 2a (Cvec with MNB) Test set Sensitivity: 0.92\n",
      "Model 2a (Cvec with MNB) Test set Specificity: 0.86\n",
      "Model 2a (Cvec with MNB) Test set AUC ROC: 0.95\n"
     ]
    }
   ],
   "source": [
    "# Get evaluation metrics for test set\n",
    "\n",
    "eval_metrics(gs_cvec_mnb, \"Test\", X_test, y_test, model_2a)"
   ]
  },
  {
   "cell_type": "code",
   "execution_count": null,
   "id": "87010647",
   "metadata": {},
   "outputs": [],
   "source": [
    "# Save relative feature log prob\n",
    "\n",
    "mnb_cvec_coef = []\n",
    "for x, y in zip(gs_cvec_mnb.best_estimator_[0].get_feature_names(), gs_cvec_mnb.best_estimator_[1].feature_log_prob_.T):\n",
    "    mnb_cvec_coef.append(\n",
    "        {'ngrams':x,\n",
    "         'coef_0':y[0],\n",
    "         'coef_1':y[1]\n",
    "        })\n",
    "\n",
    "mnb_cvec_coef = pd.DataFrame(mnb_cvec_coef)\n",
    "mnb_cvec_coef['diff'] = abs(mnb_cvec_coef['coef_0']-mnb_cvec_coef['coef_1'])\n",
    "\n",
    "mnb_cvec_coef.to_csv(r'mnb_cvec_coef.csv', index=False)"
   ]
  },
  {
   "cell_type": "code",
   "execution_count": 117,
   "id": "9393520a",
   "metadata": {},
   "outputs": [
    {
     "name": "stderr",
     "output_type": "stream",
     "text": [
      "C:\\Users\\User\\.conda\\envs\\dsi\\lib\\site-packages\\sklearn\\utils\\deprecation.py:87: FutureWarning: Function get_feature_names is deprecated; get_feature_names is deprecated in 1.0 and will be removed in 1.2. Please use get_feature_names_out instead.\n",
      "  warnings.warn(msg, category=FutureWarning)\n"
     ]
    }
   ],
   "source": [
    "# Save dataframe of tokens\n",
    "\n",
    "vec =  CountVectorizer(stop_words='english', max_df=0.9, min_df=3,\n",
    "                max_features=20000, ngram_range=(1,2), )\n",
    "\n",
    "mnb_cvec_tok = tok(vec, X_train)\n",
    "mnb_cvec_tok['fulltext'] = list(X_train)\n",
    "mnb_cvec_tok.to_csv(r'mnb_cvec_tok.csv', index=False)"
   ]
  },
  {
   "cell_type": "markdown",
   "id": "4b735d9f",
   "metadata": {},
   "source": [
    "**Model 2b (TfidfVectorizer with MultinomialNaiveBayes)**"
   ]
  },
  {
   "cell_type": "code",
   "execution_count": 125,
   "id": "17b34097",
   "metadata": {},
   "outputs": [],
   "source": [
    "# Setup pipeline\n",
    "# 1. TfidVectorizer (transformer)\n",
    "# 2. Multinomial Naive Bayes (estimator)\n",
    "\n",
    "pipe = Pipeline([\n",
    "    ('tvec', TfidfVectorizer()),\n",
    "    ('nb', MultinomialNB())\n",
    "])\n",
    "\n",
    "pipe_params = {\n",
    "    'tvec__max_features': [5_000, 10_000, 20_000],\n",
    "    'tvec__min_df': [3, 5],\n",
    "    'tvec__max_df': [.9, .85],\n",
    "    'tvec__ngram_range': [(1,1), (1,2)],\n",
    "    'tvec__stop_words': ['english']\n",
    "}\n",
    "\n",
    "gs_tvec_mnb = GridSearchCV(pipe,\n",
    "                  param_grid=pipe_params, # search parameters\n",
    "                  cv=5)                   # 5-fold cross-validation\n"
   ]
  },
  {
   "cell_type": "code",
   "execution_count": 126,
   "id": "4571fdbf",
   "metadata": {},
   "outputs": [
    {
     "data": {
      "text/plain": [
       "GridSearchCV(cv=5,\n",
       "             estimator=Pipeline(steps=[('tvec', TfidfVectorizer()),\n",
       "                                       ('nb', MultinomialNB())]),\n",
       "             param_grid={'tvec__max_df': [0.9, 0.85],\n",
       "                         'tvec__max_features': [5000, 10000, 20000],\n",
       "                         'tvec__min_df': [3, 5],\n",
       "                         'tvec__ngram_range': [(1, 1), (1, 2)],\n",
       "                         'tvec__stop_words': ['english']})"
      ]
     },
     "execution_count": 126,
     "metadata": {},
     "output_type": "execute_result"
    }
   ],
   "source": [
    "# Fit GridSearch to training data\n",
    "\n",
    "gs_tvec_mnb.fit(X_train, y_train)"
   ]
  },
  {
   "cell_type": "code",
   "execution_count": 127,
   "id": "1ea10452",
   "metadata": {},
   "outputs": [
    {
     "name": "stdout",
     "output_type": "stream",
     "text": [
      "{'tvec__max_df': 0.9, 'tvec__max_features': 20000, 'tvec__min_df': 3, 'tvec__ngram_range': (1, 2), 'tvec__stop_words': 'english'}\n",
      "Cross validated Score is 0.8931343283582089\n",
      "Train set accuracy is 0.9244029850746268\n",
      "Test set accuracy is 0.8846969696969696\n"
     ]
    }
   ],
   "source": [
    "# Get model info\n",
    "\n",
    "model_info(gs_tvec_mnb)"
   ]
  },
  {
   "cell_type": "code",
   "execution_count": 128,
   "id": "06316fe9",
   "metadata": {},
   "outputs": [],
   "source": [
    "# Name model\n",
    "\n",
    "model_2b = \"Model 2b (Tvec with MNB)\""
   ]
  },
  {
   "cell_type": "code",
   "execution_count": 129,
   "id": "8aaf61cc",
   "metadata": {},
   "outputs": [
    {
     "name": "stderr",
     "output_type": "stream",
     "text": [
      "C:\\Users\\User\\.conda\\envs\\dsi\\lib\\site-packages\\sklearn\\utils\\deprecation.py:87: FutureWarning: Function plot_confusion_matrix is deprecated; Function `plot_confusion_matrix` is deprecated in 1.0 and will be removed in 1.2. Use one of the class methods: ConfusionMatrixDisplay.from_predictions or ConfusionMatrixDisplay.from_estimator.\n",
      "  warnings.warn(msg, category=FutureWarning)\n"
     ]
    },
    {
     "data": {
      "image/png": "[encoded data removed]",
      "text/plain": [
       "<Figure size 432x288 with 2 Axes>"
      ]
     },
     "metadata": {
      "needs_background": "light"
     },
     "output_type": "display_data"
    }
   ],
   "source": [
    "# Confusion matrix for Train set\n",
    "\n",
    "conf_matrix(gs_tvec_mnb, \"Train\", X_train, y_train, model_2b)"
   ]
  },
  {
   "cell_type": "code",
   "execution_count": 130,
   "id": "e3d4cbff",
   "metadata": {},
   "outputs": [
    {
     "name": "stderr",
     "output_type": "stream",
     "text": [
      "C:\\Users\\User\\.conda\\envs\\dsi\\lib\\site-packages\\sklearn\\utils\\deprecation.py:87: FutureWarning: Function plot_confusion_matrix is deprecated; Function `plot_confusion_matrix` is deprecated in 1.0 and will be removed in 1.2. Use one of the class methods: ConfusionMatrixDisplay.from_predictions or ConfusionMatrixDisplay.from_estimator.\n",
      "  warnings.warn(msg, category=FutureWarning)\n"
     ]
    },
    {
     "data": {
      "image/png": "[encoded data removed]",
      "text/plain": [
       "<Figure size 432x288 with 2 Axes>"
      ]
     },
     "metadata": {
      "needs_background": "light"
     },
     "output_type": "display_data"
    }
   ],
   "source": [
    "# Confusion matrix for Test set\n",
    "\n",
    "conf_matrix(gs_tvec_mnb, \"Test\", X_test, y_test, model_2b)"
   ]
  },
  {
   "cell_type": "code",
   "execution_count": 131,
   "id": "7f5ef311",
   "metadata": {},
   "outputs": [
    {
     "name": "stdout",
     "output_type": "stream",
     "text": [
      "Model 2b (Tvec with MNB) Train set Sensitivity: 0.94\n",
      "Model 2b (Tvec with MNB) Train set Specificity: 0.91\n",
      "Model 2b (Tvec with MNB) Train set AUC ROC: 0.98\n"
     ]
    }
   ],
   "source": [
    "# Get evaluation metrics for train set\n",
    "\n",
    "eval_metrics(gs_tvec_mnb, \"Train\", X_train, y_train, model_2b)"
   ]
  },
  {
   "cell_type": "code",
   "execution_count": 133,
   "id": "90dac6d7",
   "metadata": {},
   "outputs": [
    {
     "name": "stdout",
     "output_type": "stream",
     "text": [
      "Model 2b (Tvec with MNB) Test set Sensitivity: 0.92\n",
      "Model 2b (Tvec with MNB) Test set Specificity: 0.86\n",
      "Model 2b (Tvec with MNB) Test set AUC ROC: 0.95\n"
     ]
    }
   ],
   "source": [
    "# Get evaluation metrics for test set\n",
    "\n",
    "eval_metrics(gs_tvec_mnb, \"Test\", X_test, y_test, model_2b)"
   ]
  },
  {
   "cell_type": "code",
   "execution_count": null,
   "id": "cfd55a82",
   "metadata": {},
   "outputs": [],
   "source": [
    "# Save relative feature log prob\n",
    "\n",
    "mnb_tvec_coef = []\n",
    "for x, y in zip(gs_tvec_mnb.best_estimator_[0].get_feature_names(), gs_tvec_mnb.best_estimator_[1].feature_log_prob_.T):\n",
    "    mnb_tvec_coef.append(\n",
    "        {'ngrams':x,\n",
    "         'coef_0':y[0],\n",
    "         'coef_1':y[1]\n",
    "        })\n",
    "\n",
    "mnb_tvec_coef = pd.DataFrame(mnb_tvec_coef)\n",
    "mnb_tvec_coef['diff'] = abs(mnb_tvec_coef['coef_0']-mnb_tvec_coef['coef_1'])\n",
    "mnb_tvec_coef.to_csv(r'mnb_tvec_coef.csv', index=False)"
   ]
  },
  {
   "cell_type": "code",
   "execution_count": 118,
   "id": "6379e623",
   "metadata": {},
   "outputs": [
    {
     "name": "stderr",
     "output_type": "stream",
     "text": [
      "C:\\Users\\User\\.conda\\envs\\dsi\\lib\\site-packages\\sklearn\\utils\\deprecation.py:87: FutureWarning: Function get_feature_names is deprecated; get_feature_names is deprecated in 1.0 and will be removed in 1.2. Please use get_feature_names_out instead.\n",
      "  warnings.warn(msg, category=FutureWarning)\n"
     ]
    }
   ],
   "source": [
    "# Save dataframe of tokens\n",
    "\n",
    "vec =  TfidfVectorizer(stop_words='english', max_df=0.9, min_df=3,\n",
    "                max_features=20000, ngram_range=(1,2), )\n",
    "\n",
    "mnb_tvec_tok = tok(vec, X_train)\n",
    "mnb_tvec_tok['fulltext'] = list(X_train)\n",
    "mnb_tvec_tok.to_csv(r'mnb_tvec_tok.csv', index=False)"
   ]
  },
  {
   "cell_type": "markdown",
   "id": "7ef9a539",
   "metadata": {},
   "source": [
    "**Model 3a (CountVectorizer with RandomForest)**"
   ]
  },
  {
   "cell_type": "code",
   "execution_count": 157,
   "id": "aec74642",
   "metadata": {},
   "outputs": [],
   "source": [
    "# Setup pipeline\n",
    "# 1. CountVectorizer (transformer)\n",
    "# 2. Random Forest Classifier (estimator)\n",
    "\n",
    "pipe = Pipeline([\n",
    "    ('cvec', CountVectorizer()),\n",
    "    ('rf', RandomForestClassifier())\n",
    "])\n",
    "\n",
    "pipe_params = {\n",
    "    'cvec__max_features': [5_000, 10_000, 20_000],\n",
    "    'cvec__min_df': [3, 5],\n",
    "    'cvec__max_df': [.85, .9, .95],\n",
    "    'cvec__ngram_range': [(1,1), (1,2)],\n",
    "    'cvec__stop_words': ['english'],\n",
    "    'rf__n_estimators': [100, 200],\n",
    "    'rf__max_depth': [None, 1, 3],\n",
    "    'rf__min_samples_leaf': [5, 10]\n",
    "}\n",
    "\n",
    "gs_cvec_rf = GridSearchCV(pipe,\n",
    "                  param_grid=pipe_params, # search parameters\n",
    "                  cv=5)                   # 5-fold cross-validation\n"
   ]
  },
  {
   "cell_type": "code",
   "execution_count": 158,
   "id": "a95cf2c4",
   "metadata": {},
   "outputs": [
    {
     "data": {
      "text/plain": [
       "GridSearchCV(cv=5,\n",
       "             estimator=Pipeline(steps=[('cvec', CountVectorizer()),\n",
       "                                       ('rf', RandomForestClassifier())]),\n",
       "             param_grid={'cvec__max_df': [0.85, 0.9, 0.95],\n",
       "                         'cvec__max_features': [5000, 10000, 20000],\n",
       "                         'cvec__min_df': [3, 5],\n",
       "                         'cvec__ngram_range': [(1, 1), (1, 2)],\n",
       "                         'cvec__stop_words': ['english'],\n",
       "                         'rf__max_depth': [None, 1, 3],\n",
       "                         'rf__min_samples_leaf': [5, 10],\n",
       "                         'rf__n_estimators': [100, 200]})"
      ]
     },
     "execution_count": 158,
     "metadata": {},
     "output_type": "execute_result"
    }
   ],
   "source": [
    "# Fit GridSearch to training data.\n",
    "gs_cvec_rf.fit(X_train, y_train)"
   ]
  },
  {
   "cell_type": "code",
   "execution_count": 159,
   "id": "db156d10",
   "metadata": {},
   "outputs": [
    {
     "name": "stdout",
     "output_type": "stream",
     "text": [
      "{'cvec__max_df': 0.9, 'cvec__max_features': 20000, 'cvec__min_df': 3, 'cvec__ngram_range': (1, 2), 'cvec__stop_words': 'english', 'rf__max_depth': None, 'rf__min_samples_leaf': 5, 'rf__n_estimators': 200}\n",
      "Cross validated Score is 0.8897014925373135\n",
      "Train set accuracy is 0.9188059701492537\n",
      "Test set accuracy is 0.8928787878787878\n"
     ]
    }
   ],
   "source": [
    "# Get model info\n",
    "model_info(gs_cvec_rf)"
   ]
  },
  {
   "cell_type": "code",
   "execution_count": 160,
   "id": "ad2c0cc0",
   "metadata": {},
   "outputs": [],
   "source": [
    "# Name model\n",
    "model_3a = \"Model 3a (Cvec with RF)\""
   ]
  },
  {
   "cell_type": "code",
   "execution_count": 161,
   "id": "0ed1deb4",
   "metadata": {},
   "outputs": [
    {
     "name": "stderr",
     "output_type": "stream",
     "text": [
      "C:\\Users\\User\\.conda\\envs\\dsi\\lib\\site-packages\\sklearn\\utils\\deprecation.py:87: FutureWarning: Function plot_confusion_matrix is deprecated; Function `plot_confusion_matrix` is deprecated in 1.0 and will be removed in 1.2. Use one of the class methods: ConfusionMatrixDisplay.from_predictions or ConfusionMatrixDisplay.from_estimator.\n",
      "  warnings.warn(msg, category=FutureWarning)\n"
     ]
    },
    {
     "data": {
      "image/png": "[encoded data removed]",
      "text/plain": [
       "<Figure size 432x288 with 2 Axes>"
      ]
     },
     "metadata": {
      "needs_background": "light"
     },
     "output_type": "display_data"
    }
   ],
   "source": [
    "# Confusion matrix for Train set\n",
    "conf_matrix(gs_cvec_rf, \"Train\", X_train, y_train, model_3a)"
   ]
  },
  {
   "cell_type": "code",
   "execution_count": 162,
   "id": "0c7df06c",
   "metadata": {},
   "outputs": [
    {
     "name": "stderr",
     "output_type": "stream",
     "text": [
      "C:\\Users\\User\\.conda\\envs\\dsi\\lib\\site-packages\\sklearn\\utils\\deprecation.py:87: FutureWarning: Function plot_confusion_matrix is deprecated; Function `plot_confusion_matrix` is deprecated in 1.0 and will be removed in 1.2. Use one of the class methods: ConfusionMatrixDisplay.from_predictions or ConfusionMatrixDisplay.from_estimator.\n",
      "  warnings.warn(msg, category=FutureWarning)\n"
     ]
    },
    {
     "data": {
      "image/png": "[encoded data removed]",
      "text/plain": [
       "<Figure size 432x288 with 2 Axes>"
      ]
     },
     "metadata": {
      "needs_background": "light"
     },
     "output_type": "display_data"
    }
   ],
   "source": [
    "# Confusion matrix for Train set\n",
    "conf_matrix(gs_cvec_rf, \"Test\", X_test, y_test, model_3a)"
   ]
  },
  {
   "cell_type": "code",
   "execution_count": 163,
   "id": "7e4ee327",
   "metadata": {},
   "outputs": [
    {
     "name": "stdout",
     "output_type": "stream",
     "text": [
      "Model 3a (Cvec with RF) Train set Sensitivity: 0.92\n",
      "Model 3a (Cvec with RF) Train set Specificity: 0.92\n",
      "Model 3a (Cvec with RF) Train set AUC ROC: 0.97\n"
     ]
    }
   ],
   "source": [
    "# Get evaluation metrics for train set\n",
    "eval_metrics(gs_cvec_rf, \"Train\", X_train, y_train, model_3a)"
   ]
  },
  {
   "cell_type": "code",
   "execution_count": 164,
   "id": "1554dfe5",
   "metadata": {},
   "outputs": [
    {
     "name": "stdout",
     "output_type": "stream",
     "text": [
      "Model 3a (Cvec with RF) Test set Sensitivity: 0.90\n",
      "Model 3a (Cvec with RF) Test set Specificity: 0.89\n",
      "Model 3a (Cvec with RF) Test set AUC ROC: 0.96\n"
     ]
    }
   ],
   "source": [
    "# Get evaluation metrics for test set\n",
    "eval_metrics(gs_cvec_rf, \"Test\", X_test, y_test, model_3a)"
   ]
  },
  {
   "cell_type": "code",
   "execution_count": null,
   "id": "891d5796",
   "metadata": {},
   "outputs": [],
   "source": [
    "# Save Features Importances\n",
    "\n",
    "feature_names = gs_cvec_rf.best_estimator_[0].get_feature_names()\n",
    "importances = gs_cvec_rf.best_estimator_[1].feature_importances_\n",
    "\n",
    "rf_cvec_impt = pd.DataFrame(\n",
    "    importances,\n",
    "    index = feature_names,\n",
    "    columns = ['impurity_dec']\n",
    ")\n",
    "\n",
    "rf_cvec_impt.to_csv(r'rf_cvec_impt.csv')"
   ]
  },
  {
   "cell_type": "code",
   "execution_count": 120,
   "id": "8730012a",
   "metadata": {},
   "outputs": [
    {
     "name": "stderr",
     "output_type": "stream",
     "text": [
      "C:\\Users\\User\\.conda\\envs\\dsi\\lib\\site-packages\\sklearn\\utils\\deprecation.py:87: FutureWarning: Function get_feature_names is deprecated; get_feature_names is deprecated in 1.0 and will be removed in 1.2. Please use get_feature_names_out instead.\n",
      "  warnings.warn(msg, category=FutureWarning)\n"
     ]
    }
   ],
   "source": [
    "# Save dataframe of tokens\n",
    "\n",
    "vec =  CountVectorizer(stop_words='english', max_df=0.9, min_df=3,\n",
    "                max_features=20000, ngram_range=(1,2), )\n",
    "\n",
    "rf_cvec_tok = tok(vec, X_train)\n",
    "rf_cvec_tok['fulltext'] = list(X_train)\n",
    "rf_cvec_tok.to_csv(r'rf_cvec_tok.csv', index=False)"
   ]
  },
  {
   "cell_type": "code",
   "execution_count": 124,
   "id": "74fe5bd8",
   "metadata": {},
   "outputs": [],
   "source": [
    "rf_cvec_tok['fulltext'] = list(X_train)\n",
    "rf_cvec_tok.to_csv(r'rf_cvec_tok.csv', index=False)"
   ]
  },
  {
   "cell_type": "markdown",
   "id": "645d0d2c",
   "metadata": {},
   "source": [
    "**Model 3b (TfidVectorizer with RandomForest)**"
   ]
  },
  {
   "cell_type": "code",
   "execution_count": 171,
   "id": "229e8846",
   "metadata": {},
   "outputs": [],
   "source": [
    "# Setup pipeline\n",
    "# 1. TfidVectorizer (transformer)\n",
    "# 2. Random Forest Classifier (estimator)\n",
    "\n",
    "pipe = Pipeline([\n",
    "    ('tvec', TfidfVectorizer()),\n",
    "    ('rf', RandomForestClassifier())\n",
    "])\n",
    "\n",
    "pipe_params = {\n",
    "    'tvec__max_features': [20_000, 30_000],\n",
    "    'tvec__min_df': [3, 4],\n",
    "    'tvec__max_df': [.9, .95],\n",
    "    'tvec__ngram_range': [(1,1), (1,2)],\n",
    "    'tvec__stop_words': ['english'],\n",
    "    'rf__n_estimators': [200, 300],\n",
    "    'rf__max_depth': [None, 5, 10],\n",
    "    'rf__min_samples_leaf': [3, 5]\n",
    "}\n",
    "\n",
    "gs_tvec_rf = GridSearchCV(pipe,\n",
    "                  param_grid=pipe_params, # search parameters\n",
    "                  cv=5)                   # 5-fold cross-validation\n"
   ]
  },
  {
   "cell_type": "code",
   "execution_count": 373,
   "id": "6d1c63b9",
   "metadata": {},
   "outputs": [
    {
     "data": {
      "text/plain": [
       "GridSearchCV(cv=5,\n",
       "             estimator=Pipeline(steps=[('tvec', TfidfVectorizer()),\n",
       "                                       ('rf', RandomForestClassifier())]),\n",
       "             param_grid={'rf__max_depth': [None], 'rf__min_samples_leaf': [3],\n",
       "                         'rf__n_estimators': [300], 'tvec__max_df': [0.9],\n",
       "                         'tvec__max_features': [30000], 'tvec__min_df': [3],\n",
       "                         'tvec__ngram_range': [(1, 2)],\n",
       "                         'tvec__stop_words': ['english']})"
      ]
     },
     "execution_count": 373,
     "metadata": {},
     "output_type": "execute_result"
    }
   ],
   "source": [
    "# Fit GridSearch to training data.\n",
    "best_tvec_rf.fit(X_train, y_train)"
   ]
  },
  {
   "cell_type": "code",
   "execution_count": 374,
   "id": "655a53be",
   "metadata": {},
   "outputs": [
    {
     "name": "stdout",
     "output_type": "stream",
     "text": [
      "{'rf__max_depth': None, 'rf__min_samples_leaf': 3, 'rf__n_estimators': 300, 'tvec__max_df': 0.9, 'tvec__max_features': 30000, 'tvec__min_df': 3, 'tvec__ngram_range': (1, 2), 'tvec__stop_words': 'english'}\n",
      "Cross validated Score is 0.8888805970149253\n",
      "Train set accuracy is 0.9479850746268657\n",
      "Test set accuracy is 0.894090909090909\n"
     ]
    }
   ],
   "source": [
    "# Get model info\n",
    "model_info(best_tvec_rf)"
   ]
  },
  {
   "cell_type": "code",
   "execution_count": 376,
   "id": "b93d3aa3",
   "metadata": {},
   "outputs": [
    {
     "name": "stdout",
     "output_type": "stream",
     "text": [
      "Model 2b (Tvec with MNB) Train set Sensitivity: 0.954\n",
      "Model 2b (Tvec with MNB) Train set Specificity: 0.943\n",
      "Model 2b (Tvec with MNB) Train set AUC ROC: 0.990\n"
     ]
    }
   ],
   "source": [
    "# Get evaluation metrics for train set\n",
    "eval_metrics(best_tvec_rf, \"Train\", X_train, y_train, model_2b)"
   ]
  },
  {
   "cell_type": "code",
   "execution_count": 377,
   "id": "f8c525ce",
   "metadata": {},
   "outputs": [
    {
     "name": "stdout",
     "output_type": "stream",
     "text": [
      "Model 2b (Tvec with MNB) Test set Sensitivity: 0.902\n",
      "Model 2b (Tvec with MNB) Test set Specificity: 0.888\n",
      "Model 2b (Tvec with MNB) Test set AUC ROC: 0.959\n"
     ]
    }
   ],
   "source": [
    "# Get evaluation metrics for test set\n",
    "eval_metrics(best_tvec_rf, \"Test\", X_test, y_test, model_2b)"
   ]
  },
  {
   "cell_type": "code",
   "execution_count": 172,
   "id": "aefd1cad",
   "metadata": {},
   "outputs": [],
   "source": [
    "# Name model\n",
    "model_3b = \"Model 3b (Tvec with RF)\" "
   ]
  },
  {
   "cell_type": "code",
   "execution_count": 178,
   "id": "0c4099f3",
   "metadata": {},
   "outputs": [
    {
     "name": "stdout",
     "output_type": "stream",
     "text": [
      "{'rf__max_depth': None, 'rf__min_samples_leaf': 3, 'rf__n_estimators': 300, 'tvec__max_df': 0.9, 'tvec__max_features': 30000, 'tvec__min_df': 3, 'tvec__ngram_range': (1, 2), 'tvec__stop_words': 'english'}\n",
      "Cross validated Score is 0.8911194029850746\n",
      "Train set accuracy is 0.9485820895522388\n",
      "Test set accuracy is 0.8939393939393939\n"
     ]
    }
   ],
   "source": [
    "# Get model info\n",
    "model_info(gs_tvec_rf)"
   ]
  },
  {
   "cell_type": "code",
   "execution_count": 173,
   "id": "194c2484",
   "metadata": {},
   "outputs": [
    {
     "data": {
      "text/plain": [
       "GridSearchCV(cv=5,\n",
       "             estimator=Pipeline(steps=[('tvec', TfidfVectorizer()),\n",
       "                                       ('rf', RandomForestClassifier())]),\n",
       "             param_grid={'rf__max_depth': [None, 5, 10],\n",
       "                         'rf__min_samples_leaf': [3, 5],\n",
       "                         'rf__n_estimators': [200, 300],\n",
       "                         'tvec__max_df': [0.9, 0.95],\n",
       "                         'tvec__max_features': [20000, 30000],\n",
       "                         'tvec__min_df': [3, 4],\n",
       "                         'tvec__ngram_range': [(1, 1), (1, 2)],\n",
       "                         'tvec__stop_words': ['english']})"
      ]
     },
     "execution_count": 173,
     "metadata": {},
     "output_type": "execute_result"
    }
   ],
   "source": [
    "# Fit GridSearch to training data.\n",
    "gs_tvec_rf.fit(X_train, y_train)"
   ]
  },
  {
   "cell_type": "code",
   "execution_count": 174,
   "id": "c2fe200b",
   "metadata": {},
   "outputs": [
    {
     "name": "stderr",
     "output_type": "stream",
     "text": [
      "C:\\Users\\User\\.conda\\envs\\dsi\\lib\\site-packages\\sklearn\\utils\\deprecation.py:87: FutureWarning: Function plot_confusion_matrix is deprecated; Function `plot_confusion_matrix` is deprecated in 1.0 and will be removed in 1.2. Use one of the class methods: ConfusionMatrixDisplay.from_predictions or ConfusionMatrixDisplay.from_estimator.\n",
      "  warnings.warn(msg, category=FutureWarning)\n"
     ]
    },
    {
     "data": {
      "image/png": "[encoded data removed]",
      "text/plain": [
       "<Figure size 432x288 with 2 Axes>"
      ]
     },
     "metadata": {
      "needs_background": "light"
     },
     "output_type": "display_data"
    }
   ],
   "source": [
    "# Confusion matrix for Train set\n",
    "conf_matrix(gs_tvec_rf, \"Train\", X_train, y_train, model_3b)"
   ]
  },
  {
   "cell_type": "code",
   "execution_count": 175,
   "id": "6f0aa0d5",
   "metadata": {},
   "outputs": [
    {
     "name": "stderr",
     "output_type": "stream",
     "text": [
      "C:\\Users\\User\\.conda\\envs\\dsi\\lib\\site-packages\\sklearn\\utils\\deprecation.py:87: FutureWarning: Function plot_confusion_matrix is deprecated; Function `plot_confusion_matrix` is deprecated in 1.0 and will be removed in 1.2. Use one of the class methods: ConfusionMatrixDisplay.from_predictions or ConfusionMatrixDisplay.from_estimator.\n",
      "  warnings.warn(msg, category=FutureWarning)\n"
     ]
    },
    {
     "data": {
      "image/png": "[encoded data removed]",
      "text/plain": [
       "<Figure size 432x288 with 2 Axes>"
      ]
     },
     "metadata": {
      "needs_background": "light"
     },
     "output_type": "display_data"
    }
   ],
   "source": [
    "# Confusion matrix for Train set\n",
    "conf_matrix(gs_tvec_rf, \"Test\", X_test, y_test, model_3b)"
   ]
  },
  {
   "cell_type": "code",
   "execution_count": 176,
   "id": "004a4b67",
   "metadata": {},
   "outputs": [
    {
     "name": "stdout",
     "output_type": "stream",
     "text": [
      "Model 3b (Tvec with RF) Train set Sensitivity: 0.95\n",
      "Model 3b (Tvec with RF) Train set Specificity: 0.94\n",
      "Model 3b (Tvec with RF) Train set AUC ROC: 0.99\n"
     ]
    }
   ],
   "source": [
    "# Get evaluation metrics for train set\n",
    "eval_metrics(gs_tvec_rf, \"Train\", X_train, y_train, model_3b)"
   ]
  },
  {
   "cell_type": "code",
   "execution_count": 177,
   "id": "7f1b6f7a",
   "metadata": {},
   "outputs": [
    {
     "name": "stdout",
     "output_type": "stream",
     "text": [
      "Model 3b (Tvec with RF) Test set Sensitivity: 0.90\n",
      "Model 3b (Tvec with RF) Test set Specificity: 0.89\n",
      "Model 3b (Tvec with RF) Test set AUC ROC: 0.96\n"
     ]
    }
   ],
   "source": [
    "# Get evaluation metrics for test set\n",
    "eval_metrics(gs_tvec_rf, \"Test\", X_test, y_test, model_3b)"
   ]
  },
  {
   "cell_type": "code",
   "execution_count": null,
   "id": "d34495df",
   "metadata": {},
   "outputs": [],
   "source": [
    "# Save Feature Importances\n",
    "\n",
    "feature_names = gs_tvec_rf.best_estimator_[0].get_feature_names()\n",
    "importances = gs_tvec_rf.best_estimator_[1].feature_importances_\n",
    "\n",
    "rf_tvec_impt = pd.DataFrame(\n",
    "    importances,\n",
    "    index = feature_names,\n",
    "    columns = ['impurity_dec']\n",
    ")\n",
    "\n",
    "rf_tvec_impt.to_csv(r'rf_tvec_impt.csv')"
   ]
  },
  {
   "cell_type": "code",
   "execution_count": 119,
   "id": "329e8d7f",
   "metadata": {},
   "outputs": [
    {
     "name": "stderr",
     "output_type": "stream",
     "text": [
      "C:\\Users\\User\\.conda\\envs\\dsi\\lib\\site-packages\\sklearn\\utils\\deprecation.py:87: FutureWarning: Function get_feature_names is deprecated; get_feature_names is deprecated in 1.0 and will be removed in 1.2. Please use get_feature_names_out instead.\n",
      "  warnings.warn(msg, category=FutureWarning)\n"
     ]
    }
   ],
   "source": [
    "# Save dataframe of tokens\n",
    "\n",
    "vec =  TfidfVectorizer(stop_words='english', max_df=0.9, min_df=3,\n",
    "                max_features=30000, ngram_range=(1,2), )\n",
    "\n",
    "rf_tvec_tok = tok(vec, X_train)\n",
    "rf_tvec_tok['fulltext'] = list(X_train)\n",
    "rf_tvec_tok.to_csv(r'rf_tvec_tok.csv', index=False)"
   ]
  },
  {
   "cell_type": "markdown",
   "id": "62f32b3c",
   "metadata": {},
   "source": [
    "### Summary of Models and the \"best hyperparameter combination\" recommended by GridSearch\n",
    "\n",
    "|            |                                   | **Max Features** | **Min df** | **Max df**      | **ngram_ range** | **Kneighbours** | **Random Forest params**                                                 |\n",
    "|------------|-----------------------------------|------------------|------------|-----------------|------------------|-----------------|--------------------------------------------------------------------------|\n",
    "| **Models** | **GridSearch Parameters**         | **2k-30k**       | **2 - 5**  | **0.85 - 0.95** | **(1,1), (1,2)** | **5-10**        | **n_est: 100-300**<br/> **m_depth: None-10**<br/> **min_leaf:3-10**<br/> |\n",
    "| Model 1a   | KNN with CountVectorizer          | 5k               | 3          | 0.9             | (1, 1)           | 10              | -                                                                        |\n",
    "| Model 1b   | KNN with TfidfVectorizer          | 5k               | 3          | 0.9             | (1, 1)           | 10              | -                                                                        |\n",
    "| Model 2a   | MNB with CountVectorizer          | 20k              | 3          | 0.9             | (1, 2)           | -               | -                                                                        |\n",
    "| Model 2b   | MNB with TfidfVectorizer          | 20k              | 3          | 0.9             | (1, 2)           | -               | -                                                                        |\n",
    "| Model 3a   | RF with CountVectorizer           | 20k              | 3          | 0.9             | (1, 2)           | -               | n_est: 200<br/> m_depth: None<br/> min_leaf: 5                           |\n",
    "| Model 3b   | RF with TfidfVectorizer           | 30k              | 3          | 0.9             | (1, 2)           | -               | n_est: 300<br/> m_depth: None<br/> min_leaf: 3                           |"
   ]
  },
  {
   "cell_type": "markdown",
   "id": "e4b459c9",
   "metadata": {},
   "source": [
    "**Max Features**<br/>\n",
    "It appears that for all models, gridsearch will reccomend the most number of features available. To consider expanding this limit in future models.\n",
    "\n",
    "**Min and Max Document Frequency**<br/>\n",
    "This hyperparameter seems to be rather stable across all models, with Min_df at 3 and Max_df at 0.9.\n",
    "\n",
    "**n_gram range**<br/>\n",
    "KNN appears to work best with unigrams while the other models work better with unigrams and bigrams. \n",
    "\n",
    "**Other hyperparameters**<br/>\n",
    "Once again, both KNN and RF appear to reccomend models with more nieghbors and trees respectively. This can be explored later on.\n",
    "\n",
    "Note: Models were NOT povided with all hyperparameters during GridSearch."
   ]
  },
  {
   "cell_type": "markdown",
   "id": "10891be1",
   "metadata": {},
   "source": [
    "### Summary of Model metrics based on \"best hyperparameter combination\"\n",
    "\n",
    "|          |                                   | **Train**    |          |          |             | **Test**     |          |          |             |\n",
    "|----------|-----------------------------------|--------------|----------|----------|-------------|--------------|----------|----------|-------------|\n",
    "|          |                                   | **Accuracy** | **Sens** | **Spec** | **AUC ROC** | **Accuracy** | **Sens** | **Spec** | **AUC ROC** |\n",
    "| Model 1a | CountVectorizer with KNN          | 0.82         | 0.81     | 0.83     | 0.90        | 0.73         | 0.72     | 0.73     | 0.81        |\n",
    "| Model 1b | TfidfVectorizer with KNN          | 0.87         | 0.85     | 0.88     | 0.95        | 0.81         | 0.80     | 0.82     | 0.89        |\n",
    "| Model 2a | CountVectorizer with MNB          | 0.90         | 0.93     | 0.89     | 0.96        | 0.88         | 0.92     | 0.86     | 0.95        |\n",
    "| Model 2b | TfidfVectorizer with MNB          | 0.91         | 0.93     | 0.89     | 0.97        | 0.88         | 0.92     | 0.86     | 0.95        |\n",
    "| Model 3a | CountVectorizer with RF           | 0.92         | 0.92     | 0.92     | 0.97        | 0.89         | 0.90     | 0.89     | 0.96        |\n",
    "| Model 3b | TfidfVectorizer with RF           | 0.95         | 0.95     | 0.94     | 0.99        | 0.89         | 0.90     | 0.89     | 0.96        |"
   ]
  },
  {
   "cell_type": "markdown",
   "id": "114499e7",
   "metadata": {},
   "source": [
    "**Model performance**<br/>\n",
    "The results overwhelmingly show that KNearestNeighbor algorithms perform the poorest. The reason for this is probably because KNN performs better when there are smaller number of features and sensitive to noise. Additionally, KNN is the only model that does not utilise bigrams.\n",
    "\n",
    "RF performs much better than MNB on the train set, however this performance is slighlty muted in the test set. RF and MNB's performance on the test set is close at 88-89%.\n",
    "\n",
    "**Sensitivity**<br/>\n",
    "Noted that while RF has better overall accuracy, MNB has better Sensitivity. This means that MNB will be able to identify ZeroWaste users better at the cost of overall accuracy.\n",
    "\n",
    "**Vectorizer performance**<br/>\n",
    "In both RF and MNB, TfidVectorizer has much better performance than CountVectorizer on the train set. But this effect is very much tapered in the test set.\n",
    "\n",
    "**Fitting**<br/>\n",
    "While it might appear that RF is more prone to overfitting due to the larger difference in the train and test accuracy. The accuracy is currently the best across all models."
   ]
  },
  {
   "cell_type": "markdown",
   "id": "0fa59aba",
   "metadata": {},
   "source": [
    "### Modelling Summary\n",
    "\n",
    "RandomForest appears to be slightly better than MNB in terms of overall accuracy on the Test Set. However, MNB has a slightly better sensitivity then RF. Since both models are very close, we will proceed to perform feature analysis on both models."
   ]
  },
  {
   "cell_type": "markdown",
   "id": "5e868502",
   "metadata": {},
   "source": [
    "# Feature and Error Analysis\n",
    "Using the errors in MNB and RF, we will proceed to inspect the features.\n",
    "\n",
    "\n",
    "**Investigate most influential features**<br/>1) Top relative feature log prob for MNB models and top feature importances (ie. decrease in impurity) for RF model will be inspected. Words that appear out of place will be added to a stopword list.\n",
    "\n",
    "\n",
    "**Investigate wrongly classified posts and their words**<br/>\n",
    "2) Top words in misclassified posts for MNB and RF models will be inspected. Common words which do not fit in either subreddit and are more like \"connector\" words, they are added to a set of stop words to test later."
   ]
  },
  {
   "cell_type": "markdown",
   "id": "0b3c9dd6",
   "metadata": {},
   "source": [
    "<font color = \"red\">\n",
    "    \n",
    "### Caution!!!\n",
    "\n",
    "This section will not run as the required datasets are not uploaded.\n",
    "They are more than 1GB which exceeds github's user capacity.\n",
    "</font> \n",
    "\n",
    "Please skip to \"Investigate wrongly classified posts and their words\""
   ]
  },
  {
   "cell_type": "markdown",
   "id": "ffd78e47",
   "metadata": {},
   "source": [
    "### Investigate most influential features"
   ]
  },
  {
   "cell_type": "code",
   "execution_count": 110,
   "id": "d3755320",
   "metadata": {},
   "outputs": [
    {
     "data": {
      "text/html": [
       "<div>\n",
       "<style scoped>\n",
       "    .dataframe tbody tr th:only-of-type {\n",
       "        vertical-align: middle;\n",
       "    }\n",
       "\n",
       "    .dataframe tbody tr th {\n",
       "        vertical-align: top;\n",
       "    }\n",
       "\n",
       "    .dataframe thead th {\n",
       "        text-align: right;\n",
       "    }\n",
       "</style>\n",
       "<table border=\"1\" class=\"dataframe\">\n",
       "  <thead>\n",
       "    <tr style=\"text-align: right;\">\n",
       "      <th></th>\n",
       "      <th>ngrams</th>\n",
       "      <th>coef_0</th>\n",
       "      <th>coef_1</th>\n",
       "      <th>diff</th>\n",
       "    </tr>\n",
       "  </thead>\n",
       "  <tbody>\n",
       "    <tr>\n",
       "      <th>0</th>\n",
       "      <td>00</td>\n",
       "      <td>-8.229845</td>\n",
       "      <td>-10.073893</td>\n",
       "      <td>1.844048</td>\n",
       "    </tr>\n",
       "    <tr>\n",
       "      <th>1</th>\n",
       "      <td>000</td>\n",
       "      <td>-7.528040</td>\n",
       "      <td>-8.717451</td>\n",
       "      <td>1.189412</td>\n",
       "    </tr>\n",
       "    <tr>\n",
       "      <th>2</th>\n",
       "      <td>000 000</td>\n",
       "      <td>-10.895336</td>\n",
       "      <td>-12.907106</td>\n",
       "      <td>2.011771</td>\n",
       "    </tr>\n",
       "    <tr>\n",
       "      <th>3</th>\n",
       "      <td>000 miles</td>\n",
       "      <td>-9.419429</td>\n",
       "      <td>-11.808494</td>\n",
       "      <td>2.389065</td>\n",
       "    </tr>\n",
       "    <tr>\n",
       "      <th>4</th>\n",
       "      <td>000 month</td>\n",
       "      <td>-11.183018</td>\n",
       "      <td>-12.907106</td>\n",
       "      <td>1.724089</td>\n",
       "    </tr>\n",
       "  </tbody>\n",
       "</table>\n",
       "</div>"
      ],
      "text/plain": [
       "      ngrams     coef_0     coef_1      diff\n",
       "0         00  -8.229845 -10.073893  1.844048\n",
       "1        000  -7.528040  -8.717451  1.189412\n",
       "2    000 000 -10.895336 -12.907106  2.011771\n",
       "3  000 miles  -9.419429 -11.808494  2.389065\n",
       "4  000 month -11.183018 -12.907106  1.724089"
      ]
     },
     "execution_count": 110,
     "metadata": {},
     "output_type": "execute_result"
    }
   ],
   "source": [
    "# Inspect relative feature log prob for CountVectorizer MNB\n",
    "\n",
    "mnb_cvec_coef = pd.read_csv('./datasets/mnb_cvec_coef.csv')\n",
    "mnb_cvec_coef.head()"
   ]
  },
  {
   "cell_type": "code",
   "execution_count": 196,
   "id": "975745ac",
   "metadata": {},
   "outputs": [
    {
     "data": {
      "text/html": [
       "<div>\n",
       "<style scoped>\n",
       "    .dataframe tbody tr th:only-of-type {\n",
       "        vertical-align: middle;\n",
       "    }\n",
       "\n",
       "    .dataframe tbody tr th {\n",
       "        vertical-align: top;\n",
       "    }\n",
       "\n",
       "    .dataframe thead th {\n",
       "        text-align: right;\n",
       "    }\n",
       "</style>\n",
       "<table border=\"1\" class=\"dataframe\">\n",
       "  <thead>\n",
       "    <tr style=\"text-align: right;\">\n",
       "      <th></th>\n",
       "      <th>ngrams</th>\n",
       "      <th>coef_0</th>\n",
       "      <th>coef_1</th>\n",
       "      <th>diff</th>\n",
       "    </tr>\n",
       "  </thead>\n",
       "  <tbody>\n",
       "    <tr>\n",
       "      <th>8410</th>\n",
       "      <td>ity</td>\n",
       "      <td>-7.651767</td>\n",
       "      <td>-12.907106</td>\n",
       "      <td>5.255339</td>\n",
       "    </tr>\n",
       "    <tr>\n",
       "      <th>8246</th>\n",
       "      <td>insurance</td>\n",
       "      <td>-6.476495</td>\n",
       "      <td>-11.520812</td>\n",
       "      <td>5.044317</td>\n",
       "    </tr>\n",
       "    <tr>\n",
       "      <th>15360</th>\n",
       "      <td>shampoo bar</td>\n",
       "      <td>-12.974777</td>\n",
       "      <td>-7.987125</td>\n",
       "      <td>4.987652</td>\n",
       "    </tr>\n",
       "    <tr>\n",
       "      <th>16459</th>\n",
       "      <td>straws</td>\n",
       "      <td>-12.974777</td>\n",
       "      <td>-8.047294</td>\n",
       "      <td>4.927483</td>\n",
       "    </tr>\n",
       "    <tr>\n",
       "      <th>3444</th>\n",
       "      <td>compostable</td>\n",
       "      <td>-12.281630</td>\n",
       "      <td>-7.434835</td>\n",
       "      <td>4.846794</td>\n",
       "    </tr>\n",
       "    <tr>\n",
       "      <th>2562</th>\n",
       "      <td>car insurance</td>\n",
       "      <td>-8.170756</td>\n",
       "      <td>-12.907106</td>\n",
       "      <td>4.736350</td>\n",
       "    </tr>\n",
       "    <tr>\n",
       "      <th>19998</th>\n",
       "      <td>zw</td>\n",
       "      <td>-12.974777</td>\n",
       "      <td>-8.243667</td>\n",
       "      <td>4.731110</td>\n",
       "    </tr>\n",
       "    <tr>\n",
       "      <th>14377</th>\n",
       "      <td>reducing waste</td>\n",
       "      <td>-12.974777</td>\n",
       "      <td>-8.374507</td>\n",
       "      <td>4.600270</td>\n",
       "    </tr>\n",
       "    <tr>\n",
       "      <th>10192</th>\n",
       "      <td>low waste</td>\n",
       "      <td>-11.588483</td>\n",
       "      <td>-7.007209</td>\n",
       "      <td>4.581274</td>\n",
       "    </tr>\n",
       "    <tr>\n",
       "      <th>5375</th>\n",
       "      <td>ethique</td>\n",
       "      <td>-12.974777</td>\n",
       "      <td>-8.512657</td>\n",
       "      <td>4.462120</td>\n",
       "    </tr>\n",
       "  </tbody>\n",
       "</table>\n",
       "</div>"
      ],
      "text/plain": [
       "               ngrams     coef_0     coef_1      diff\n",
       "8410              ity  -7.651767 -12.907106  5.255339\n",
       "8246        insurance  -6.476495 -11.520812  5.044317\n",
       "15360     shampoo bar -12.974777  -7.987125  4.987652\n",
       "16459          straws -12.974777  -8.047294  4.927483\n",
       "3444      compostable -12.281630  -7.434835  4.846794\n",
       "2562    car insurance  -8.170756 -12.907106  4.736350\n",
       "19998              zw -12.974777  -8.243667  4.731110\n",
       "14377  reducing waste -12.974777  -8.374507  4.600270\n",
       "10192       low waste -11.588483  -7.007209  4.581274\n",
       "5375          ethique -12.974777  -8.512657  4.462120"
      ]
     },
     "execution_count": 196,
     "metadata": {},
     "output_type": "execute_result"
    }
   ],
   "source": [
    "# screened through the top 120 important words\n",
    "# to identify those that are SUSPICIOUS\n",
    "\n",
    "mnb_cvec_coef.sort_values('diff', ascending = False)[:10]"
   ]
  },
  {
   "cell_type": "code",
   "execution_count": 104,
   "id": "7628a8af",
   "metadata": {},
   "outputs": [
    {
     "data": {
      "text/plain": [
       "19998                    zw\n",
       "8410                    ity\n",
       "10785           message mod\n",
       "439                     800\n",
       "14884                    rs\n",
       "12428    passionate capable\n",
       "Name: ngrams, dtype: object"
      ]
     },
     "execution_count": 104,
     "metadata": {},
     "output_type": "execute_result"
    }
   ],
   "source": [
    "# saved the top words whicha are SUSPICIOUS\n",
    "\n",
    "mnb_cvec_val = mnb_cvec_coef.T['ngrams'][[19998, 8410, 10785, 439, 14884, 12428]]\n",
    "mnb_cvec_val"
   ]
  },
  {
   "cell_type": "code",
   "execution_count": 107,
   "id": "ff31e56a",
   "metadata": {},
   "outputs": [
    {
     "data": {
      "text/plain": [
       "(13400, 20001)"
      ]
     },
     "execution_count": 107,
     "metadata": {},
     "output_type": "execute_result"
    }
   ],
   "source": [
    "# Open tokens file for MNB Cvec\n",
    "\n",
    "mnb_cvec_tok = pd.read_csv('./datasets/mnb_cvec_tok.csv')\n",
    "mnb_cvec_tok.shape"
   ]
  },
  {
   "cell_type": "code",
   "execution_count": 117,
   "id": "ecdc8355",
   "metadata": {},
   "outputs": [
    {
     "name": "stdout",
     "output_type": "stream",
     "text": [
      "(78,)\n"
     ]
    },
    {
     "data": {
      "text/plain": [
       "array([\"i am moving from vancouver to silicon valley. my company is providing temporary housing, travel expenses etc. they will also cover up to $200 usd worth of excess baggage fees. i am going via air and cannot go by land/car. i am moving in 2 weeks and i have the following options:option 1: use their services to ship up to 10 cubic metres worth of thingsoption 2: take additional $3k lump sum (post tax) and figure it out on my owni am considering option 2 because the only things i would even ship are:1. a double mattress + box spring2. a desk chair that isn't particularly fancy that i got for free3. my digital piano + stand (heavy)4. my bicycle (old and tattered, worth maybe $100)5. maybe 200 lbs worth of boxes with kitchen/office/random household itemsif i take option 2 i wouldn't ship my bed, chair, or bike. these are all things i'd like to have on the other side, and i figure it would cost me probably $800+ for a new bed, $200 for a desk chair, and probably $100-200 for a similar bike. i have no idea at the moment how much my piano + boxes would cost to ship internationally or how much of a hassle that would be.if i take option 1 i would just ship all these items of course. i'm considering option 1 because the cost of re-buying these items + the stress of dealing with movers + the cost of shipping might not be worth the maybe $1-1.5k i'd have leftover from the lump sum. however, although beds cost a lot i kind of want to get a bigger bed anyway since my boyfriend is in that area and is taller than a double bed is long. so that's another thing to consider.i'm really not sure what i should do here. i know neither option would be terrible probably but i would love to hear others' opinions and some recommendations of how i could ship my items on my own. i could have my parents hold them for a while and ship them over once i find permanent housing and leave the corporate housing which i have for 45 days. should i get my company to ship my things or take $3k usd?\",\n",
       "       'i recently rented a car through priceline and noticed that the insurance coverage for the car is through a third party called allianz global assistance. a little research suggests that they are one of the biggest trip insurance companies out there but this small line in the confirmation email `in addition, if your rental car agency suggests that this collision/damage policy is not valid, please give us a call at 1-800-892-0130 and we will be happy to confirm your coverage` had me guessing if there could be issues if the coverage is ever needed. is this how these travel sites are doing it now in order to pass the savings and be competitive? allianz global assistance car rental insurance?',\n",
       "       \"i spend about 200/week (180$ on groceries, a 20$ for eating out or forgetting my lunch) on food, i really need to trim it down since it's the biggest hole in my budget. meat is a big factor after i looked at my receipts, i want to know good alternatives to meat (esp lean chicken) that will still give me the nutriment i need to work.also just overall tips on how to reduce my bill, i'm canadian and the food price are wild. my grocery bill is 800$/month, i need help\",\n",
       "       'due to my impulsivity, panic, and inattention to detail, i made a slightly miscalculation.i made another thorough check and calculated between my wants expenses and saving.background: i make around 45k after tax, pay 800 rent(split w/ family)i didn’t include my expenses on needs since they’re all responsibilities.after checking carefully, the 32k came from wants, needs, bills, fees, and investment. my overall expenses on wants, solely on wants, is around 16k. that includes: skip the dishes, deliveries, drinking at the bar, ordering food at the bar, tobacco for pipes, new pipes, buying unnecessary clothes, pizzas, walmart, fast food, amazon, unnecessary $20 subscription i don’t use(recently cancelled), unnecessary train hopping, taxi and uber. and for my saving, i managed to save roughly around 10-12k(retirement not included), which is less than my expenses.i know that these things brought joy and pleasure to my life and to my family this year, but i think i could have reduced it by half if i was mindful enough and practiced ity in the beginning.anyway, thank you to all those that lifted my spirit and to those who gave me great advice for the next year cycle. i will definitely be implementing them to my habit. update on my previous post. link below',\n",
       "       \"hi, i'm 19 and i need advice on how to go about renting a studio or even a room without needing to have my credit checked. i don't have a credit score, it's incredibly stressful. i also won't be making 3x the rent, but the only bill i have is my phone bill. i take the bus, my phone bill is $90, and the place i am going to live the rent goes for about $800-$1000 a month. i make $1800 a month with the one job i do currently. i will be getting another job when i move. i can no longer stay in the house i grew up in. i was traumatized here, raped in my room. it's not good for my mental health but i feel stuck. i live in california, the housing crisis is so bad. i even checked out places in seattle or portland where other family members live and they're expensive. so i'm stuck here. need rental advice\",\n",
       "       \"i've been looking at getting a pair of loafers i can slip on quick for daily work use without being too over the top. i've debated between getting ferragamos, or a cheaper loafer like allen edmonds, cole hann etc, my dad was saying it would be a waste of money. whereas my girlfriend said i'd always regret not getting the ferragamos, but she ahs been on the fence and said they'd be a waste of money before as well. they are are normally $800 and even on sale they are $400. what do you all think, is it possible to find a shoe that looks just a good around 150, or should i just suck it up and buy the ferragamos. or, am i just paying for a name brand?[ buy ferragamos or cheaper loafer?\",\n",
       "       'i am on minimal wage, on disability. monthy wage 1800 dollars whilst the median wage in my country is 4800 (around 3800 after taxes)still, i feel rich. i have since as young as i can remember, saved any money i came across. my dad implemented this in us. for example \"here is 5 dollars. you can spend it on fireworks, or you can save it\" and \"heres 2 dollars. you can buy saturday candy for it or save it\" i never spent any money during my school years on lunch like most others, i packed lunch. these money are not the big sums, probably saved 500 dollars during all that time, but it stuck with me. i saved from every part time job i had starting at 13, i chose good in regards to car and house, cheap but nice clothes bought solely on sale, and almost never went out or spent on holidays. been on a few clearence holiday trips that were great. my car is ugly and cost 4 k, and has been with me for 5 years. took some looking into and knowledge to find a reliable old car. whilst other people take out loans where they end up paying 50 k for a car thats not worth much after 5 years. im not a spender, but i love having 10 k in my savings account. i take out around 1 k every year to splurge on like a closet, clothes, holiday etc, and then fill it back up. i find alot of things i like, but i would never buy it, i just dont want to own a piece of furniture that costs 1500 dollars. i do spend extra on food, but ive lined up all my expences to be as cheap as possible. like i take the sign of my moped every winter to not pay insurance those 6 months, thats 9 dollars a month saved. i have the cheapest cell plan, and the cheapest phone on sale and i have them till they break, usually 5 years. only one streaming service at the time. clothes i buy mostly online once a year after i have found some things and waited till i get a discount code whilst they are on sale. we found a house spesifically with a rental unit, so that pays for our electricity and fixed house bills, and housing within the toll area we spend most time in. ny husband is a mechanic, so the car maintance is cheap. we have seperate finances and he is also on the lower end, but with a cheap house for our area, country, (500 k (5 millioner) and a rental unit, we already have the same as many others with much higher income that spend 3 k on housing a month. that combined with being , eating in, driving old cars and not buying shit, makes us able to save every month, though we per definition live beneath the poverty line at 2900 dollars per person a month before taxes. we can live good because we had money saved up for the house. i saved up 150 k from age 5 till 27. if we didnt have that, first off we wouldnt have gotten the house /loan, and it would be 1 k a month for me, and i couldnt have afforded that. and 1 k is the very very cheapest you can come by renting as well, so not an option. now i pay around 400 for the mortgage, which is just doable. the renter pays enough to cover our hoa fixes bills and electricity.if you have the mentality to save and spend your money smart, you can suddenly have a chunk in your savings. with 1800 dollars i save 2-300 a month. before when i worked while living at home i would save 800 from a paycheck of 900. and those small amounts really payed off when we could buy a house and save so much money from renting. and we splurge on food alot, but its the bigger expences you need to plan or steer clear of, and try to bring down bills. it gives you much more freedom. like, i feel poor if i have many bills and nothing left for fun, but i feel rich when i have 200 dollars i can choose to spend on food or items, even though in the end the money is gone either way. and i always prefer paying for something one time, than ml thly payments. that way i feel freer, and its easier to budget. like with a storage unit, i feel worse spending 300 a month, that if i could buy 1 year for 3600 and not feel it was a budget thing. i feel rich on minimum wage',\n",
       "       'just to note i paid £800 for the samsung, i’ve only had it a year and a half and i stupidly cracked my screen:/ the tv was great and i am thinking to repair but just wanted to get some other opinions. (uk based btw) also another note i don’t have loads of money so i can’t really go above £650 max. thanks all in advance! should i pay £564 to repair my samsung q70r tv or should i downgrade and buy a brand new tv for around £600?',\n",
       "       \"this is completely my unbiased and voluntary endorsement of geico and i want to share my personal experience. i've just started truly adulting around 2 years ago and living at home and sharing the rent with my family has allowed me to live very comfortably in a high cost of living area. when i dug a bit deeper into our insurance policies and shopping around, i realized my parents were really overpaying for our auto insurance. they paid a pretty high amount and i wondered why they never bothered to shop for a lower rate because they're  as well. i used an app called [jerry.ai]( to lower it by $800 o or so with one of the major insurance providers...i was thinking i really did something by moving us to that. when i randomly decided to shop around to see how much geico would charge me for auto insurance if i bought a $50k tesla model 3. that required me to enter a bunch of details but it let me play around with coverages to see how much i'd pay. after a week or so, i get called by their agent to see if i'm still interested in the insurance and told them i was just shopping around for the rates, but they offered to cover my family's other 3 vehicles which they were able to pull up from their database based on our home address and provided me a quote...they offered to cover our 3 vehicles for \\\\~30% less! not only that but they brought our home insurance policy down by more than $1000 as well. they mentioned that they're nationwide so their prices for insurance are relatively stable and they won't raise the prices a whole lot as a result every 6 months.tldr: geico saved my family of 4 with 3 cars a significant amount on auto insurance and saved us &gt;$1000 on home insurance. however, don't just go for geico, but do compare their rates with the [jerry.ai]( app (or any other insurance comparing tool) as well to see which provider gives you the best rate. you might be thoroughly surprised by how much you're saving as a result of spending a few hours to shop around. geico saved my family a ton of money!\",\n",
       "       'me and my partner currently live with their parents, and we’re desperately searching for a place to live. i’m 19, they are 20. neither of us have any college experience so far. i’m an artist, and i’m looking at going to cosmetology school. my partner is super interested in film and wants to be a director. are their any jobs we could do with decent pay while we get our degrees and pay rent? i make $1200 a month, and my partner makes $800. any help would be appreciated, we have no savings right now and i want to get our shit together. decent paying jobs that don’t require college education?',\n",
       "       \"so i just finished up a move to denver, co and i love it here. i moved from atlanta, ga and i wanted to make the move as economical as possible. my thinking is i'm looking to buy a house and any excess cash i spend on rent and living in the short term is just taking away from the ultimate goal of becoming a homeowner.hopefully this breakdown will help others who are moving and help them do it while not spending a fortune.## the apartmentdenver is a city where costs are quickly rising so i wanted to be tactful in my choice of apartment. i ended up getting a 700sqft 1bd apartment for $1250/mo. while the building is old and has some general old building quirks, the unit itself is renovated and has an absolute sick view of the skyline. a new build 1bd around here usually goes for $1500-$2100 depending on the size.## packing and movingwhen it comes to packing and moving, i rented a trailer from u-haul and did everything myself with the help of free labor from friends and family. the trailer cost ~$250 all said and done for the trip, a truck though would have cost at least $700. if you can fit your stuff in a trailer and if your car can tow a trailer, it's way cheaper than renting a truck.## furniturestill working on this part. i brought some of my own furniture but since i previously lived with roomates, i would need to furnish my living room. a quick trip to ikea revealed that trying to buy new would cost $800-$1200 for the entire room, no way.i ended up buying a used ikea media table and matching bookshelf for $120 (couldn't find the original price but similar ones new go for ~$380) and found a matching couch at goodwill for $150, but after taking off the cushions and seeing that it had a crack in some of the wood, i talked to the manager and she offered to discount it to $80. i still need a few more pieces for here and there but so far this pattern of searching thrift stores and second hand markets is great.## household itemswhen it came to household items like cleaning supplies, brooms, etc. the dollar store was my best friend. the way i see it, the dollar store is perfect for things you absolutely do not give a crap about. i don't really care if my broom is cheap or super high quality, does it sweep up the kitchen? i don't care that my window cleaner is off brand it if cleans the windows. the difference between $1 and $2.50 may not seem significant until you get 15 items and realize that you bill is almost $40 instead of $15.## kitchen appliances.  moving\",\n",
       "       'i bought me and my fiancé a mattress two years ago i spent just over a 1.5k (granted i got a king size)  around that same time my best friend( let’s call her sally) was getting mattress as well and spent $800. (she got a full) when i was looking at mattress i was looking at the best quality and the best one for my fiancé  back and shoulder issues. while still being on a tight budget.  sally got the cheapest mattress and the cheapest frame. just research on what’s the cheapest. sally’s  bedframe has broken twice, and her mattress is falling apart. over this 2 1/2 year period sally has spent close to 3k replacing the bedframe and the mattress that keeps breaking. my bed is in great shape. no issues. don’t be sally. some times you have to spend some extra money upfront to save you a cash in the long run. i thought i was cheap. i guess i’m ',\n",
       "       \"i currently live with roommates, $400/mo everything included, but i'm tired of living with other guys.i've found a place that i quite love the look of. open kitchen, patio, a lot of space, good modern look, 2br. the idea is a bedroom, home office/gym room (power rack, 8'x8' platform), and living room with open dine in kitchen that doubles as a stool seating area to eat and counter space! dishwasher too. it's a complex with a great reputation, but only 2br available and earliest is 11/1.i'm having a hard time swallowing that extra $200/mo, but all these 1brs that are available are not impressive, and mostly renovated old houses that have tiny kitchens and crappy appliances. for a 1br, most likely i'll try to cram everything within the living room, not too sure i'd have much for a home gym due to space limitations, just a bench and dumbbells that i can move around.in the grand scheme of things, i can afford this fine, given my expenses and currently making $62k/year (which will likely drop soon due to career change), i've saved up enough to actually be able to buy a house.would like any kind of input here. single 29m, struggling to decide on paying $970/mo for rent in a 2br 1100sqft vs $750-$800 1br ~550-650sqft apartment.\",\n",
       "       'i’m 19 and have until 21 to just work and save money without bills or anything essentially only thing i have to pay is taxes and my own groceries what cheap foods do you guys buy?i used to drive but i don’t think i will buy a car for a while car payment + insurance for an 18 year old was killing me i was paying like 800 a month the bus near my house takes me right to work only thing that was killing me was buying alcohol and xanax but i’m going to stop that shit to what do you guys eat?',\n",
       "       'i am thinking about moving from va to florida. but i have a lot of stuff i have to move and would need a big moving truck. what i am noticing is if you put in say fairfax to tampa in penske the price is super high - like $4,000. however, if i put in the system i am going from fairfax  va to richmond va (only like 1 and a half drive) the price is in the mid $500s. now the reason penske is so appealing is because of the \"free unlimited miles\" perk. if i did pay for the fairfax to richmond (50 miles)  instead of the va to fl trip (800+ miles one way), and then took the truck down to fl and then brought the truck back up from flordia and returned it to va would they ever charge me extra? would i be able to get away with the unlimited free miles perk even though i took the truck wayyyyyy out of the target destination? prob too good to be true, but figured i\\'d ask anyway! thanks let me know if you have questions about my scheme. moving question - penske'],\n",
       "      dtype=object)"
      ]
     },
     "execution_count": 117,
     "metadata": {},
     "output_type": "execute_result"
    }
   ],
   "source": [
    "# Inspect text of suspicious words (EXAMPLE)\n",
    "\n",
    "print(mnb_cvec_tok.loc[mnb_cvec_tok['800']>0,\"fulltext\"].shape)\n",
    "mnb_cvec_tok.loc[mnb_cvec_tok['800']>0,\"fulltext\"][:15].values"
   ]
  },
  {
   "cell_type": "markdown",
   "id": "0263b23d",
   "metadata": {},
   "source": [
    "It appears that the suspicious words which have high relative feature log prob differences are actually spam. Posts that are posted multiple times in varying versions. We shall add this to a stop_word list to remove these words to Prevent OVERFITTING."
   ]
  },
  {
   "cell_type": "code",
   "execution_count": 286,
   "id": "65c485a1",
   "metadata": {},
   "outputs": [],
   "source": [
    "# Add to stop_word list\n",
    "\n",
    "sw_list1 = list(mnb_cvec_val.copy())"
   ]
  },
  {
   "cell_type": "code",
   "execution_count": 122,
   "id": "824c75a7",
   "metadata": {},
   "outputs": [
    {
     "data": {
      "text/html": [
       "<div>\n",
       "<style scoped>\n",
       "    .dataframe tbody tr th:only-of-type {\n",
       "        vertical-align: middle;\n",
       "    }\n",
       "\n",
       "    .dataframe tbody tr th {\n",
       "        vertical-align: top;\n",
       "    }\n",
       "\n",
       "    .dataframe thead th {\n",
       "        text-align: right;\n",
       "    }\n",
       "</style>\n",
       "<table border=\"1\" class=\"dataframe\">\n",
       "  <thead>\n",
       "    <tr style=\"text-align: right;\">\n",
       "      <th></th>\n",
       "      <th>ngrams</th>\n",
       "      <th>coef_0</th>\n",
       "      <th>coef_1</th>\n",
       "      <th>diff</th>\n",
       "    </tr>\n",
       "  </thead>\n",
       "  <tbody>\n",
       "    <tr>\n",
       "      <th>0</th>\n",
       "      <td>00</td>\n",
       "      <td>-8.612748</td>\n",
       "      <td>-9.991052</td>\n",
       "      <td>1.378304</td>\n",
       "    </tr>\n",
       "    <tr>\n",
       "      <th>1</th>\n",
       "      <td>000</td>\n",
       "      <td>-8.049334</td>\n",
       "      <td>-9.236973</td>\n",
       "      <td>1.187640</td>\n",
       "    </tr>\n",
       "    <tr>\n",
       "      <th>2</th>\n",
       "      <td>000 000</td>\n",
       "      <td>-10.321826</td>\n",
       "      <td>-10.977333</td>\n",
       "      <td>0.655507</td>\n",
       "    </tr>\n",
       "    <tr>\n",
       "      <th>3</th>\n",
       "      <td>000 miles</td>\n",
       "      <td>-9.426152</td>\n",
       "      <td>-10.753935</td>\n",
       "      <td>1.327783</td>\n",
       "    </tr>\n",
       "    <tr>\n",
       "      <th>4</th>\n",
       "      <td>000 month</td>\n",
       "      <td>-10.403215</td>\n",
       "      <td>-10.977333</td>\n",
       "      <td>0.574117</td>\n",
       "    </tr>\n",
       "  </tbody>\n",
       "</table>\n",
       "</div>"
      ],
      "text/plain": [
       "      ngrams     coef_0     coef_1      diff\n",
       "0         00  -8.612748  -9.991052  1.378304\n",
       "1        000  -8.049334  -9.236973  1.187640\n",
       "2    000 000 -10.321826 -10.977333  0.655507\n",
       "3  000 miles  -9.426152 -10.753935  1.327783\n",
       "4  000 month -10.403215 -10.977333  0.574117"
      ]
     },
     "execution_count": 122,
     "metadata": {},
     "output_type": "execute_result"
    }
   ],
   "source": [
    "# Inspect relative feature log prob for TfidfVectorizer MNB\n",
    "\n",
    "mnb_tvec_coef = pd.read_csv('./datasets/mnb_tvec_coef.csv')\n",
    "mnb_tvec_coef.head()"
   ]
  },
  {
   "cell_type": "code",
   "execution_count": 204,
   "id": "f3b4f253",
   "metadata": {},
   "outputs": [
    {
     "data": {
      "text/html": [
       "<div>\n",
       "<style scoped>\n",
       "    .dataframe tbody tr th:only-of-type {\n",
       "        vertical-align: middle;\n",
       "    }\n",
       "\n",
       "    .dataframe tbody tr th {\n",
       "        vertical-align: top;\n",
       "    }\n",
       "\n",
       "    .dataframe thead th {\n",
       "        text-align: right;\n",
       "    }\n",
       "</style>\n",
       "<table border=\"1\" class=\"dataframe\">\n",
       "  <thead>\n",
       "    <tr style=\"text-align: right;\">\n",
       "      <th></th>\n",
       "      <th>ngrams</th>\n",
       "      <th>coef_0</th>\n",
       "      <th>coef_1</th>\n",
       "      <th>diff</th>\n",
       "    </tr>\n",
       "  </thead>\n",
       "  <tbody>\n",
       "    <tr>\n",
       "      <th>1118</th>\n",
       "      <td>apps</td>\n",
       "      <td>-7.982984</td>\n",
       "      <td>-10.054851</td>\n",
       "      <td>2.071868</td>\n",
       "    </tr>\n",
       "    <tr>\n",
       "      <th>4259</th>\n",
       "      <td>deodorant</td>\n",
       "      <td>-9.696162</td>\n",
       "      <td>-7.626701</td>\n",
       "      <td>2.069461</td>\n",
       "    </tr>\n",
       "    <tr>\n",
       "      <th>13005</th>\n",
       "      <td>plastic containers</td>\n",
       "      <td>-10.725343</td>\n",
       "      <td>-8.661337</td>\n",
       "      <td>2.064006</td>\n",
       "    </tr>\n",
       "    <tr>\n",
       "      <th>12798</th>\n",
       "      <td>phone plan</td>\n",
       "      <td>-8.921703</td>\n",
       "      <td>-10.977333</td>\n",
       "      <td>2.055630</td>\n",
       "    </tr>\n",
       "    <tr>\n",
       "      <th>11029</th>\n",
       "      <td>money</td>\n",
       "      <td>-6.124893</td>\n",
       "      <td>-8.180401</td>\n",
       "      <td>2.055508</td>\n",
       "    </tr>\n",
       "    <tr>\n",
       "      <th>53</th>\n",
       "      <td>1000</td>\n",
       "      <td>-8.469813</td>\n",
       "      <td>-10.523868</td>\n",
       "      <td>2.054054</td>\n",
       "    </tr>\n",
       "    <tr>\n",
       "      <th>3485</th>\n",
       "      <td>conditioner</td>\n",
       "      <td>-9.560319</td>\n",
       "      <td>-7.506740</td>\n",
       "      <td>2.053579</td>\n",
       "    </tr>\n",
       "    <tr>\n",
       "      <th>14373</th>\n",
       "      <td>reducing</td>\n",
       "      <td>-10.019605</td>\n",
       "      <td>-7.974317</td>\n",
       "      <td>2.045288</td>\n",
       "    </tr>\n",
       "    <tr>\n",
       "      <th>12866</th>\n",
       "      <td>pill bottles</td>\n",
       "      <td>-10.988472</td>\n",
       "      <td>-8.945031</td>\n",
       "      <td>2.043440</td>\n",
       "    </tr>\n",
       "    <tr>\n",
       "      <th>281</th>\n",
       "      <td>300</td>\n",
       "      <td>-8.063700</td>\n",
       "      <td>-10.104682</td>\n",
       "      <td>2.040982</td>\n",
       "    </tr>\n",
       "  </tbody>\n",
       "</table>\n",
       "</div>"
      ],
      "text/plain": [
       "                   ngrams     coef_0     coef_1      diff\n",
       "1118                 apps  -7.982984 -10.054851  2.071868\n",
       "4259            deodorant  -9.696162  -7.626701  2.069461\n",
       "13005  plastic containers -10.725343  -8.661337  2.064006\n",
       "12798          phone plan  -8.921703 -10.977333  2.055630\n",
       "11029               money  -6.124893  -8.180401  2.055508\n",
       "53                   1000  -8.469813 -10.523868  2.054054\n",
       "3485          conditioner  -9.560319  -7.506740  2.053579\n",
       "14373            reducing -10.019605  -7.974317  2.045288\n",
       "12866        pill bottles -10.988472  -8.945031  2.043440\n",
       "281                   300  -8.063700 -10.104682  2.040982"
      ]
     },
     "execution_count": 204,
     "metadata": {},
     "output_type": "execute_result"
    }
   ],
   "source": [
    "# screened through the top 120 important words\n",
    "# to identify those that are SUSPICIOUS\n",
    "\n",
    "mnb_tvec_coef.sort_values('diff', ascending = False)[110:120]"
   ]
  },
  {
   "cell_type": "code",
   "execution_count": 123,
   "id": "a39177a6",
   "metadata": {},
   "outputs": [
    {
     "data": {
      "text/plain": [
       "8410      ity\n",
       "19998      zw\n",
       "400       600\n",
       "53       1000\n",
       "281       300\n",
       "Name: ngrams, dtype: object"
      ]
     },
     "execution_count": 123,
     "metadata": {},
     "output_type": "execute_result"
    }
   ],
   "source": [
    "mnb_tvec_val =mnb_tvec_coef['ngrams'][[8410, 19998, 400, 53, 281]]\n",
    "mnb_tvec_val"
   ]
  },
  {
   "cell_type": "code",
   "execution_count": 131,
   "id": "96786a89",
   "metadata": {},
   "outputs": [
    {
     "data": {
      "text/plain": [
       "(13400, 20001)"
      ]
     },
     "execution_count": 131,
     "metadata": {},
     "output_type": "execute_result"
    }
   ],
   "source": [
    "# Open tokens file for MNB Tvec\n",
    "\n",
    "mnb_tvec_tok = pd.read_csv('./datasets/mnb_tvec_tok.csv')\n",
    "mnb_tvec_tok.shape"
   ]
  },
  {
   "cell_type": "code",
   "execution_count": 211,
   "id": "5efab6c0",
   "metadata": {},
   "outputs": [
    {
     "name": "stdout",
     "output_type": "stream",
     "text": [
      "(74,)\n"
     ]
    },
    {
     "data": {
      "text/plain": [
       "array([\"does anyone have suggestions for  shoe deodorizers? i wear work boots 8 hours a day and am prone to sweaty feet. as you can imagine, my boots are a little rank and i would like to remedy that. i thought about putting them in the washer but i'm not sure if the steel toe would do any damage. zw shoe deodorizer suggestions?\",\n",
       "       \"no advice needed, just venting.for a long time i have been at a plateau regarding being low waste. having depression pop up every now and then doesn't help. i have my own personal goals which can be hard to align with my family's.  but then having more waste can also be anxiety inducing as well. having 2 small kids, being in this pandemic, and a few other things make it really challenging sometimes. and sometimes i'm not sure whether to push myself a little more or to give myself some grace. i don't want to act like accomplishing all these zw goals will suddenly make me happy or anything. one small example is that i am not ready to eat at a restaurant yet, but ordering takeout causes more waste. i spent several months cooking every meal at home every day and eventually needed a break once in a while. if it wasn't for the pandemic i would have chosen to eat out instead. usually i look at what good habits we already have to make myself feel better. sometimes i'm not sure if that is enough for me personally. zw and depression\",\n",
       "       'basically i have really poor dental hygiene due to depression and being autistic - i am finally pulling myself together before it gets worse. for the past 2 years or so, i have been using colgate’s bamboo brushes and replacing them as necessary. i’ve found them to be good enough.however i don’t think these are the best option for me due to the state of my teeth. but electric toothbrushes are plastic! will i be using and disposing a big enough amount of plastic for it to be very significant? should this be a case where i am better off using the plastic version for my own health and stop worrying about this particular area of my life in terms of zw?also, can someone inform me if the bamboo brushes are even much more of an environmentally friendly option - i’ve fallen for greenwashing before and am starting to reconsider the sustainability of throwing an entire toothbrush out 4 times a year. plus it’s easy for them to get wet and grow bacteria if i leave it in the brush cup. is owning an electric toothbrush and replacing the brush every 3 months significantly more wasteful than buying a new bamboo toothbrush every 3 months?',\n",
       "       \"i just recently moved to the phoenix/tempe area and am so happy to report i've found quite a few different zw resources. i was thinking i'd share them, and then maybe others could share theirs too; obviously sprouts is a big one for bulk goods, and (packaged) plant-based meat alternatives (bulk is packaged up during covid, though they still allow byob)singh farmers market is doing drive thru grocery pick ups during covid (allows card)\\\\*ecomended is a zw store for bulk beauty, cleaning, and housing needs. they also sell vegan leather leaf bags online, which is pretty neat. [\\\\*the oil and vinegar shop in chandler (i believe it is a kiosk in the shopping mall?). i am uncertain of cost. [\\\\*gracies thrift store is a local thrift store (not open during covid) that looks like a nice visit. i like to avoid goodwill and salvation army and try to support local.the habitat restore is a great location for household fixes.\\\\*society of st. vincent de paul thrift store looks like another good alternative.\\\\*buffalo exchange is a consignment shop that presents to have great mens and women's clothing options.my sisters closet also has a great women's clothing selection.i would love to know if there were any more options or alternatives around here? having moved from a small town with only one bulk (though very abundant and versatile) option, it has been interesting locating resources. i haven't been able to locate bulk wines or beers yet, but hadn't had that resource available before, so it's not much of a loss. :) \\\\* marks all the places i have yet to visit for all those zw phoenix residents!\",\n",
       "       'hey all! i really love to sew, and am interested in sewing my own clothes to avoid fast fashion, but hobby and craft stuff tends to be high-waste. i use thrift-store sheets/curtains/clothes for fabric, and use all my scraps as well as possible, but i\\'m eventually going to run out of things like thread and elastic. i was wondering if any of you know of a source of good-quality, low-waste versions of those. i don\\'t want to be creating a ton of extra waste in my efforts to reduce exactly that.as for thread, i couldn\\'t find any on cardboard spools, and it seems that much of the \"eco-friendly\" thread is made of recycled material, but .... wound onto plastic spools??? come on guys, you can do better than that. i\\'m currently buying the highest-yardage spools and cones i can find, because i figure the thread-to-waste ratio is better, but i would love if someone could point me in a good direction for future purchases. as for elastic, i try to salvage any that comes with my thrifted fabrics (from fitted sheets, waistbands, etc), but oftentimes i can\\'t get it out without damaging it. if i need something specific, i buy the kind that\\'s on a by-the-yard spool, or the kind that just has a paper band around it, but still...so, i\\'m looking for any solutions/suggestions you all have, including less-waste as well as . i think small, constant improvements are much better than going 100% immediately, since i tend to burn out pretty fast if something is suddenly putting a massive constraint on the way i\\'ve been doing things. i\\'m going to make a freecycle post to ask for unwanted sewing supplies, but i still plan to buy those things sparingly if they\\'re necessary for a project, and would prefer to buy from companies i can feel good about giving my money to.thanks in advance! i appreciate all of you (: any zw sewists/craftists out there? i\\'m having trouble finding thread, elastic, etc...',\n",
       "       \"hey all! i was just wondering if any of you have a recipe for homemade perfume that actually works. preferably citrus but i'm open to other ideas :) zw perfume?\",\n",
       "       'i used to be good about reducing my waste, although i was never at the level i wanted to be at. after a couple of moves, life changes &amp; battles with depression and general motivation i’ve found myself producing trash more than ever before. have any of you lost your ‘drive’ to be zw &amp; how did you get back on track? lost motivation to work towards zw',\n",
       "       'this will be a no judgment thread!i’m 6 months into my zw journey. i’ve already made several changes - i replaced 20 disposable item categories with reusable or plastic-free swaps, gave up meat and reduced my overall consumption. i decided to do a half-year trash and recycling audit and noticed significant improvements. unfortunately, i found one consistent source of waste - any form of convenience food packaging such as takeout salad bowls and premade hummus or bread. one of these days i would love to start making my own breads and stuff but i think it will take time. i also wonder if the salad place i go to will take my own container. i already use a reusable coffee cup if i get coffee out so there’s that. what is your biggest source of waste?',\n",
       "       \"i am doing well on cutting down on my waste; grains, nuts, seeds, fruits &amp; veggies are the easy part.i'm looking for some good options that cut out or minimize waste, but can compete with the usual variations i.e. no 'use bicarb' for toothpaste:* toothpaste* moisturiser* tempeh* deodorant [uk] looking for some zw options\",\n",
       "       'hi everyone! i am an ecologist and mother of two little boys. i started  my zw journey 6 years ago. however, last year i feeling as a total falure. my second son was born (the older one is 2yo) we moved in the old house of my grandparents. even though i managed to avoid waste and kept tracking  and reducing my environmental impact, now i feel as falure. if i am using most of my zw swaps (most of them requires much more planning and effory), my kids and house becomes a mess. there are so much waste while we renovating the house... when looking for second hand furniture and other stuff for the house is so hard to find items we want...as a result i feel a complete falure both as ecologist and waster. as well as falure as a mother ( i imagined that my kids will learn more sustanably and now using wet tissues and disposable diapers). my recycle bin is full of packaging trash, we literally getting tons of waste out of the house,  i am sick of looking place for old my grandparents crap. have you ever felt so disapoointed about your life as zw? how you managed to get back on track?p.s. sorry for my english, its my second language. have you ever felt like you failed to go zw?',\n",
       "       'some days are better than others, but this weekend had a lot going on that i\\'m going to pick out a few things that really made me excited.\\\\-our local green fair had so much zw stuff going on. the biggest surprise to me was the funeral home talking about living urns and it is something that we will definitely think about. this other restaurant stopped using plastic straws since last year\\'s green fair. a smoothie stand was selling stainless steel straws. there were also plant swaps, kids giving out free upcycled reusable bags, etc.\\\\-our worm compost bin has more worms than i\\'ve ever seen before since we started doing it last year.  we started with 200 and now i think there\\'s well over 2k in there. \\\\-put h\\'s beard in the compost because he left it in an empty pail after shaving. when i asked him about it he said he was thinking about composting it. still not sure if he was joking but i said okay. first time putting human hair in there lol. \\\\-baby\\'s \"new\" secondhand diapers came in the mail. the big winner in there is the one with a bunch of penguins on it. this weekend\\'s zw wins',\n",
       "       'my local grocery chain used to sell bulk goods in bins. due to covid, everything was pre-bagged in plastic and still is being sold that way. i just want back the days of bringing my own containers. ☹️ is anyone’s zw journey still being impacted by the pandemic?',\n",
       "       \"i am a member of a sorority at my university, and i was just selected to be on our (sadly, two-person) environmental committee. personally, i'm very, very into zw and environmentalism, but i know that not everyone in my house feels the same way, so i'm looking for new ideas that are accessible and interesting to beginners who might be intimidated by environmental action. what are some ideas i can promote within the house that will be well-received by beginners?a few things i already thought of: having 'meatless monday,' featuring /environmental bloggers, posting infographics to highlight carbon emissions from meat, and collecting food waste from the house. what can i do to make my greek house more environmentally friendly?\",\n",
       "       \"i always thought i was environmentally conscious. after reading here, i realized i am clueless lol.i've seen so many zw alternatives for gifts wrapping (using newspaper/paper bags, gift bags, using fabric scraps to make bows, etc...). i also saw that someone sent a package in the mail in a repurposed plastic container. is it still zw if the recipient of the gift/package throws your zw wrapping/container in the garbage? you can't guarantee that they recycle or reuse the packaging, so is this a situation where you just do what's best and within your own control? thanks! need some clarification about  gift wrapping + not being able to control what the recipient does with it.\",\n",
       "       'for example, i could order a zw sunscreen through amazon and have it shipped and all the emissions that go into that or i could walk down the street and buy a sunscreen in normal packaging.  what are your thoughts? what are your thoughts on the environmental impacts of ordering specialty zw products online (amazon, etc) vs buying non-zw products locally?',\n",
       "       \"hi!i am thinking about creating a  skin care routine, specifically for my face. i love my multi step asian skin care routine but i recognize all of it is plastic.i know there are a lot of  substitutes but my favorite result from the asian skin care routine is the anti-aging and minimizing of wrinkles. i am afraid i won't see that result from .is there any information out there that says otherwise? or even particular products?thanks in advance! zw versus asian skin care routines\",\n",
       "       \"hello all.so, tldr i make bags, dog collars, dog coats, cloth menstrual pads and dust masks for parrot owners - stuff that takes a beating and very hot frequent washes, basically. i want to make them all zw/plastic free or at least offer the option.i currently use polycotton thread as i have yet to find a cotton thread that can take high heat for multiple washes. it all falls apart. the cotton fabric itself is fine but the thread doesn't last. even if its double stitched it just can't take the strain. i'm open to other natural fibers, i just don't have the money to test a ton of brands so recommendations would be very very welcome!anyone have a thread suggestion or a brand that can hold up to rough wear? i was thinking a hemp thread may be stronger but i'm lost!thank you!edit: i am in the uk :) waste thread?\",\n",
       "       \"hi zw friends!!!anyone have a rec for an inexpensive glass cutter? i get really overwhelmed with all the options and am not sure how to pick a good one out!so if it's relevant, i want the type that holds the bottle while you score it. i have pretty shaky hands and can't imagine trying to get a straight line unassisted would go well. i imagine it'll get a decent amount of use, but also money is a bit tight rn. do any of you have one that you would recommend? also i'm not going to use it to make drinking glasses or any heavy-use items, just like cutting jars and bottles to put plants in (: thank you!!!! looking for glass cutter recommendations, can anyone help?\",\n",
       "       \"hi there. i'm a waster in the pnw thats 2 years on my journey and i would really like to meet/follow other zw folx worldwide :)feel free to also post/link  or low waste blogs,ig accounts that you enjoy.find me on ig as: wastepunxthank you xoxo  ig rollcall &lt;3\",\n",
       "       \"i've been using the last of the ziploc bags i had, but after many washes, they are on their last leg. i'm looking for a substitute once they finally wear out. any suggestions? tia! zw bakers: what do you use for proofing bags?\",\n",
       "       'my favorite is turning a plate upside down and putting it on top of a bowl in the fridge instead of saran wrap. also i bought three fountain pens because of this sub and they are fun! what is your favorite zw tip you have gotten from this sub?',\n",
       "       'i don\\'t give a fuck about designers and i\\'m assuming 99% of us here don\\'t either. if some of you are still \"stuck\" in corporate america/eu/etc. have you underhalled your wardrobe?  i feel like you are really judged for not having designer suits/shoes/accessories especially in this ig clout era. ideally i\\'d love to wear the same outfit every day preferably made of all hemp... how are you all -wasting in this department? any brands you recc? and what do you look like weekly? i\\'m trying to put together a professional but zw corporate wardrobe. if you are minimalist to the point of wearing the same shirt and pants/skirt every day (but maybe you own 5 of them), do you feel judged? judged as in hr is going to pull you in for hygiene concerns lol? i should add, i have no sewing experience and don\\'t think i\\'d be any good at it! i don\\'t like thrifting anymore for hygienic concerns, so i\\'d prefer to avoid that. waste wardrobe while working in corporate?',\n",
       "       \"hi beautiful comunity!we bought a few years ago a battery grass trimmer. it works well and is sufficient for the job we do with it (we don't mow the lawn, we just trim around shrubs and make some walk paths. but the cutting string is in plastic and we would want to change that, since microparticles of plastic are going everywhere  when trimming the grass. do you have the solution (except not cut the grass or do it with a cissor)? zw options for grass trimmer?\",\n",
       "       'i\\'ve been actively trying to reduce my waste for six years now, and i thought i\\'d share my experiences with some of the zw-marketed products out there.first, a disclaimer: sunscreen and toothpaste with fluoride are non-negotiable to me, so i have not tried alternative products.# shampoo barsi have long, straight hair, not dyed. a while back i did try the low-poo method for about a month and a half, but quit because i was just feeling slightly gross all the time, with no improvements to my hair\\'s health. shampooing every day works fine for me.* ***badger balm shampoo bar:***  ★  ★  ☆  ☆  ☆   * **ingredients**: vegan and sulfate-free   * **packaging**: comes in a cardboard box. i purchased in store, so i can\\'t speak to shipping packaging.   * **price**: $9.95. pretty standard for a shampoo bar.   * **use**: it lathers up easily enough and the scent is fine, but unfortunately i can\\'t recommend it. my dandruff came back after using this, and my hair lost some of its shine. i won\\'t use it again.* ***lush honey i washed my hair:*** ★  ★  ★  ★  ★   * **ingredients**: contains beeswax, honey, and sodium lauryl sulfate.   * **packaging**: comes packaged in a paper bag. if you purchase in store, you just use one of the paper bags provided. if you purchase online, it comes in a small cardboard shipping box with biodegradable packing peanuts. inside, it\\'s packaged again in a paper bag. all biodegradable.   * **price**: $11.95. for how much use you get out of it, it\\'s one of lush\\'s more reasonably-priced products.   * **use**: lathers up easily. i personally like the honey scent, but some people may find it overpowering. this is my favorite of the shampoo bars i\\'ve tried so far. it leaves my hair shiny and clean.* ***lush montalbano:***  ★  ★  ★  ★  ☆   * **ingredients**: contains sodium lauryl sulfate. vegan.   * **packaging**: same as *honey i washed my hair*   * **price**: $11.95, same as *honey*.   * **use**: again, very similar to *honey*. i imagine most lush shampoo bars will be similar. i didn\\'t like the citrus scent quite so much, and i feel like it was a little bit harsher on my hair than *honey*. however, overall it\\'s a good shampoo bar that i would use again.* ***lush big solid conditioner bar*** (honorable mention): ★  ★  ★  ☆  ☆* it looks like they\\'ve changed up the formula since i tried this. the conditioner that i got was white, but now the website shows a bright blue bar.   * **ingredients**: no sls (i think). vegan.   * **packaging**: same as other lush products.   * **price**: $13.95.   * **use**: it smells nice, but it really doesn\\'t do much for my hair. maybe it will be more helpful for people with different hair types. i also found it difficult to apply.# coconut oil* not a branded product, but i experimented with using coconut oil as a moisturizer. i found that it was too heavy on the face (as expected), but it was good for my hands, elbows, nails, and feet. it also makes a pretty decent lip balm.# deodoranti wouldn\\'t say i\\'m a particularly sweaty person, but deodorant does make a difference in how i smell. i\\'m not interested in antiperspirants (eliminating my sweat altogether) - just looking for something that will make me less stinky.also, once i stopped using deodorant with aluminum, my skin felt much better (able to breathe) and i stopped getting yellow armpit stains on my clothes, which apparently *are* caused by the aluminum in traditional deodorant.the jarred deodorants all came with a nonrecyclable seal on the top, iirc.* ***whole foods 365 fresh scent deodorant stick:***  ☆  ☆  ☆  ☆  ☆even though this is labeled as a \"deodorant\" bar, it seems more like just plain ol\\' soap to me. the directions direct you to lather, apply to skin, then rinse off. it didn\\'t do anything to affect how i smelled later in the day. so i can\\'t give it any stars as a deodorant bar.   * **ingredients**: no sls. does contain palm oil (which is labeled as \"certified sustainable\")   * **packaging**: purchased in store. comes in a cardboard box.   * **price**: can\\'t remember (part of a grocery trip), and i actually can\\'t find this product online. the price didn\\'t stand out to me at the time of purchase. being in bar form instead of jarred, i imagine it would cost less than some of the other products on this list.   * **use**: as i said above, it\\'s fine as a soap bar. nothing special. as a deodorant, it fails.* ***routine sexy sadie:*** ★  ★  ★  ☆  ☆   * **ingredients**: baking soda free. contains beeswax. routine does have a vegan version without beeswax, and some of its other formulas do contain baking soda.   * **packaging**: purchased in store. comes in a glass jar in a cardboard box. if you\\'re in canada, or one of four cities in the us (kittery, me; south portland, me; seattle, wa; or knoxville, tn) there is a refill program if you bring in a clean glass jar.   * **price**: $28.00 cad for 58 g/2 oz. a little steep compared to the other products on this list.   * **use**: it was very easy to apply. the scent wasn\\'t my favorite. it was pretty strong, and the patchouli overpowered the other fragrances that were advertised (ylang ylang, vanilla &amp; cinnamon). it did do its job as deodorant, but i didn\\'t love how i smelled, so it\\'s not a repurchase for me.* ***schmidt\\'s naturals rose + vanilla deodorant jar:***  ★  ★  ★  ★  ☆ |  ☆  ☆  ☆  ☆  ☆   * **ingredients**: contains baking soda. vegan.   * **packaging**: purchased online - comes in a jar in a cardboard box. it also ships with a small plastic spatula for application. i understand this is supposed to help with hygiene concerns; however, i didn\\'t personally find it useful and ended up just using my finger.they do have a glass jar recycling program, but no refill program that i\\'m aware of.   * **price**: $8.99 for a 2 oz jar. very affordable.   * **use**: i was all set to make this my regular use deodorant and get a refill once it ran out. the smell was very nice, but not overpowering. it worked well as a deodorant. i did find the formula a bit more difficult to apply - it\\'s more solid than the other jar deodorants i\\'ve tried, so you have to warm it up a little first. the spatula wasn\\'t helpful.unfortunately, i had a delayed reaction to the baking soda. about two and a half months into using schmidt\\'s and being happy with it, i woke up to a sharp pain and a rash in my armpit. honestly, it felt like it came out of the blue. i had thought i was one of the people who could use baking soda deodorant without an issue - i\\'d done a patch test on my wrist before using, and i\\'d been using it on my armpits with no issue for months. a shame :( maybe one day in the future, i\\'ll try schmidt\\'s baking soda free formula and see how it compares.* ***meow meow tweet baking soda free deodorant cream:*** no rating yet. i just started using this a couple weeks ago, so i can\\'t speak to the long-term effects.   * **ingredients**: baking soda free. vegan.   * **packaging**: purchased online. came in a jar in a cardboard box, inside a small shipping box filled with biodegradable packing peanuts. if you purchase in bulk, there is a reuse program. the recommendation is to refill your little jar from your bulk jar, then return the bulk jar for reuse.   * **price**: $14.00 for a 2.4 oz jar. fair enough.   * **use**: i *love* their formula. it\\'s very smooth, but with a little texture to it. all my instincts the first time i used it were to eat it, purely based on texture. i went with the unscented version this time, so it\\'s a pretty neutral smell. so far, it\\'s doing its job well to keep me smelling fresh.# makeupin terms of makeup use, i consider myself fairly average. i don\\'t have a ton of products, but i do put on some makeup most days that i\\'m going to see other people. eyebrows, eyeliner, mascara, powder. occasionally concealer. that\\'s it.i used to use lush cosmetics, but they\\'ve discontinued their eyeliner (independent). it\\'s not very clear to me, but it seems like their face powder (emotional brilliance) and mascara (eyes right) are only available now in the uk. too bad, because i did like those products and would have been a repeat customer. they weren\\'t perfect for packaging, but they seemed to have a good internal reuse/recycle system. i still have two things of emotional brilliance, but i\\'ll have to find a good substitute once they\\'re gone.* ***besame cake mascara:*** ★  ★  ★  ★  ★   * **ingredients**: vegan. a \"cake mascara\" is essentially a brick of pigment. you add water to make a paste that you can use for mascara or eyeliner.   * **packaging**: not only is it low plastic, but it\\'s gorgeous. you can buy this cake mascara in a set, with a tin and a brush, or when you\\'re ready for a refill you can buy just the refill cake. there is a little bit of plastic used for hygiene purposes, but it seems to be pretty minimal. besame is focused on creating cosmetics inspired by historical products.  isn\\'t their main focus, but reduced plastic use is a happy side effect.   * **price**: $25, but it lasts forever.   * **use**: so versatile. i use it for mascara, eyeliner, and even use the dry cake with a brush to fill in my eyebrows. as a mascara, it is more difficult to apply than your traditional mascara. the eyeliner is applied with a tiny paintbrush. like with most liquid eyeliner, there\\'s a learning curve.the quality of the product is great. it isn\\'t waterproof, of course, but it stays on all day. since you mix the pigment with water yourself, you can control the texture and thickness. it does take more time. when i used an eyeliner pencil, my makeup routine would take 2-5 minutes, on average. now it\\'s more like 10. imo, the extra few minutes is worth it.i definitely see this as a staple for years to come, and i love that it replaces three products i formerly used.# period productspotential tmi about my period ahead.i usually know when my period\\'s going to come. i don\\'t use panty liners in advance - i can just sense when it\\'s time. my periods start out heavy-ish to medium for one or two days, then there are three to five days of light bleeding/spotting. i\\'m pretty lucky.because my period\\'s not very heavy, i never liked tampons. more often than not, they\\'d come out dry, which is obviously not the most pleasant sensation. so i never felt like a menstrual cup was up my alley.* ***thinx period panties:*** ★  ★  ★  ★  ☆   * these aren\\'t really a substitute for pads, and i don\\'t recommend wearing them overnight. however, they\\'re good for days when you\\'re just spotting and can\\'t be bothered with a pad. i have the high-waisted version and the cotton brief. i much prefer the high-waisted version for my period. much more comfortable, and more coverage.   * washing: rinse them in cold water after wearing, then you can put them in with your normal laundry. i have the black versions of both, and they* ***party in my pants reusable pads:*** ★  ★  ★  ★  ★   * these are great. i love the fun patterns, and they work just as well as traditional plastic pads. also, once i switched full-time to reusable pads, the \"period scent\" that i thought was coming from my body went away. i mean, if you get up really close while i\\'m menstruating, of course you can still smell uterine lining. but there\\'s definitely a smell that i strongly associated with periods that is no longer present.   * the regular cotton ones are actually my favorites, over the flannel or the organic cotton. comfortable, and they don\\'t seem to stain as easily.   * washing: rinse out the blood in cold water. i recommend using soap if you\\'ve had a heavier day. then they can go in the normal laundry. personally, i don\\'t care so much if they get stained. if it\\'s important to you, get darker colors and make sure to soak them immediately after use.   * if i\\'m out and about while i\\'m using these, i use toilet paper to get any of the excess blood off, then fold them up and put them in my carrying bag. you can use the snaps to keep them folded. i hear that some people have a \"wet bag\" to prevent staining, although i don\\'t use one myself.hope this will be helpful to someone! some product reviews: hair, deodorant, makeup, period supplies',\n",
       "       'sometimes life can be hard, and we just need some conveniences to get through the day. oftentimes  practices take time, effort or sacrifices. but sometimes, they make life so simple and easy. so please, share all of your -waste-friendly convenience hacks. ex: cover a bowl of leftover food with a plate instead of transferring to a different container. instant and easy! fewer dishes to wash! give me your zw convenience hacks because life is hard sometimes',\n",
       "       \"i'm planning to move to a new town eventually, and it's really important to me to have a bulk store to get most of my non-produce groceries. i've noticed that a lot of towns i've considered don't have a bulk store, and honestly that usually makes me rule them out.if you are open to sharing, could you tell me about your local bulk store and what town it's located in? bonus points if the town isn't a super expensive city. mostly looking in the us but would be curious about outside the us as well. looking for towns with affordable zw / bulk stores\",\n",
       "       \"merry christmas rs!i found out today that my family will be taking care of our friend's dogs for the next while. we haven't had dogs before, and are super not keen on using plastic poop bags for cleaning up after them on walks and such. pet waste isn't allowed in our municipal compost collection either so we've hit a bit of a roadblock. any solutions or tips from you would be amazing and hugely appreciated, thanks! zw request:  dog poop baggies\",\n",
       "       'my electric toothbrush, and foreo luna (which i just ordered because clarisonic is goob!) what non zw item world we have to pry from your cold dead hands?',\n",
       "       \"i've been on my little zw path for about 7 years now. it started with getting into the tiny house movement back in like 2014.. i was 24 at the time, and my mom was a post ww2 3rd world immigrant hoarder. i couldn't think of a better way of living than to just have nothing, seeing as our kitchen counters were filled with plastic bags/plastic containers/food, there wasn't enough counter space for me to even make a bowl of cereal so i'd have to put the bowl on top of a package of vienna sausages.   anyway, rocky rocky path forward where i had to undo my own consumerist/fear/lacking mindset and i like to reflect back now and again, and thought i'd share.   i think the best part of this whole thing is that i can work very part-time to fulfill my lifestyle. i used to work in tech/design, big salary but lame hours and high stress. i didn't think i'd live til 30 for a variety of reasons.  i quit my job at 26 and have been freelancing since. my income was slashed and i suddenly found myself in the throes of really putting minimalism/ to work. at first it was stressful, and then it became comforting. use up what i already have?! what a friggin concept lol. i can keep myself entertained for years (and did)  i make annually about 1/4 of what i used to, and i work about 20 hours per month (i do have a nice high hourly). i chose not to have children or pets, so i'm just sustaining myself. i'm currently 31 and live on about 18k per year, and i live in different countries abroad, digital nomading, living a pretty high quality of life given that my money isn't being handed over to silicon valley landlords.   if i keep working the way i am, or even more so, i can retire at the age of 45. if i decide to get a full time job, i can retire by 40. that makes me so stoked. thanks for letting me share! what has been your favorite part/realization/etc of your path? the best part of my  journey\",\n",
       "       'thoughts? any stats? zw movement mostly female, male, or balanced?',\n",
       "       'i need your help! i’ve been going  for a couple of years and found a shampoo bar i liked about a year ago. unfortunately, i’ve been dealing with chronic dandruff my whole life, and since switching to plastic free shampoo it’s a lot worse. before the switch i had to use medicated head and shoulders (or similar products) to keep it at bay. i started using an acv rinse shortly after switching to the shampoo bar and it worked for a short amount of time but my scalp is going crazy again. does anyone know any plastic free dandruff shampoo that’s available in the us? or even any home remedies that have worked for people would be appreciated. zw dandruff shampoo?',\n",
       "       'hey there! this post is **not meant to sell you anything,** **but to help me and my colleagues figure out what would be a good price point &amp; perks for a game we are developing,** and since we are all into , and the game\\'s goal is to teach people how to be a \" chef\" i thought that you could help me.a little bit of context:i am currently doing a graphic design internship at food circle ([foodcirclenl.com]( a social business based in amsterdam that strives to connect food waste organizations to help each other. we are currently developing a card game to make the general public conscious about food waste, and it is called \" chef game\". for the game we are planning on printing it with water based ink and only on one side to make it more sustainable! we are currently in the midst of planning the details for a kickstarter campaign to help fund the project, and here is where you can help me out by answering the following questions:\\\\- how much would you pay for a card game who\\'s premise is to teach people of all ages how to reduce food waste in a fun way?\\\\- according to the amount you pay on kickstarter, you can have \"perks\"... which sustainable perks would you like to receive if you were to buy this game? (could be seeds to plant your own veggies, products from members of our organization network, etc.)thank you very much in advance! i need your input zw community! \" chef\" card game kickstarter campaign ideas :)',\n",
       "       \"i don't own any hair clips. i have really thick hair and a lot of it. i want a octopus style clip. if anyone has any excess clips they wouldn't mind selling to me or know a website that sells something zw, let me know! in search of zw hair clips.\",\n",
       "       'in a couple weeks my family is hosting a bridal shower for my sister. i put myself in charge of games for the sake of minimizing waste on the typical games people play. one popular game is to make a wedding dress out of toilet paper. yikes!! this seems so wasteful!! any ideas on zw games?  bridal shower games',\n",
       "       'this is called green capitalism and is at odds with .we don’t want people thinking they are cool bc they have a pretty tiffin.  it is inaccessible to the poor, and drives consumption. we want people taking their lunch in that old repurposed food container. we don’t want people buy all new bamboo tools, but maintain and repair the tools they do have.honestly, if something isn’t affordable for poor people, is it really ? can we please stop acting like zw being trendy or an aesthetic is a good thing?',\n",
       "       \"hey i'm having trouble finding cheap glass jars. does anyone know where i can get some kind of har that i can use to put my jar spells in? i'm open to other ideas, it's a dump recipe, so just needs to be see through with a wide opening... also i would like some help with ideas to decorate the jars thats zw. tia! cheap glass jars and zw gifts\",\n",
       "       \"please tell me now if you've heard of terracycle's zw program, since i can't do a poll, i need everyone to make a simple comment yes or no. tell me what store or what place you found them at. this is a study i'm doing to see who has these and who needs these, terracycle needs to go mainstream. have you heard of terracycle's  boxes?\",\n",
       "       'who are your favorite low waste people to follow on social media? i love having  ideas, tips, and thoughts filing my social media feed as i feel it helps me be creative in my own journey, and i love having those small consistent reminders that help me stay true to my zw values.my favorite low waste accounts are @destinyfirth, @nontoxicnatalie, and @worthnotwaste!do any of you guys have any instagram profiles who aren’t pushing any sponsored products, in your face / shaming, and just generally interesting to follow along with? tia. zw instagram account recommendations!!',\n",
       "       'i did an instacart order yesterday and i accidentally bought 2 bags of limes instead of 2 individual limes. i don’t live near any friends or family that i can give them to, but i don’t want to waste a whole bag of limes. any ideas how i can use them up before going bad? thanks zw family! accidentally bought 2 bags of limes :(',\n",
       "       \"in the uk we had a few compulsory, more vocational classes growing up -**wood work**, which was like...making shoddy looking clock faces and little wooden solitaire sets (or in my case persuading someone else to do it for me), **food technology** (how to make a flan...with a pre-bought base. can't say i've ever made one since...budgeting tips might have been a little more helpful) and then **textiles** (i think we made a cushion...and learnt all the various stitches, by hand).  the last lesson i had was when i was 14 (now 27).i loathed it, couldn't work the machine. the thread was always getting caught. i'm terrible with numbers and measurements. i couldn't understand the pattern, and how you had to reverse things and agh, i basically just decided i didn't have the right temperament or precision to be any good at it and swore never to attempt it again. fast forward and i've been trying to live low-impact (anti-fast fashion) lifestyle for 6 years now- buying second-hand clothes, thrifting, taking things to the tailor (quite often, because i'm only 5 foot) etc. but underwear is the one thing i still buy from high-street brands because buying from the ethical, small independents with good quality products is out of my budget right now (a single pair ranges from £10 to £18...which is $13 to $23). it was only recently when a friend showed me how to make a pair of knickers (what do americans call them, 'panties'? 'underwear'?) on her sewing machine and gifted me them that i started to wonder if it would be a good idea. they're also really comfy, one of my favourite pairs. we made them from old cotton curtains.there are pretty cheap beginners class near me. so it's just something that's been knocking around my head lately, i suppose trying to convince myself that i'll be capable enough to do it and that it would be a worthwhile investment.i'm just wondering if any of you have decided to learn to sew as part of your journey? and how you found it? is it worth investing in a sewing machine? have you decided to sew/knit as part of your zw journey?\",\n",
       "       \"i was wondering if it's alright for me to be part of this community.i'm a 23 year old guy who likes videogames, cooking, and being !i'm not technically 'waste', but if i were to rate myself on a scale from 1-100, (1 being completely wasteful and 100 being zw) i'd be an 85. (you can ask more specific questions to truly gauge if i'm more or less zw)although i consume animal products, i like/respect vegans/vegetarians (mainly ones who do it for ethical and ecological reasons rather than just dietary) and i aspire to be 100% vegan whenever i become financially comfortable. i'd say my diet mainly consists of:11.1% meat22.2% dairy33.3% grains33.3% fruits and vegetablesliquids:95% water2.5% almond milk2.5% social drinksand i *finish* all of my meals 99% of the time!the thought of single-use plastics disgusts me and it's been two years since i've ignorantly used them. i also try to convince friends and family to be less wasteful whenever i can/appropriate. i hope i can become a better follower of waste! hey everyone! 🌱\",\n",
       "       \"if anyone has a mom's organic market near them i just wanted to share my experience and tell you that you should absolutely check it out!  i used to be a weekly whole foods devotee but especially since being bought by amazon, i've felt they are closer to greenwashing than actually putting any real effort into reducing waste.  my local wf is about 5-10 minutes drive away and there is a mom's organic market about 15 minutes drive away which is a little far for regular grocery shopping but after visiting i've decided it's well worth it for at least a monthly bulk trip.mom's has what i would consider a true bulk section.  unlike wf, they actually let you use your own containers with no issues.  i found everything i was looking for in the bulk section- nuts, oats, rice, quinoa, and coffee and was able to use my own containers for all of it.  if i had known ahead of time i definitely would have also planned to get the bulk tofu, dish soap and detergent that they offer.  i also checked out their personal care section and they had many options for soaps etc that were zw and hard to find at a regular grocery store.  all of their produce was sold without the pointless shrink wrapping etc that you find in many grocery stores.  they also had a huge terracycle station where you can recycle stuff like old shoes, makeup and personal care packaging, even some food packaging.  you can also drop off compost items there if you don't have your own pile.  i didn't have a chance to try their naked lunch dining option but it looked like they had a lot of vegan food options and had stations to compost and recycle everything associated with your meal.  in short, even though it was a bit of a longer trip for me i found it was much more zw-friendly than whole foods and i definitely plan to return.  i definitely got an overall feeling that they are focusing on reducing waste as much as possible and it gave me more of a local community feel than wf. philly &amp; baltimore-area people: mom's organic market rave\",\n",
       "       'i am wanting to transition to bar body soap, shampoo bar, and shave bar. i have a shower ledge i share with my husband. i’m just wanting to see what your zw showers look like, for the most part! show me your bar soap holders!',\n",
       "       'we throw ours away every time it gets moldy, but we also need to have bath mats because our shower is slippery. any advice? does anyone have a zw alternative to bath mats in the shower?',\n",
       "       'wally shop sent an email saying that they are closing. no reason, just that they are closing and to please recycle your wally shop containers because \"all wally jars are made of a single plastic and can easily be recycled.\"  bs.they weren\\'t perfect, but were part of my zw solution for certain items. back to square one... wally shop is closing!',\n",
       "       'i am a serial list maker that recently decided i want to have a more zw lifestyle. i wanted to make a list of the things i will need to use up before i can start using their zw alternatives. i know donating is an option, but would rather use them up myself. i bought a lot of this from a warehouse club, hence the shamefully large quantities.  i feel like it’s going to take forever, but am also thankful i will get to introduce zw items a little at a time to get adjusted. my list includes: - 3 bottles of shampoo- 3 bottles of body wash- 3 tubes of toothpaste- 3 toothbrushes- 700 floss picks - 9 razors- 150 bathroom cups- 2 sticks of deodorant - 700 cotton rounds (i cut them into 4 pieces so they go a long way)- 10 boxes of tissues- 4 boxes of ziplock bagswhat products are on your list? what products do you need to use up to get to where you want to be in your  journey?',\n",
       "       'i’m having my birthday party in a couple of days in a small bar i’ve rented out. i usually don’t go all-out for my birthday, but since i’m turning 25 i thought i’d do something special. i’m really excited! however, i need some ideas on how i can decorate and still be environmentally-friendly. the bar gave me the go-ahead to decorate however i’d like. gimme all your best zw ideas!! list off your zw birthday decor ideas!',\n",
       "       \"with valentine's day coming up, i figured we'd start seeing lots of questions and ideas for valentine's day, so i took some time to start a list of thoughts/ideas regarding /low-waste valentine's day ideas. would love to hear any other ideas/suggestions! i'm not saying these are all perfect suggestions, just things that come to mind, and i hope they're somewhat helpful. i personally happen to love holidays and love celebrating them, so i love thinking of festive ways to do that, but i do believe we can still do it in a sustainable way and i've tried to think of different ways to do that here! any other thoughts/ideas welcome!**1.** **homemade body or bath products**things like shea butter, cocoa butter, vitamin e oil, etc. can all make luxurious body products and can be fun to make, and you can often buy the ingredients in bulk! now might be a super fun time to make some whipped body butter just for fun, or your own soap – there’s a lot you can do with some bulk items and dried flowers, for example, and it’s so much fun to make things together!  you can use coffee grounds, honey, cinnamon, lemon juice, vitamin e oil, and coconut oil for a super great body scrub.sugar, coconut oil, vitamin e oil, and lemon juice makes a great lip scrub!for baths, one of my favorite things to do is mix epsom salts, dried powdered milk, and essential oils (2-3c epsom salts, ¼c powdered milk, maybe 5-10 drops of essential oils that are safe for the skin like lavender or chamomile). the powdered milk acts as an emulsifier and mixes the eos in with the water and the epsom salts! pour in the mixture before you start the water, let it dissolve, and you have the world’s most luxurious bath. it makes a great gift! the best part is you can reuse old glass jars or other containers you already have for these, too. **2.** **homemade candles**you can buy beeswax or soy wax in bulk, and make homemade candles using glass jars you already have! it’s always good to have candles on hand for power outages, so they’re generally useful, but they can also just be romantic and beautiful. you could add essential oils, tea, or other things for scents if you wanted, and spend some time making candles together! light them and enjoy a nice meal with your new candles, and keep them on hand for the future, too.**3.** **make a home-cooked meal and dessert**imo, one of the best ways to spend holidays is simply together. i’m a sucker for holidays, and i love the festivity of them. but that doesn’t mean it has to be super commercial! take this time to make a full meal together: an appetizer, salad, main course, and dessert. make something that you’ve always wanted to try, or is more labor intensive or more courses than you’d normally make, and make it an evening together. turn on some beautiful music, drink a glass of wine or a cocktail, and enjoy some time making something together. maybe try that homemade gnocchi for the first time ever?!or, similarly- make a fancy brunch, or do breakfast in bed! if you don't want to bake, find a local bakery and go there rather than buying chocolates from the store. you can support a small business and this is usually less wasteful and less plastic than the valentine's day themed items at the store! **4.** **make special snacks or cocktails for a night in** make some fancy date night snacks! make a cheese board with bread, crackers, meats/cheeses/dried fruits/veggies – whatever you like! buy a fancy new cheese to try from a local shop that you normally wouldn't splurge on. make chocolate covered strawberries or pretzels or truffles or something festive with chocolate for a homemade valentine’s day treat- better than the store-bought chocolate anyway, you can customize it, and it’s fun to make! or make homemade sugar cookies and different colored frosting, and spend some time decorating cookies together just for fun. it doesn’t have to be just for christmas! maybe make a fancy new cocktail, or even just an old favorite that you love but don’t normally make. french 75’s, for example, make great valentine’s day cocktails, but there are so many festive and fun ideas for themed cocktails, too! take this chance to experiment and make something new and fun. taking the time to make some special snacks or cocktails can make the day feel festive without contributing to excess waste. **5.** **spend time together**in conjunction with the above suggestions- a nice homemade brunch or dinner or fancy snacks or cocktails- make it a special night in and turn on a movie, marathon a new television show, have a board game night, do a puzzle together, build a fort and read books side by side, etc. the best part of a day about love is just the chance to spend time with someone you love!**6.** **plants and flowers**i personally love plants and flowers and see no issue with buying them for valentine’s day, especially if you plan for it. if you plan in advance and do some scouting, it’s totally possible to buy flowers without plastic! bring your own bag from home to wrap up grocery store flowers rather than using the plastic at the store, buy ones that come in a vase that can be reused, or seek out your local farmers market for some plastic-free options. or buy a houseplant instead of flowers, that way it can continue to provide decoration and ambiance for a long time to come! check out your local nursery if you have one, and see what options they have - a great way to shop local. **7.** **start a garden**speaking of plants and flowers, you could take this time to start a small garden together. even if you only have a window or a tiny balcony, that’s probably enough to at least do a tiny herb garden, or start a plant of some sort (a tomato plant, for example). it depends on your light, climate, and space, but i always had an herb garden that did well, even when i lived in a tiny space with only some light. if you pick herbs that can grow well under your conditions you can create a sweet garden that lets you save money (fresh herbs are expensive!) and you can spend some time together on valentine’s day getting it set up (or, depending on your location, if now isn’t the best time, you could always start the planning process and get things together, and plan to actually start the garden at a later date when it’s more ideal). but even in a small space, you can sometimes do more than you expect, and it can be a really sweet hobby to have together. **8.** **couples activities**instead of gifts, spend some time together! book a couple’s massage or spa treatment, go to the zoo, go to a museum, take a class together (painting, cocktail making, sculpting, calligraphy, etc.), go see a play or show or musical (depending on your comfort level with covid), go wine tasting, go to the farmer's market together and spend a morning exploring, or go on a hike and pack a picnic lunch. **9.** **local/edible gifts**what about fancy tea or local coffee that your so likes? one of my favorite things to get is my favorite tea that’s normally more expensive than what i’d purchase on a daily basis, and you can package it up in a cute mug or glass jar (bonus if thrifted/reused!). other ideas include fancy spice blends they might enjoy, or flavored olive oils or butters or other spreads- edible gifts are always great because they tend to be less wasteful, and usually come in glass packaging that can be reused. see if you have any cute local food shops that sell speciality items like these that you can buy in bulk or that you know will be used and come in glass packaging! if your favorite local grocery store has a bulk aisle and you know your so has some favorite bulk treats, bring some glass jars and stock up on their favorite bulk goodies! or if you have another favorite local store that your so loves, this is a great time to support a local company. covid has been extraordinarily tough on small businesses and so this is a great time to shop local and support your local economy! local bookstores and nurseries, for example, are good ways to support your local economy as long as we're conscious of what we're purchasing and why. **10.** **shop local and have open conversations about gifts**personally, buying gifts is a love language of mine. i love buying people things, i do – i can’t help it. but to avoid waste, i do two things. first of all, i’m very open in my relationships. i ask people for their specific needs + wants so that i’m not adding unnecessary waste. i want to buy them something that they already need or are planning to buy for themselves. this means i ask for specific items, down to the size, model, color, etc. this brings me a lot of joy – being able to buy them something – but it ensures that i’m not adding waste that won’t get used. for example, if they are in need of a new bathrobe, it brings me joy to be able to buy that for them, but i only do it if i know exactly what they want and i know it’s fulfilling an existing need. the second thing i do is shop local and try to support small businesses as much as i can. so, if you’re like me and love buying gifts, i encourage you to talk to people now, and find out what it is they need so that if you want to buy a gift, you can use this as a chance to fill an existing need of theirs. plus, if you plan ahead, it lets you locate local or thrifted options since that can sometimes take more time than ordering from amazon!i don’t think zw has to mean no gifts ever, but i do think that we can be cognizant and ensure that our gifts aren’t contributing waste that doesn’t need to exist. i try to avoid novelty gifts and use the chance to buy gifts as a time to buy something that they need and to buy them a quality item that will stand the test of time. open communication about needs + wants with people we love, plus planning ahead and buying local or thrifting, can all be sustainable ways to give gifts if that’s something that matters to you like it does to me. 10 /low waste valentine's day ideas!\",\n",
       "       'how to handle the stigma and the toxic part of the zw community? i am really struggling with the ableism that the zw community can have and it makes me feel almost guilty for being in the community... like even though the \"save the turtles\" and plastic ban people don\\'t actually represent zw and what it should stand for it\\'s hard to block out the nonsense... so i could just any advice i could get on dealing with it and reminding myself that eff them i can be zw and use single waste plastics. q for disabled zwers',\n",
       "       \"i'm getting back into low waste and such, and im looking for the best /low waste toothbrushes and toothpaste. whenever i look for zw toothpaste it never contains flouride! and id really rather not make my own, for the same reason and also because it seems like my teeth wouldnt really get cleaned that way. for reference, i'm in australia, so nothing from walmart/wholefoods ty lol toothpaste and toothbrushes?\",\n",
       "       'i’m a zw wanna be and transfer from north fl living in boca raton but working all over broward county. so i’m down for either pickup or drop off options. compost options in south fl?',\n",
       "       \" is still something i'm struggling with, and i get frustrated because it's like a dance of 2 steps forward and 10 back. i'm trying to make small changes and work my way up, but it feels like there is always something to overcome -- not that i expect this to be super easy. one main struggle is food! everything comes wrap in some kind of plastic. i've been trying to eat healthier, but i can't escape all this plastic. i don't have a bulk store in my area, and i can't travel to a farmer's market. i've been temporarily ordering some groceries online, but i end up with more plastic. sometimes i get a bit of resistance from my boyfriend on certain things. for example, we can't compost much since we live on the second floor in an apartment, so we still use some plastic for trash. i haven't been buying trash bags i'll just find bags we already have (dog food bag) and fill them. it was working for me, but but not for him. after 3 weeks he went out and bought a few items including trash bags. most of the items he came home with were replaced with more  methods/products. now i feel like i'm starting from scratch, and a part of me just wants to quit. mini rant -- zw journey not going great rn\",\n",
       "       \"so. was boxing up some stuff to send to my grandma when i started smiling about the boxes she use to send us as kids and how excited we'd get.why? she packed everything with actual popcorn. the gifts were awesome but a literal massive box of popcorn! she lined the box with a big bag to keep it dry and edible then filled it with plain air popped popcorn lol.basically she was  packaging 30 years and i only just realised it today. we'd eat most of it but the rest was fed to wildlife and composted. better than foam packing or hundreds of feet of bubble wrap.if you're recipient isn't going to eat it you can skip the plastic bag and just have them compost or feed it to wildlife for extra zw-ness. packing up breakable items to ship - popcorn!\",\n",
       "       'standard things like bringing my own cup or bags are a no go with covid. and take out is also getting extra trashy. aside from making coffee and dinner at home, any ideas. id like to support my local businesses more. zw during quarentine',\n",
       "       \"rs i need some help please!  a friend of mine has organised a sort of off-season secret santa for our small group and i am in a bit of a pickle! i am really conscious of waste, but i still want to participate.   we are meant to buy weekly $5 presents for a few weeks then a bigger $20-30 at the end.   does anyone have any suggestions? or even just some avenues to think about? i will be able to personalize the big present easily but the little 'token' gifts i feel are such 'junk' fodder and i really want to keep it zw!   i am reluctant to just find stuff around my house to pass on, and while i am very happy to have a crack at making something i am not gifted with many talents in the arts and crafts...  thanks!! kris kringle / secret santa but make it zw\",\n",
       "       \"i'm verry happy to share the result of my long try-and-fail journey for finding this extremely easy true--waste hair-styling spray. skip few paragraphs to get to the recipe, i was just so exited i had to write out the emotions \\\\^\\\\_\\\\^ i inherited very thin and flat hair, so after washing and drying, i look like a sad wet cat. but i am very lazy when it comes to hair routines, so i look like sad-wet-kitty anyway. if your looks the same, try this recipe, maybe it works for you as well.when i started to adopt the -waste lifestyle, i kept finding numerous diy recipes of volumizing sprays, but all of them included some crazy ingredients that have to come in so many packages. using even one ingredient that has to come in package in order to create a package-free product has no sense, so i kept looking.for this recipe i got inspired by punk folks using beer to hold their crazy-high mohawks on concerts :). i live in czech republic - the beer kingdom. almost every beer glass gets refilled, so it's a perfect -waste ingredient, heck, in czechia, it's more ecological to drink beer than bottled water, and more cheap, i swear, lol.  so, if you live in a country where beer bottles are repurposed and have a zw shop nearby, you can create this hair spray completely package free. the only package you need is your reused sprayer-bottle.\\\\--------------------------------------tl-dr:here is the recipe:i glass of beer (dark is better, but not necesarry)1 teaspoon of saltfew cloves (adds great smell and hair-growth boosting)optionall: rosemary essential oil (or whatever eo you own, rosemary has also growth-boosting properties), i used it just because we got plenty of eo's as a gift.put beer on stove on wery low fire, add cloves and salt. let the liquid slightly simmer and slowly reduce to half, or more for extra hold. just be careful not to let it thicken too much, or your sprayer will get clogged. then, put the heat out, put few drops of eo and let it cool out. filter through a cloth or  and pour into your sprayer - that's it.usage: spray on dry hair, play iron maiden, enjoy the music and do some head-bangs, mess up with your hair to let the spray dry. brush it. done. hair volumizing spray recipe!\",\n",
       "       \"hello good people of zw. first time posting here and want to quickly thank you all for such awesome inspiration. i have a young toddler and am not so , but i'm trying in the ways that i can. that leads me to this! i'm wondering if anyone has a recommendation for freeze dried fruit that comes in more eco-conscious packaging (i think zw might be a stretch here). offspring loves the crunchiness and i love that there isn't dried gummy-ish fruit stuck in her teeth where i can't get to it. since she's so little i prefer the softness of freeze dried over hard dehydrated, but if anyone has advice or recommendations i would be very grateful. i'm currently buying freeze dried fruit from trader joes and their plastic packages make me very sad. maybe there is recycling for the packages? i'm in southern california if it makes a difference. i looked into a home freeze drier and they are crazy money :( thank you! freeze dried fruit\",\n",
       "       'and i get lonesome about it. i am the only zw person i know.'],\n",
       "      dtype=object)"
      ]
     },
     "execution_count": 211,
     "metadata": {},
     "output_type": "execute_result"
    }
   ],
   "source": [
    "# Inspect text of suspicious words (EXAMPLE)\n",
    "\n",
    "print(mnb_tvec_tok.loc[mnb_tvec_tok['zw']>0,\"fulltext\"].shape)\n",
    "mnb_tvec_tok.loc[mnb_tvec_tok['zw']>0,\"fulltext\"][:58].values"
   ]
  },
  {
   "cell_type": "markdown",
   "id": "06cda5ed",
   "metadata": {},
   "source": [
    "The above this apears to be spam. To add \"zw\" and common words which are part of spam to stop word list."
   ]
  },
  {
   "cell_type": "code",
   "execution_count": 288,
   "id": "4f34c760",
   "metadata": {},
   "outputs": [],
   "source": [
    "# Add to stopword list \n",
    "\n",
    "sw_list1.extend(list(mnb_tvec_val))"
   ]
  },
  {
   "cell_type": "code",
   "execution_count": 136,
   "id": "e3ff111d",
   "metadata": {},
   "outputs": [
    {
     "data": {
      "text/html": [
       "<div>\n",
       "<style scoped>\n",
       "    .dataframe tbody tr th:only-of-type {\n",
       "        vertical-align: middle;\n",
       "    }\n",
       "\n",
       "    .dataframe tbody tr th {\n",
       "        vertical-align: top;\n",
       "    }\n",
       "\n",
       "    .dataframe thead th {\n",
       "        text-align: right;\n",
       "    }\n",
       "</style>\n",
       "<table border=\"1\" class=\"dataframe\">\n",
       "  <thead>\n",
       "    <tr style=\"text-align: right;\">\n",
       "      <th></th>\n",
       "      <th>feature</th>\n",
       "      <th>impurity_dec</th>\n",
       "    </tr>\n",
       "  </thead>\n",
       "  <tbody>\n",
       "    <tr>\n",
       "      <th>0</th>\n",
       "      <td>00</td>\n",
       "      <td>0.000085</td>\n",
       "    </tr>\n",
       "    <tr>\n",
       "      <th>1</th>\n",
       "      <td>000</td>\n",
       "      <td>0.000385</td>\n",
       "    </tr>\n",
       "    <tr>\n",
       "      <th>2</th>\n",
       "      <td>000 000</td>\n",
       "      <td>0.000000</td>\n",
       "    </tr>\n",
       "    <tr>\n",
       "      <th>3</th>\n",
       "      <td>000 miles</td>\n",
       "      <td>0.000001</td>\n",
       "    </tr>\n",
       "    <tr>\n",
       "      <th>4</th>\n",
       "      <td>000 month</td>\n",
       "      <td>0.000000</td>\n",
       "    </tr>\n",
       "  </tbody>\n",
       "</table>\n",
       "</div>"
      ],
      "text/plain": [
       "     feature  impurity_dec\n",
       "0         00      0.000085\n",
       "1        000      0.000385\n",
       "2    000 000      0.000000\n",
       "3  000 miles      0.000001\n",
       "4  000 month      0.000000"
      ]
     },
     "execution_count": 136,
     "metadata": {},
     "output_type": "execute_result"
    }
   ],
   "source": [
    "# Inspect Feature Importances for CountVectorizer RF\n",
    "\n",
    "rf_cvec_impt = pd.read_csv('./datasets/rf_cvec_impt.csv')\n",
    "rf_cvec_impt.rename(columns={rf_cvec_impt.columns[0]: \"feature\"}, inplace=True)\n",
    "rf_cvec_impt.head()"
   ]
  },
  {
   "cell_type": "code",
   "execution_count": 206,
   "id": "5eebafe1",
   "metadata": {},
   "outputs": [
    {
     "data": {
      "text/html": [
       "<div>\n",
       "<style scoped>\n",
       "    .dataframe tbody tr th:only-of-type {\n",
       "        vertical-align: middle;\n",
       "    }\n",
       "\n",
       "    .dataframe tbody tr th {\n",
       "        vertical-align: top;\n",
       "    }\n",
       "\n",
       "    .dataframe thead th {\n",
       "        text-align: right;\n",
       "    }\n",
       "</style>\n",
       "<table border=\"1\" class=\"dataframe\">\n",
       "  <thead>\n",
       "    <tr style=\"text-align: right;\">\n",
       "      <th></th>\n",
       "      <th>feature</th>\n",
       "      <th>impurity_dec</th>\n",
       "    </tr>\n",
       "  </thead>\n",
       "  <tbody>\n",
       "    <tr>\n",
       "      <th>13630</th>\n",
       "      <td>product</td>\n",
       "      <td>0.001876</td>\n",
       "    </tr>\n",
       "    <tr>\n",
       "      <th>1485</th>\n",
       "      <td>bank</td>\n",
       "      <td>0.001866</td>\n",
       "    </tr>\n",
       "    <tr>\n",
       "      <th>12993</th>\n",
       "      <td>plastic bags</td>\n",
       "      <td>0.001850</td>\n",
       "    </tr>\n",
       "    <tr>\n",
       "      <th>6561</th>\n",
       "      <td>gas</td>\n",
       "      <td>0.001832</td>\n",
       "    </tr>\n",
       "    <tr>\n",
       "      <th>2627</th>\n",
       "      <td>cardboard</td>\n",
       "      <td>0.001777</td>\n",
       "    </tr>\n",
       "    <tr>\n",
       "      <th>102</th>\n",
       "      <td>15</td>\n",
       "      <td>0.001776</td>\n",
       "    </tr>\n",
       "    <tr>\n",
       "      <th>395</th>\n",
       "      <td>60</td>\n",
       "      <td>0.001775</td>\n",
       "    </tr>\n",
       "    <tr>\n",
       "      <th>10793</th>\n",
       "      <td>metal</td>\n",
       "      <td>0.001771</td>\n",
       "    </tr>\n",
       "    <tr>\n",
       "      <th>17398</th>\n",
       "      <td>throw</td>\n",
       "      <td>0.001755</td>\n",
       "    </tr>\n",
       "    <tr>\n",
       "      <th>11184</th>\n",
       "      <td>monthly</td>\n",
       "      <td>0.001732</td>\n",
       "    </tr>\n",
       "  </tbody>\n",
       "</table>\n",
       "</div>"
      ],
      "text/plain": [
       "            feature  impurity_dec\n",
       "13630       product      0.001876\n",
       "1485           bank      0.001866\n",
       "12993  plastic bags      0.001850\n",
       "6561            gas      0.001832\n",
       "2627      cardboard      0.001777\n",
       "102              15      0.001776\n",
       "395              60      0.001775\n",
       "10793         metal      0.001771\n",
       "17398         throw      0.001755\n",
       "11184       monthly      0.001732"
      ]
     },
     "execution_count": 206,
     "metadata": {},
     "output_type": "execute_result"
    }
   ],
   "source": [
    "# screened through the top 120 important words\n",
    "# to identify those that are SUSPICIOUS\n",
    "\n",
    "rf_cvec_impt.sort_values('impurity_dec', ascending = False)[100:110]"
   ]
  },
  {
   "cell_type": "code",
   "execution_count": 139,
   "id": "1e3faf8a",
   "metadata": {},
   "outputs": [
    {
     "data": {
      "text/plain": [
       "15       10\n",
       "350      50\n",
       "151      20\n",
       "8410    ity\n",
       "227      25\n",
       "7626     hi\n",
       "102      15\n",
       "395      60\n",
       "165     200\n",
       "281     300\n",
       "Name: feature, dtype: object"
      ]
     },
     "execution_count": 139,
     "metadata": {},
     "output_type": "execute_result"
    }
   ],
   "source": [
    "# saved the top words whicha are SUSPICIOUS\n",
    "\n",
    "rf_cvec_val = rf_cvec_impt['feature'][[15, 350, 151, 8410, 227, 7626, 102, 395, 165, 281]]\n",
    "rf_cvec_val"
   ]
  },
  {
   "cell_type": "code",
   "execution_count": 140,
   "id": "91463398",
   "metadata": {},
   "outputs": [
    {
     "data": {
      "text/plain": [
       "(13400, 20001)"
      ]
     },
     "execution_count": 140,
     "metadata": {},
     "output_type": "execute_result"
    }
   ],
   "source": [
    "# Open tokens file for RF Cvec\n",
    "\n",
    "rf_cvec_tok = pd.read_csv('./datasets/rf_cvec_tok.csv')\n",
    "rf_cvec_tok.shape"
   ]
  },
  {
   "cell_type": "code",
   "execution_count": 210,
   "id": "82a8e467",
   "metadata": {},
   "outputs": [
    {
     "name": "stdout",
     "output_type": "stream",
     "text": [
      "(714,)\n"
     ]
    },
    {
     "data": {
      "text/plain": [
       "array([\"i'm looking for ideas on how/where to score cheap dried fruits and nuts. thinking in the 10/20 lb or so range. i don't mind shopping online or locally (nj, usa). they store well and are nutritional. looking for bulk dried fruits and nuts.\"],\n",
       "      dtype=object)"
      ]
     },
     "execution_count": 210,
     "metadata": {},
     "output_type": "execute_result"
    }
   ],
   "source": [
    "# Inspect text of suspicious words (EXAMPLE)\n",
    "\n",
    "print(rf_cvec_tok.loc[rf_cvec_tok['10']>0,\"fulltext\"].shape)\n",
    "rf_cvec_tok.loc[rf_cvec_tok['10']>0,\"fulltext\"][:1].values"
   ]
  },
  {
   "cell_type": "markdown",
   "id": "5a5b15a7",
   "metadata": {},
   "source": [
    "Like in MNB, such words appear to be spam. To add these words as stop words list."
   ]
  },
  {
   "cell_type": "code",
   "execution_count": 290,
   "id": "405b1fa7",
   "metadata": {},
   "outputs": [],
   "source": [
    "# Add to stopword list \n",
    "\n",
    "sw_list1.extend(list(rf_cvec_val))"
   ]
  },
  {
   "cell_type": "code",
   "execution_count": 144,
   "id": "0b717ca6",
   "metadata": {},
   "outputs": [
    {
     "data": {
      "text/html": [
       "<div>\n",
       "<style scoped>\n",
       "    .dataframe tbody tr th:only-of-type {\n",
       "        vertical-align: middle;\n",
       "    }\n",
       "\n",
       "    .dataframe tbody tr th {\n",
       "        vertical-align: top;\n",
       "    }\n",
       "\n",
       "    .dataframe thead th {\n",
       "        text-align: right;\n",
       "    }\n",
       "</style>\n",
       "<table border=\"1\" class=\"dataframe\">\n",
       "  <thead>\n",
       "    <tr style=\"text-align: right;\">\n",
       "      <th></th>\n",
       "      <th>feature</th>\n",
       "      <th>impurity_dec</th>\n",
       "    </tr>\n",
       "  </thead>\n",
       "  <tbody>\n",
       "    <tr>\n",
       "      <th>0</th>\n",
       "      <td>00</td>\n",
       "      <td>0.000085</td>\n",
       "    </tr>\n",
       "    <tr>\n",
       "      <th>1</th>\n",
       "      <td>000</td>\n",
       "      <td>0.000385</td>\n",
       "    </tr>\n",
       "    <tr>\n",
       "      <th>2</th>\n",
       "      <td>000 000</td>\n",
       "      <td>0.000000</td>\n",
       "    </tr>\n",
       "    <tr>\n",
       "      <th>3</th>\n",
       "      <td>000 miles</td>\n",
       "      <td>0.000001</td>\n",
       "    </tr>\n",
       "    <tr>\n",
       "      <th>4</th>\n",
       "      <td>000 month</td>\n",
       "      <td>0.000000</td>\n",
       "    </tr>\n",
       "  </tbody>\n",
       "</table>\n",
       "</div>"
      ],
      "text/plain": [
       "     feature  impurity_dec\n",
       "0         00      0.000085\n",
       "1        000      0.000385\n",
       "2    000 000      0.000000\n",
       "3  000 miles      0.000001\n",
       "4  000 month      0.000000"
      ]
     },
     "execution_count": 144,
     "metadata": {},
     "output_type": "execute_result"
    }
   ],
   "source": [
    "# Inspect Feature Importances for TfidfVectorizer RF\n",
    "\n",
    "rf_tvec_impt = pd.read_csv('./datasets/rf_tvec_impt.csv')\n",
    "rf_tvec_impt.rename(columns={rf_tvec_impt.columns[0]: \"feature\"}, inplace=True)\n",
    "rf_tvec_impt.head()"
   ]
  },
  {
   "cell_type": "code",
   "execution_count": 145,
   "id": "2aaf673c",
   "metadata": {},
   "outputs": [
    {
     "data": {
      "text/html": [
       "<div>\n",
       "<style scoped>\n",
       "    .dataframe tbody tr th:only-of-type {\n",
       "        vertical-align: middle;\n",
       "    }\n",
       "\n",
       "    .dataframe tbody tr th {\n",
       "        vertical-align: top;\n",
       "    }\n",
       "\n",
       "    .dataframe thead th {\n",
       "        text-align: right;\n",
       "    }\n",
       "</style>\n",
       "<table border=\"1\" class=\"dataframe\">\n",
       "  <thead>\n",
       "    <tr style=\"text-align: right;\">\n",
       "      <th></th>\n",
       "      <th>feature</th>\n",
       "      <th>impurity_dec</th>\n",
       "    </tr>\n",
       "  </thead>\n",
       "  <tbody>\n",
       "    <tr>\n",
       "      <th>910</th>\n",
       "      <td>alternative</td>\n",
       "      <td>0.002158</td>\n",
       "    </tr>\n",
       "    <tr>\n",
       "      <th>14373</th>\n",
       "      <td>reducing</td>\n",
       "      <td>0.002142</td>\n",
       "    </tr>\n",
       "    <tr>\n",
       "      <th>1516</th>\n",
       "      <td>bars</td>\n",
       "      <td>0.002097</td>\n",
       "    </tr>\n",
       "    <tr>\n",
       "      <th>4522</th>\n",
       "      <td>disposable</td>\n",
       "      <td>0.002077</td>\n",
       "    </tr>\n",
       "    <tr>\n",
       "      <th>14299</th>\n",
       "      <td>recyclable</td>\n",
       "      <td>0.002070</td>\n",
       "    </tr>\n",
       "    <tr>\n",
       "      <th>4700</th>\n",
       "      <td>dollars</td>\n",
       "      <td>0.001983</td>\n",
       "    </tr>\n",
       "    <tr>\n",
       "      <th>6306</th>\n",
       "      <td>free</td>\n",
       "      <td>0.001964</td>\n",
       "    </tr>\n",
       "    <tr>\n",
       "      <th>7720</th>\n",
       "      <td>home</td>\n",
       "      <td>0.001920</td>\n",
       "    </tr>\n",
       "    <tr>\n",
       "      <th>7626</th>\n",
       "      <td>hi</td>\n",
       "      <td>0.001896</td>\n",
       "    </tr>\n",
       "    <tr>\n",
       "      <th>14029</th>\n",
       "      <td>razor</td>\n",
       "      <td>0.001886</td>\n",
       "    </tr>\n",
       "    <tr>\n",
       "      <th>13630</th>\n",
       "      <td>product</td>\n",
       "      <td>0.001876</td>\n",
       "    </tr>\n",
       "    <tr>\n",
       "      <th>1485</th>\n",
       "      <td>bank</td>\n",
       "      <td>0.001866</td>\n",
       "    </tr>\n",
       "    <tr>\n",
       "      <th>12993</th>\n",
       "      <td>plastic bags</td>\n",
       "      <td>0.001850</td>\n",
       "    </tr>\n",
       "    <tr>\n",
       "      <th>6561</th>\n",
       "      <td>gas</td>\n",
       "      <td>0.001832</td>\n",
       "    </tr>\n",
       "    <tr>\n",
       "      <th>2627</th>\n",
       "      <td>cardboard</td>\n",
       "      <td>0.001777</td>\n",
       "    </tr>\n",
       "    <tr>\n",
       "      <th>102</th>\n",
       "      <td>15</td>\n",
       "      <td>0.001776</td>\n",
       "    </tr>\n",
       "    <tr>\n",
       "      <th>395</th>\n",
       "      <td>60</td>\n",
       "      <td>0.001775</td>\n",
       "    </tr>\n",
       "    <tr>\n",
       "      <th>10793</th>\n",
       "      <td>metal</td>\n",
       "      <td>0.001771</td>\n",
       "    </tr>\n",
       "    <tr>\n",
       "      <th>17398</th>\n",
       "      <td>throw</td>\n",
       "      <td>0.001755</td>\n",
       "    </tr>\n",
       "    <tr>\n",
       "      <th>11184</th>\n",
       "      <td>monthly</td>\n",
       "      <td>0.001732</td>\n",
       "    </tr>\n",
       "    <tr>\n",
       "      <th>17676</th>\n",
       "      <td>toothpaste</td>\n",
       "      <td>0.001728</td>\n",
       "    </tr>\n",
       "    <tr>\n",
       "      <th>18570</th>\n",
       "      <td>value</td>\n",
       "      <td>0.001717</td>\n",
       "    </tr>\n",
       "    <tr>\n",
       "      <th>12938</th>\n",
       "      <td>plan</td>\n",
       "      <td>0.001715</td>\n",
       "    </tr>\n",
       "    <tr>\n",
       "      <th>165</th>\n",
       "      <td>200</td>\n",
       "      <td>0.001679</td>\n",
       "    </tr>\n",
       "    <tr>\n",
       "      <th>13102</th>\n",
       "      <td>plastics</td>\n",
       "      <td>0.001653</td>\n",
       "    </tr>\n",
       "    <tr>\n",
       "      <th>281</th>\n",
       "      <td>300</td>\n",
       "      <td>0.001652</td>\n",
       "    </tr>\n",
       "    <tr>\n",
       "      <th>3174</th>\n",
       "      <td>cloth</td>\n",
       "      <td>0.001618</td>\n",
       "    </tr>\n",
       "    <tr>\n",
       "      <th>12279</th>\n",
       "      <td>pads</td>\n",
       "      <td>0.001603</td>\n",
       "    </tr>\n",
       "    <tr>\n",
       "      <th>10593</th>\n",
       "      <td>materials</td>\n",
       "      <td>0.001588</td>\n",
       "    </tr>\n",
       "    <tr>\n",
       "      <th>4259</th>\n",
       "      <td>deodorant</td>\n",
       "      <td>0.001579</td>\n",
       "    </tr>\n",
       "  </tbody>\n",
       "</table>\n",
       "</div>"
      ],
      "text/plain": [
       "            feature  impurity_dec\n",
       "910     alternative      0.002158\n",
       "14373      reducing      0.002142\n",
       "1516           bars      0.002097\n",
       "4522     disposable      0.002077\n",
       "14299    recyclable      0.002070\n",
       "4700        dollars      0.001983\n",
       "6306           free      0.001964\n",
       "7720           home      0.001920\n",
       "7626             hi      0.001896\n",
       "14029         razor      0.001886\n",
       "13630       product      0.001876\n",
       "1485           bank      0.001866\n",
       "12993  plastic bags      0.001850\n",
       "6561            gas      0.001832\n",
       "2627      cardboard      0.001777\n",
       "102              15      0.001776\n",
       "395              60      0.001775\n",
       "10793         metal      0.001771\n",
       "17398         throw      0.001755\n",
       "11184       monthly      0.001732\n",
       "17676    toothpaste      0.001728\n",
       "18570         value      0.001717\n",
       "12938          plan      0.001715\n",
       "165             200      0.001679\n",
       "13102      plastics      0.001653\n",
       "281             300      0.001652\n",
       "3174          cloth      0.001618\n",
       "12279          pads      0.001603\n",
       "10593     materials      0.001588\n",
       "4259      deodorant      0.001579"
      ]
     },
     "execution_count": 145,
     "metadata": {},
     "output_type": "execute_result"
    }
   ],
   "source": [
    "rf_tvec_impt.sort_values('impurity_dec', ascending = False)[90:120]"
   ]
  },
  {
   "cell_type": "code",
   "execution_count": 146,
   "id": "1fff9dd3",
   "metadata": {},
   "outputs": [
    {
     "data": {
      "text/plain": [
       "15       10\n",
       "350      50\n",
       "151      20\n",
       "8410    ity\n",
       "227      25\n",
       "7626     hi\n",
       "102      15\n",
       "395      60\n",
       "165     200\n",
       "281     300\n",
       "Name: feature, dtype: object"
      ]
     },
     "execution_count": 146,
     "metadata": {},
     "output_type": "execute_result"
    }
   ],
   "source": [
    "# saved the top words whicha are SUSPICIOUS\n",
    "\n",
    "rf_tvec_val = rf_cvec_impt['feature'][[15, 350, 151, 8410, 227, 7626, 102, 395, 165, 281]]\n",
    "rf_tvec_val"
   ]
  },
  {
   "cell_type": "code",
   "execution_count": 147,
   "id": "d894ff27",
   "metadata": {},
   "outputs": [
    {
     "data": {
      "text/plain": [
       "True"
      ]
     },
     "execution_count": 147,
     "metadata": {},
     "output_type": "execute_result"
    }
   ],
   "source": [
    "list(rf_cvec_val) == list(rf_tvec_val)"
   ]
  },
  {
   "cell_type": "markdown",
   "id": "084aad32",
   "metadata": {},
   "source": [
    "As the suspicious words in RF CVEC and RF TVEC are the same, there are no new words to assess, and to add to the stopword list."
   ]
  },
  {
   "cell_type": "markdown",
   "id": "56147e0a",
   "metadata": {},
   "source": [
    "**Most influential features**\n",
    "\n",
    "We have identified and extracted a set of words that are likely to contribute to overfitting (sw_set1), and will use them for model tuning later on. We foresee that this set of words will decrease the accuracy of the train set, as quite a number of them are bases on spam posts. However it should benefit prediction in the long run, as such spam in its exact form is unlikely to exist beyond the reddit environment."
   ]
  },
  {
   "cell_type": "markdown",
   "id": "339ffda3",
   "metadata": {},
   "source": [
    "# Investigate wrongly classified posts and their words\n",
    "\n",
    "For MNB CVEC and RF CVEC best models:\n",
    "1. To extract all the wrongly classify posts\n",
    "2. To split posts into False Positive (FP) and False Negative (FN)\n",
    "3. Perform tokenization on each group and assess the top words.\n",
    "4. For common words which do not fit in either subreddit and are more like \"connector\" words, they are added to a set of stop words to test later."
   ]
  },
  {
   "cell_type": "code",
   "execution_count": 179,
   "id": "b74fb49b",
   "metadata": {},
   "outputs": [],
   "source": [
    "# Create Function to identify classification errors\n",
    "\n",
    "def find_error(gs):\n",
    "\n",
    "    error_df_2a = pd.DataFrame()\n",
    "    error_df_2a['index'] = y_test.index\n",
    "    error_df_2a['zw_true'] = y_test.values\n",
    "    error_df_2a['zw_pred'] = gs.predict(X_test)\n",
    "    error_df_2a.set_index('index', drop= True, inplace=True)\n",
    "    error_df_2a = pd.concat([error_df_2a, pd.DataFrame(X_test)], axis = 1)\n",
    "    \n",
    "    mask = error_df_2a['zw_true']!=error_df_2a['zw_pred'].values\n",
    "    \n",
    "    return error_df_2a[mask]"
   ]
  },
  {
   "cell_type": "markdown",
   "id": "2a0f0906",
   "metadata": {},
   "source": [
    "### Investigate wrongly classified tokens in MNB CVEC"
   ]
  },
  {
   "cell_type": "code",
   "execution_count": 255,
   "id": "21c7821d",
   "metadata": {},
   "outputs": [],
   "source": [
    "# Specify Best cvec MNB Model\n",
    "\n",
    "pipe = Pipeline([\n",
    "    ('cvec', CountVectorizer()),\n",
    "    ('nb', MultinomialNB())\n",
    "])\n",
    "\n",
    "pipe_params = {\n",
    "    'cvec__max_features': [20_000],\n",
    "    'cvec__min_df': [3],\n",
    "    'cvec__max_df': [.9],\n",
    "    'cvec__ngram_range': [(1,2)],\n",
    "    'cvec__stop_words': ['english']\n",
    "    \n",
    "}\n",
    "\n",
    "best_cvec_mnb = GridSearchCV(pipe,\n",
    "                  param_grid=pipe_params, # search parameters\n",
    "                  cv=5)                   # 5-fold cross-validation"
   ]
  },
  {
   "cell_type": "code",
   "execution_count": null,
   "id": "f78c1022",
   "metadata": {},
   "outputs": [],
   "source": [
    "# Specify Best tvec MNB Model\n",
    "\n",
    "pipe = Pipeline([\n",
    "    ('tvec', TfidfVectorizer()),\n",
    "    ('nb', MultinomialNB())\n",
    "])\n",
    "\n",
    "pipe_params = {\n",
    "    'tvec__max_features': [20_000],\n",
    "    'tvec__min_df': [3],\n",
    "    'tvec__max_df': [.9],\n",
    "    'tvec__ngram_range': [(1,2)],\n",
    "    'tvec__stop_words': ['english']\n",
    "    \n",
    "}\n",
    "\n",
    "best_tvec_mnb = GridSearchCV(pipe,\n",
    "                  param_grid=pipe_params, # search parameters\n",
    "                  cv=5)                   # 5-fold cross-validation"
   ]
  },
  {
   "cell_type": "code",
   "execution_count": null,
   "id": "25cd3e3e",
   "metadata": {},
   "outputs": [],
   "source": [
    "# Specify Best cvec RF Model\n",
    "\n",
    "pipe = Pipeline([\n",
    "    ('cvec', CountVectorizer()),\n",
    "    ('rf', RandomForestClassifier())\n",
    "])\n",
    "\n",
    "pipe_params = {\n",
    "    'cvec__max_features': [20_000],\n",
    "    'cvec__min_df': [3],\n",
    "    'cvec__max_df': [.9],\n",
    "    'cvec__ngram_range': [(1,2)],\n",
    "    'cvec__stop_words': ['english'],\n",
    "    'rf__n_estimators': [200],\n",
    "    'rf__max_depth': [None],\n",
    "    'rf__min_samples_leaf': [5]\n",
    "    \n",
    "}\n",
    "\n",
    "best_cvec_rf = GridSearchCV(pipe,\n",
    "                  param_grid=pipe_params, # search parameters\n",
    "                  cv=5)                   # 5-fold cross-validation"
   ]
  },
  {
   "cell_type": "code",
   "execution_count": null,
   "id": "c2be4e1c",
   "metadata": {},
   "outputs": [],
   "source": [
    "# Specify Best tvec RF Model\n",
    "\n",
    "pipe = Pipeline([\n",
    "    ('tvec', TfidfVectorizer()),\n",
    "    ('rf', RandomForestClassifier())\n",
    "])\n",
    "\n",
    "pipe_params = {\n",
    "    'tvec__max_features': [30_000],\n",
    "    'tvec__min_df': [3],\n",
    "    'tvec__max_df': [.9],\n",
    "    'tvec__ngram_range': [(1,2)],\n",
    "    'tvec__stop_words': ['english'],\n",
    "    'rf__n_estimators': [300],\n",
    "    'rf__max_depth': [None],\n",
    "    'rf__min_samples_leaf': [3]\n",
    "}\n",
    "\n",
    "best_tvec_rf = GridSearchCV(pipe,\n",
    "                  param_grid=pipe_params, # search parameters\n",
    "                  cv=5)                   # 5-fold cross-validation"
   ]
  },
  {
   "cell_type": "code",
   "execution_count": 227,
   "id": "ccbaceec",
   "metadata": {},
   "outputs": [
    {
     "data": {
      "text/html": [
       "<div>\n",
       "<style scoped>\n",
       "    .dataframe tbody tr th:only-of-type {\n",
       "        vertical-align: middle;\n",
       "    }\n",
       "\n",
       "    .dataframe tbody tr th {\n",
       "        vertical-align: top;\n",
       "    }\n",
       "\n",
       "    .dataframe thead th {\n",
       "        text-align: right;\n",
       "    }\n",
       "</style>\n",
       "<table border=\"1\" class=\"dataframe\">\n",
       "  <thead>\n",
       "    <tr style=\"text-align: right;\">\n",
       "      <th></th>\n",
       "      <th>zw_true</th>\n",
       "      <th>zw_pred</th>\n",
       "      <th>fulltext</th>\n",
       "    </tr>\n",
       "  </thead>\n",
       "  <tbody>\n",
       "    <tr>\n",
       "      <th>18521</th>\n",
       "      <td>1</td>\n",
       "      <td>0</td>\n",
       "      <td>hey guys, i'm in the market to buy a used lapt...</td>\n",
       "    </tr>\n",
       "    <tr>\n",
       "      <th>2929</th>\n",
       "      <td>0</td>\n",
       "      <td>1</td>\n",
       "      <td>i do this already.  we reuse them for non-food...</td>\n",
       "    </tr>\n",
       "    <tr>\n",
       "      <th>17476</th>\n",
       "      <td>1</td>\n",
       "      <td>0</td>\n",
       "      <td>i had a minor realization recently. i had a ca...</td>\n",
       "    </tr>\n",
       "    <tr>\n",
       "      <th>7455</th>\n",
       "      <td>0</td>\n",
       "      <td>1</td>\n",
       "      <td>topic: why are paper towels so darn expensive?...</td>\n",
       "    </tr>\n",
       "    <tr>\n",
       "      <th>12926</th>\n",
       "      <td>1</td>\n",
       "      <td>0</td>\n",
       "      <td>i've had a pretty poor experience with public ...</td>\n",
       "    </tr>\n",
       "  </tbody>\n",
       "</table>\n",
       "</div>"
      ],
      "text/plain": [
       "       zw_true  zw_pred                                           fulltext\n",
       "18521        1        0  hey guys, i'm in the market to buy a used lapt...\n",
       "2929         0        1  i do this already.  we reuse them for non-food...\n",
       "17476        1        0  i had a minor realization recently. i had a ca...\n",
       "7455         0        1  topic: why are paper towels so darn expensive?...\n",
       "12926        1        0  i've had a pretty poor experience with public ..."
      ]
     },
     "execution_count": 227,
     "metadata": {},
     "output_type": "execute_result"
    }
   ],
   "source": [
    "# Extract wrongly classified posts for MNB CVEC\n",
    "\n",
    "cvec_mnb_error = find_error(best_cvec_mnb)\n",
    "cvec_mnb_error.head()"
   ]
  },
  {
   "cell_type": "code",
   "execution_count": 215,
   "id": "59ece8e8",
   "metadata": {},
   "outputs": [
    {
     "data": {
      "text/plain": [
       "2929    i do this already.  we reuse them for non-food...\n",
       "7455    topic: why are paper towels so darn expensive?...\n",
       "1109    hi,does anyone know how much pact's cotton tee...\n",
       "3105    dear all,i have a bunch of hoodies, a tent and...\n",
       "4450    recently i have had a difficult time throwing ...\n",
       "                              ...                        \n",
       "8726    i'm not sure if these products would be consid...\n",
       "8296    i'm gonna start this post by clarifying that 9...\n",
       "1022    there's so many different kinds what's the bes...\n",
       "8928    i rent a granny flat and have a small porch. i...\n",
       "5374    go to walmart. they have their mainstays brand...\n",
       "Name: fulltext, Length: 505, dtype: object"
      ]
     },
     "execution_count": 215,
     "metadata": {},
     "output_type": "execute_result"
    }
   ],
   "source": [
    "# Extract False Negatives and False Positives into separate datasets\n",
    "\n",
    "cvec_mnb_FN = cvec_mnb_error.loc[cvec_mnb_error['zw_true']==1,'fulltext']\n",
    "cvec_mnb_FP = cvec_mnb_error.loc[cvec_mnb_error['zw_true']==0,'fulltext']"
   ]
  },
  {
   "cell_type": "code",
   "execution_count": 216,
   "id": "208b4a08",
   "metadata": {},
   "outputs": [],
   "source": [
    "# Create tokens for the \"wronfly classified data\" datasets for MNB CVEC\n",
    "\n",
    "vec = CountVectorizer(stop_words = 'english',\n",
    "                max_features = 20_000,\n",
    "                min_df = 3,\n",
    "                max_df = .9,\n",
    "                ngram_range = (1, 2))\n",
    "\n",
    "cvec_mnb_FN_corp = tok(vec, cvec_mnb_FN)\n",
    "cvec_mnb_FP_corp = tok(vec, cvec_mnb_FP)"
   ]
  },
  {
   "cell_type": "code",
   "execution_count": 236,
   "id": "8f85e2af",
   "metadata": {},
   "outputs": [
    {
     "data": {
      "text/plain": [
       "years      50\n",
       "really     49\n",
       "waste      49\n",
       "work       48\n",
       "got        46\n",
       "clothes    46\n",
       "money      42\n",
       "going      40\n",
       "year       38\n",
       "free       36\n",
       "looking    36\n",
       "food       35\n",
       "way        34\n",
       "feel       34\n",
       "hand       34\n",
       "stuff      34\n",
       "sell       34\n",
       "doesn      33\n",
       "car        33\n",
       "live       33\n",
       "dtype: int64"
      ]
     },
     "execution_count": 236,
     "metadata": {},
     "output_type": "execute_result"
    }
   ],
   "source": [
    "cvec_mnb_FN_corp.sum().sort_values(ascending=False)[20:40]"
   ]
  },
  {
   "cell_type": "code",
   "execution_count": 237,
   "id": "3ea956ef",
   "metadata": {},
   "outputs": [
    {
     "data": {
      "text/plain": [
       "people      79\n",
       "clothes     77\n",
       "way         74\n",
       "food        73\n",
       "using       72\n",
       "ideas       70\n",
       "does        69\n",
       "products    67\n",
       "lot         66\n",
       "bought      64\n",
       "old         64\n",
       "plastic     63\n",
       "little      62\n",
       "store       62\n",
       "work        59\n",
       "cheap       58\n",
       "wash        57\n",
       "buying      56\n",
       "years       55\n",
       "away        55\n",
       "dtype: int64"
      ]
     },
     "execution_count": 237,
     "metadata": {},
     "output_type": "execute_result"
    }
   ],
   "source": [
    "cvec_mnb_FP_corp.sum().sort_values(ascending=False)[20:40]"
   ]
  },
  {
   "cell_type": "code",
   "execution_count": 285,
   "id": "9c09bac9",
   "metadata": {},
   "outputs": [],
   "source": [
    "# add potential stopwords to list\n",
    "\n",
    "sw_list2 = [\"just\", \"don\", \"new\", \"like\", \"want\", \"buy\", \"ve\", \"know\"]"
   ]
  },
  {
   "cell_type": "markdown",
   "id": "1915eb97",
   "metadata": {},
   "source": [
    "### Investigate wrongly classified tokens in RF CVEC"
   ]
  },
  {
   "cell_type": "code",
   "execution_count": 228,
   "id": "be348e4d",
   "metadata": {},
   "outputs": [
    {
     "data": {
      "text/html": [
       "<div>\n",
       "<style scoped>\n",
       "    .dataframe tbody tr th:only-of-type {\n",
       "        vertical-align: middle;\n",
       "    }\n",
       "\n",
       "    .dataframe tbody tr th {\n",
       "        vertical-align: top;\n",
       "    }\n",
       "\n",
       "    .dataframe thead th {\n",
       "        text-align: right;\n",
       "    }\n",
       "</style>\n",
       "<table border=\"1\" class=\"dataframe\">\n",
       "  <thead>\n",
       "    <tr style=\"text-align: right;\">\n",
       "      <th></th>\n",
       "      <th>zw_true</th>\n",
       "      <th>zw_pred</th>\n",
       "      <th>fulltext</th>\n",
       "    </tr>\n",
       "  </thead>\n",
       "  <tbody>\n",
       "    <tr>\n",
       "      <th>18521</th>\n",
       "      <td>1</td>\n",
       "      <td>0</td>\n",
       "      <td>hey guys, i'm in the market to buy a used lapt...</td>\n",
       "    </tr>\n",
       "    <tr>\n",
       "      <th>2929</th>\n",
       "      <td>0</td>\n",
       "      <td>1</td>\n",
       "      <td>i do this already.  we reuse them for non-food...</td>\n",
       "    </tr>\n",
       "    <tr>\n",
       "      <th>17476</th>\n",
       "      <td>1</td>\n",
       "      <td>0</td>\n",
       "      <td>i had a minor realization recently. i had a ca...</td>\n",
       "    </tr>\n",
       "    <tr>\n",
       "      <th>12926</th>\n",
       "      <td>1</td>\n",
       "      <td>0</td>\n",
       "      <td>i've had a pretty poor experience with public ...</td>\n",
       "    </tr>\n",
       "    <tr>\n",
       "      <th>8312</th>\n",
       "      <td>0</td>\n",
       "      <td>1</td>\n",
       "      <td>does anyone know if t-mobile forces apple’s ca...</td>\n",
       "    </tr>\n",
       "  </tbody>\n",
       "</table>\n",
       "</div>"
      ],
      "text/plain": [
       "       zw_true  zw_pred                                           fulltext\n",
       "18521        1        0  hey guys, i'm in the market to buy a used lapt...\n",
       "2929         0        1  i do this already.  we reuse them for non-food...\n",
       "17476        1        0  i had a minor realization recently. i had a ca...\n",
       "12926        1        0  i've had a pretty poor experience with public ...\n",
       "8312         0        1  does anyone know if t-mobile forces apple’s ca..."
      ]
     },
     "execution_count": 228,
     "metadata": {},
     "output_type": "execute_result"
    }
   ],
   "source": [
    "# Assess wrongly classified posts for RF CVEC\n",
    "\n",
    "cvec_rf_error = find_error(best_cvec_rf)\n",
    "cvec_rf_error.head()"
   ]
  },
  {
   "cell_type": "code",
   "execution_count": 229,
   "id": "8e051619",
   "metadata": {},
   "outputs": [],
   "source": [
    "# Extract False Negatives and False Positives into separate datasets\n",
    "\n",
    "cvec_rf_FN = cvec_rf_error.loc[cvec_rf_error['zw_true']==1,'fulltext']\n",
    "cvec_rf_FP = cvec_rf_error.loc[cvec_rf_error['zw_true']==0,'fulltext']"
   ]
  },
  {
   "cell_type": "code",
   "execution_count": 230,
   "id": "3b06bfb9",
   "metadata": {},
   "outputs": [
    {
     "name": "stderr",
     "output_type": "stream",
     "text": [
      "C:\\Users\\User\\.conda\\envs\\dsi\\lib\\site-packages\\sklearn\\utils\\deprecation.py:87: FutureWarning: Function get_feature_names is deprecated; get_feature_names is deprecated in 1.0 and will be removed in 1.2. Please use get_feature_names_out instead.\n",
      "  warnings.warn(msg, category=FutureWarning)\n",
      "C:\\Users\\User\\.conda\\envs\\dsi\\lib\\site-packages\\sklearn\\utils\\deprecation.py:87: FutureWarning: Function get_feature_names is deprecated; get_feature_names is deprecated in 1.0 and will be removed in 1.2. Please use get_feature_names_out instead.\n",
      "  warnings.warn(msg, category=FutureWarning)\n"
     ]
    }
   ],
   "source": [
    "# Create tokens for the \"wronfly classified data\" datasets for MNB CVEC\n",
    "\n",
    "cvec_rf_FN_corp = tok(vec, cvec_rf_FN)\n",
    "cvec_rf_FP_corp = tok(vec, cvec_rf_FP)"
   ]
  },
  {
   "cell_type": "code",
   "execution_count": 231,
   "id": "1eed88b3",
   "metadata": {},
   "outputs": [
    {
     "data": {
      "text/plain": [
       "just       173\n",
       "like       164\n",
       "don        145\n",
       "buy        116\n",
       "want       114\n",
       "new        114\n",
       "ve         107\n",
       "know       106\n",
       "people      94\n",
       "used        93\n",
       "use         92\n",
       "need        86\n",
       "time        81\n",
       "good        80\n",
       "make        77\n",
       "water       77\n",
       "really      74\n",
       "things      70\n",
       "buying      66\n",
       "clothes     64\n",
       "old         62\n",
       "think       62\n",
       "money       59\n",
       "years       56\n",
       "store       55\n",
       "dtype: int64"
      ]
     },
     "execution_count": 231,
     "metadata": {},
     "output_type": "execute_result"
    }
   ],
   "source": [
    "cvec_rf_FN_corp.sum().sort_values(ascending=False).head(25)"
   ]
  },
  {
   "cell_type": "code",
   "execution_count": 232,
   "id": "ad5dfbcc",
   "metadata": {},
   "outputs": [
    {
     "data": {
      "text/plain": [
       "use        231\n",
       "just       168\n",
       "like       152\n",
       "don        128\n",
       "make       121\n",
       "ve         102\n",
       "water       99\n",
       "know        94\n",
       "buy         84\n",
       "used        79\n",
       "want        77\n",
       "good        74\n",
       "need        72\n",
       "things      71\n",
       "soap        70\n",
       "really      70\n",
       "people      69\n",
       "ideas       69\n",
       "paper       67\n",
       "new         66\n",
       "time        61\n",
       "using       58\n",
       "way         58\n",
       "plastic     57\n",
       "looking     55\n",
       "dtype: int64"
      ]
     },
     "execution_count": 232,
     "metadata": {},
     "output_type": "execute_result"
    }
   ],
   "source": [
    "cvec_rf_FP_corp.sum().sort_values(ascending=False).head(25)"
   ]
  },
  {
   "cell_type": "markdown",
   "id": "8da600a2",
   "metadata": {},
   "source": [
    "**Top words in wrongly classified posts**\n",
    "\n",
    "Some of the words can be considered for stop words as their qualitative meaning do not fit ZeroWaste or Frugal e.g.(\"use\", \"like\", \"just\"). This finding concurs with the exploratory data analysis at the beggining, where a number of these words\n",
    "\n",
    "Some of the posts are classified as False Negatives as they contain words such as (\"money\", \"old\", \"free\"). Some of the posts are classified as False Positives as they contain words such as (\"soap\", \"plastic\"). However we will not remove these words as they would help classify majority of the posts."
   ]
  },
  {
   "cell_type": "code",
   "execution_count": 311,
   "id": "0ab15b05",
   "metadata": {},
   "outputs": [
    {
     "data": {
      "text/plain": [
       "{'10',\n",
       " '1000',\n",
       " '15',\n",
       " '20',\n",
       " '200',\n",
       " '25',\n",
       " '300',\n",
       " '50',\n",
       " '60',\n",
       " '600',\n",
       " '800',\n",
       " 'hi',\n",
       " 'ity',\n",
       " 'message mod',\n",
       " 'passionate capable',\n",
       " 'rs',\n",
       " 'zw'}"
      ]
     },
     "execution_count": 311,
     "metadata": {},
     "output_type": "execute_result"
    }
   ],
   "source": [
    "sw_set1"
   ]
  },
  {
   "cell_type": "code",
   "execution_count": 250,
   "id": "5d9a64cf",
   "metadata": {},
   "outputs": [],
   "source": [
    "# add potential stopwords to stopwords set 2\n",
    "\n",
    "sw_set2 = (\"just\", \"don\", \"new\", \"like\", \"want\", \"buy\", \"ve\", \"know\", \"really\", \"make\")"
   ]
  },
  {
   "cell_type": "markdown",
   "id": "22aca182",
   "metadata": {},
   "source": [
    "## Model Tuning\n",
    "\n",
    "Using the insights from above we will further tune the models by adding a variety of stop words to the models.\n",
    "\n",
    "Stop Words lists to test:\n",
    "1) Set 1: Most influential features that contribute to overfitting <br/>\n",
    "2) Set 2: Top words in wrongly classified posts that do not contribute to prediction\n"
   ]
  },
  {
   "cell_type": "code",
   "execution_count": 337,
   "id": "06c8a444",
   "metadata": {},
   "outputs": [],
   "source": [
    "# Update StopWords sets\n",
    "\n",
    "# Set 1: Countvectorizer stopwords PLUS \n",
    "#        Most influential features that contribute to overfitting\n",
    "sw_1 = set(CountVectorizer(stop_words = 'english').get_stop_words())\n",
    "sw_1.update(sw_set1)\n",
    "\n",
    "# Set 2: Countvectorizer stopwords PLUS \n",
    "#        Top words in wrongly classified posts that do not contribute to prediction\n",
    "sw_2 = sw_1.copy()\n",
    "sw_2.update(sw_set2)"
   ]
  },
  {
   "cell_type": "markdown",
   "id": "aa74835f",
   "metadata": {},
   "source": [
    "**Model 2b_sw1 (Tvec with MNB, sw1 stopwords)**"
   ]
  },
  {
   "cell_type": "code",
   "execution_count": 343,
   "id": "642fcea4",
   "metadata": {},
   "outputs": [],
   "source": [
    "# Specify Best tvec MNB Model with stopwords sw_1\n",
    "\n",
    "pipe = Pipeline([\n",
    "    ('tvec', TfidfVectorizer()),\n",
    "    ('nb', MultinomialNB())\n",
    "])\n",
    "\n",
    "pipe_params = {\n",
    "    'tvec__max_features': [20_000],\n",
    "    'tvec__min_df': [3],\n",
    "    'tvec__max_df': [.9],\n",
    "    'tvec__ngram_range': [(1,2)],\n",
    "    'tvec__stop_words': [sw_1],\n",
    "    \n",
    "}\n",
    "\n",
    "sw1_tvec_mnb = GridSearchCV(pipe,\n",
    "                  param_grid=pipe_params, # search parameters\n",
    "                  cv=5)                   # 5-fold cross-validation"
   ]
  },
  {
   "cell_type": "code",
   "execution_count": 344,
   "id": "1947beb2",
   "metadata": {},
   "outputs": [
    {
     "name": "stderr",
     "output_type": "stream",
     "text": [
      "C:\\Users\\User\\.conda\\envs\\dsi\\lib\\site-packages\\sklearn\\feature_extraction\\text.py:396: UserWarning: Your stop_words may be inconsistent with your preprocessing. Tokenizing the stop words generated tokens ['capable', 'message', 'mod', 'passionate'] not in stop_words.\n",
      "  warnings.warn(\n",
      "C:\\Users\\User\\.conda\\envs\\dsi\\lib\\site-packages\\sklearn\\feature_extraction\\text.py:396: UserWarning: Your stop_words may be inconsistent with your preprocessing. Tokenizing the stop words generated tokens ['capable', 'message', 'mod', 'passionate'] not in stop_words.\n",
      "  warnings.warn(\n",
      "C:\\Users\\User\\.conda\\envs\\dsi\\lib\\site-packages\\sklearn\\feature_extraction\\text.py:396: UserWarning: Your stop_words may be inconsistent with your preprocessing. Tokenizing the stop words generated tokens ['capable', 'message', 'mod', 'passionate'] not in stop_words.\n",
      "  warnings.warn(\n",
      "C:\\Users\\User\\.conda\\envs\\dsi\\lib\\site-packages\\sklearn\\feature_extraction\\text.py:396: UserWarning: Your stop_words may be inconsistent with your preprocessing. Tokenizing the stop words generated tokens ['capable', 'message', 'mod', 'passionate'] not in stop_words.\n",
      "  warnings.warn(\n",
      "C:\\Users\\User\\.conda\\envs\\dsi\\lib\\site-packages\\sklearn\\feature_extraction\\text.py:396: UserWarning: Your stop_words may be inconsistent with your preprocessing. Tokenizing the stop words generated tokens ['capable', 'message', 'mod', 'passionate'] not in stop_words.\n",
      "  warnings.warn(\n",
      "C:\\Users\\User\\.conda\\envs\\dsi\\lib\\site-packages\\sklearn\\feature_extraction\\text.py:396: UserWarning: Your stop_words may be inconsistent with your preprocessing. Tokenizing the stop words generated tokens ['capable', 'message', 'mod', 'passionate'] not in stop_words.\n",
      "  warnings.warn(\n"
     ]
    },
    {
     "data": {
      "text/plain": [
       "GridSearchCV(cv=5,\n",
       "             estimator=Pipeline(steps=[('tvec', TfidfVectorizer()),\n",
       "                                       ('nb', MultinomialNB())]),\n",
       "             param_grid={'tvec__max_df': [0.9], 'tvec__max_features': [20000],\n",
       "                         'tvec__min_df': [3], 'tvec__ngram_range': [(1, 2)],\n",
       "                         'tvec__stop_words': [{'10', '1000', '15', '20', '200',\n",
       "                                               '25', '300', '50', '60', '600',\n",
       "                                               '800', 'a', 'about', 'above',\n",
       "                                               'across', 'after', 'afterwards',\n",
       "                                               'again', 'against', 'all',\n",
       "                                               'almost', 'alone', 'along',\n",
       "                                               'already', 'also', 'although',\n",
       "                                               'always', 'am', 'among',\n",
       "                                               'amongst', ...}]})"
      ]
     },
     "execution_count": 344,
     "metadata": {},
     "output_type": "execute_result"
    }
   ],
   "source": [
    "# Fit Model to training data.\n",
    "\n",
    "sw1_tvec_mnb.fit(X_train, y_train)"
   ]
  },
  {
   "cell_type": "code",
   "execution_count": 345,
   "id": "25ea916b",
   "metadata": {},
   "outputs": [
    {
     "name": "stdout",
     "output_type": "stream",
     "text": [
      "{'tvec__max_df': 0.9, 'tvec__max_features': 20000, 'tvec__min_df': 3, 'tvec__ngram_range': (1, 2), 'tvec__stop_words': {'last', 'noone', 'ourselves', '600', 'own', 'call', 'detail', 'go', 'would', 'formerly', 'are', 'become', 'put', 'side', 'anywhere', '60', 'fifty', 'beforehand', 'a', 'yours', 'thereupon', 'whereas', 'found', 'from', 'back', 'in', 'have', 'its', 'her', 'six', 'there', 'further', 'per', 'even', 'except', 'first', 'him', 'which', 'the', 'against', 'being', 'several', 'every', 'themselves', 'over', 'seems', 'now', 'name', '20', 'keep', 'hereby', 'but', 'two', 'thick', 'either', 'onto', 'seem', 'and', 'am', 'once', 'all', 'our', 'whereby', 'namely', 'if', 'hasnt', 'cant', 'hundred', 'less', 'whoever', '50', 'perhaps', 'otherwise', 'therein', 'moreover', 'therefore', 'no', 'nobody', 'each', 'also', 'his', 'see', 'message mod', 'something', 'eg', 'get', 'most', 'some', 'what', 'third', '10', 'them', 'becoming', 'nevertheless', 'anyone', 'thence', 'amoungst', 'latterly', 'although', 'thus', 'who', 'itself', 'whenever', 'part', 'me', 'neither', 'wherein', 'someone', 'well', 'until', 'more', 'move', 'to', 'those', 'beside', 'with', 'could', 'hi', 'across', 'through', 'herein', 'few', 'he', 'out', 'about', 'into', 'that', 'such', 'somehow', 'four', 'whereafter', 'an', 'been', 'too', 'around', '200', 'so', 'interest', 'must', 'whether', 'ltd', 'elsewhere', 'everywhere', 'has', 'inc', 'upon', 'others', 'throughout', 'toward', 'amongst', 'sixty', '25', 'full', 'than', 're', 'they', 'hereafter', 'very', 'bottom', 'before', 'indeed', 'rather', 'she', 'etc', 'enough', 'will', 'afterwards', 'else', 'why', 'himself', 'anyway', 'again', 'up', 'everyone', 'mine', 'were', 'nowhere', 'co', 'thru', 'nothing', 'ever', 'herself', 'forty', 'between', 'nor', 'many', 'though', 'along', 'made', 'below', 'anyhow', '800', 'describe', 'ie', 'system', 'off', 'whose', 'fill', 'fire', 'twelve', 'yourself', 'former', 'of', '300', 'still', 'was', 'nine', 'where', 'whole', 'besides', 'should', 'how', 'much', 'i', 'whither', 'on', 'ours', 'whereupon', 'done', 'cry', 'when', 'we', '15', 'can', 'show', 'mostly', 'sincere', '1000', 'may', 'due', 'cannot', 'their', 'anything', 'above', 'twenty', 'among', 'latter', 'might', 'seeming', 'couldnt', 'here', 'next', 'wherever', 'at', 'myself', 'everything', 'give', 'hereupon', 'fifteen', 'least', 'as', 'often', 'thereafter', 'find', 'not', 'other', 'serious', 'this', 'ity', 'meanwhile', 'almost', 'after', 'is', 'same', 'front', 'then', 'hence', 'one', 'while', 'thereby', 'un', 'both', 'had', 'hers', 'passionate capable', 'thin', 'within', 'us', 'behind', 'under', 'since', 'becomes', 'whence', 'three', 'mill', 'only', 'my', 'any', 'beyond', 'amount', 'became', 'another', 'none', 'eleven', 'bill', 'sometime', 'together', 'yourselves', 'five', 'you', 'for', 'however', 'it', 'via', 'never', 'de', 'be', 'without', 'or', 'zw', 'these', 'always', 'down', 'top', 'whatever', 'empty', 'sometimes', 'by', 'somewhere', 'whom', 'please', 'during', 'towards', 'yet', 'seemed', 'alone', 'eight', 'your', 'ten', 'do', 'because', 'rs', 'already', 'take', 'con'}}\n",
      "Cross validated Score is 0.8917164179104476\n",
      "Train set accuracy is 0.9238059701492537\n",
      "Test set accuracy is 0.8831818181818182\n"
     ]
    }
   ],
   "source": [
    "# Get model info\n",
    "\n",
    "model_info(sw1_tvec_mnb)"
   ]
  },
  {
   "cell_type": "code",
   "execution_count": 358,
   "id": "9373af44",
   "metadata": {},
   "outputs": [],
   "source": [
    "# Name model\n",
    "\n",
    "model_2b_sw1 = \"Model 2b_sw1 (Tvec with MNB, sw1 stopwords)\""
   ]
  },
  {
   "cell_type": "code",
   "execution_count": null,
   "id": "0bb2cf1a",
   "metadata": {},
   "outputs": [],
   "source": [
    "# Get evaluation metrics for train set\n",
    "eval_metrics(sw1_tvec_mnb, \"Train\", X_train, y_train, model_2b_sw1)"
   ]
  },
  {
   "cell_type": "code",
   "execution_count": 369,
   "id": "2f691df0",
   "metadata": {},
   "outputs": [
    {
     "name": "stdout",
     "output_type": "stream",
     "text": [
      "Model 2b (Tvec with MNB, sw1 stopwords) Test set Sensitivity: 0.916\n",
      "Model 2b (Tvec with MNB, sw1 stopwords) Test set Specificity: 0.859\n",
      "Model 2b (Tvec with MNB, sw1 stopwords) Test set AUC ROC: 0.952\n"
     ]
    }
   ],
   "source": [
    "# Get evaluation metrics for test set\n",
    "eval_metrics(sw1_tvec_mnb, \"Test\", X_test, y_test, model_2b_sw1)"
   ]
  },
  {
   "cell_type": "markdown",
   "id": "96476794",
   "metadata": {},
   "source": [
    "**Model 2b_sw2 (Tvec with MNB, sw2 stopwords)**"
   ]
  },
  {
   "cell_type": "code",
   "execution_count": 346,
   "id": "dcd8f1b5",
   "metadata": {},
   "outputs": [],
   "source": [
    "# Specify Best tvec MNB Model with stopwords sw_2\n",
    "\n",
    "pipe = Pipeline([\n",
    "    ('tvec', TfidfVectorizer()),\n",
    "    ('rf', RandomForestClassifier())\n",
    "])\n",
    "\n",
    "pipe_params = {\n",
    "    'tvec__max_features': [20_000],\n",
    "    'tvec__min_df': [3],\n",
    "    'tvec__max_df': [.9],\n",
    "    'tvec__ngram_range': [(1,2)],\n",
    "    'tvec__stop_words': [sw_2],\n",
    "    \n",
    "}\n",
    "\n",
    "sw2_tvec_mnb = GridSearchCV(pipe,\n",
    "                  param_grid=pipe_params, # search parameters\n",
    "                  cv=5)                   # 5-fold cross-validation"
   ]
  },
  {
   "cell_type": "code",
   "execution_count": 347,
   "id": "d2bc1e07",
   "metadata": {},
   "outputs": [
    {
     "name": "stderr",
     "output_type": "stream",
     "text": [
      "C:\\Users\\User\\.conda\\envs\\dsi\\lib\\site-packages\\sklearn\\feature_extraction\\text.py:396: UserWarning: Your stop_words may be inconsistent with your preprocessing. Tokenizing the stop words generated tokens ['capable', 'message', 'mod', 'passionate'] not in stop_words.\n",
      "  warnings.warn(\n",
      "C:\\Users\\User\\.conda\\envs\\dsi\\lib\\site-packages\\sklearn\\feature_extraction\\text.py:396: UserWarning: Your stop_words may be inconsistent with your preprocessing. Tokenizing the stop words generated tokens ['capable', 'message', 'mod', 'passionate'] not in stop_words.\n",
      "  warnings.warn(\n",
      "C:\\Users\\User\\.conda\\envs\\dsi\\lib\\site-packages\\sklearn\\feature_extraction\\text.py:396: UserWarning: Your stop_words may be inconsistent with your preprocessing. Tokenizing the stop words generated tokens ['capable', 'message', 'mod', 'passionate'] not in stop_words.\n",
      "  warnings.warn(\n",
      "C:\\Users\\User\\.conda\\envs\\dsi\\lib\\site-packages\\sklearn\\feature_extraction\\text.py:396: UserWarning: Your stop_words may be inconsistent with your preprocessing. Tokenizing the stop words generated tokens ['capable', 'message', 'mod', 'passionate'] not in stop_words.\n",
      "  warnings.warn(\n",
      "C:\\Users\\User\\.conda\\envs\\dsi\\lib\\site-packages\\sklearn\\feature_extraction\\text.py:396: UserWarning: Your stop_words may be inconsistent with your preprocessing. Tokenizing the stop words generated tokens ['capable', 'message', 'mod', 'passionate'] not in stop_words.\n",
      "  warnings.warn(\n",
      "C:\\Users\\User\\.conda\\envs\\dsi\\lib\\site-packages\\sklearn\\feature_extraction\\text.py:396: UserWarning: Your stop_words may be inconsistent with your preprocessing. Tokenizing the stop words generated tokens ['capable', 'message', 'mod', 'passionate'] not in stop_words.\n",
      "  warnings.warn(\n"
     ]
    },
    {
     "data": {
      "text/plain": [
       "GridSearchCV(cv=5,\n",
       "             estimator=Pipeline(steps=[('tvec', TfidfVectorizer()),\n",
       "                                       ('nb', MultinomialNB())]),\n",
       "             param_grid={'tvec__max_df': [0.9], 'tvec__max_features': [20000],\n",
       "                         'tvec__min_df': [3], 'tvec__ngram_range': [(1, 2)],\n",
       "                         'tvec__stop_words': [{'10', '1000', '15', '20', '200',\n",
       "                                               '25', '300', '50', '60', '600',\n",
       "                                               '800', 'a', 'about', 'above',\n",
       "                                               'across', 'after', 'afterwards',\n",
       "                                               'again', 'against', 'all',\n",
       "                                               'almost', 'alone', 'along',\n",
       "                                               'already', 'also', 'although',\n",
       "                                               'always', 'am', 'among',\n",
       "                                               'amongst', ...}]})"
      ]
     },
     "execution_count": 347,
     "metadata": {},
     "output_type": "execute_result"
    }
   ],
   "source": [
    "# Fit Model to training data.\n",
    "\n",
    "sw2_tvec_mnb.fit(X_train, y_train)"
   ]
  },
  {
   "cell_type": "code",
   "execution_count": 348,
   "id": "5c773a18",
   "metadata": {},
   "outputs": [
    {
     "name": "stdout",
     "output_type": "stream",
     "text": [
      "{'tvec__max_df': 0.9, 'tvec__max_features': 20000, 'tvec__min_df': 3, 'tvec__ngram_range': (1, 2), 'tvec__stop_words': {'last', 'noone', 'ourselves', '600', 'own', 'call', 'detail', 'go', 'would', 'formerly', 'are', 'become', 'put', 'side', 'anywhere', '60', 'fifty', 'beforehand', 'a', 'yours', 'thereupon', 'whereas', 'found', 'from', 'back', 'in', 'have', 'its', 'her', 'six', 'there', 'further', 'per', 'even', 'except', 'first', 'him', 'which', 'the', 'against', 'being', 'several', 'every', 'themselves', 'over', 'seems', 'now', 'name', '20', 'keep', 'hereby', 'but', 'two', 'thick', 'either', 'onto', 'seem', 'and', 'am', 'once', 'all', 'our', 'whereby', 'namely', 'if', 'hasnt', 'cant', 'hundred', 'less', 'whoever', '50', 'perhaps', 'otherwise', 'know', 'therein', 'moreover', 'therefore', 'no', 'nobody', 'each', 'also', 'his', 'see', 'message mod', 'something', 'eg', 'get', 'most', 'some', 'what', 'don', 'third', '10', 'them', 'becoming', 'nevertheless', 'anyone', 'thence', 'amoungst', 'latterly', 'although', 'thus', 'who', 'itself', 'whenever', 'part', 'me', 'neither', 'wherein', 'someone', 'well', 'until', 'more', 'move', 'to', 'those', 'beside', 'with', 'could', 'hi', 'across', 'through', 'herein', 'few', 'he', 'out', 'about', 'into', 'that', 'such', 'somehow', 'four', 'whereafter', 'an', 'been', 'too', 'around', '200', 'so', 'interest', 'must', 'whether', 'ltd', 'elsewhere', 'everywhere', 'has', 'inc', 'upon', 'others', 'throughout', 'toward', 'amongst', 'sixty', '25', 'full', 'than', 're', 'they', 'hereafter', 'very', 'bottom', 'before', 'indeed', 'rather', 'want', 'she', 've', 'etc', 'enough', 'will', 'afterwards', 'else', 'why', 'himself', 'anyway', 'again', 'up', 'everyone', 'mine', 'were', 'nowhere', 'co', 'thru', 'nothing', 'ever', 'herself', 'forty', 'between', 'nor', 'many', 'though', 'along', 'made', 'below', 'anyhow', '800', 'describe', 'ie', 'system', 'off', 'whose', 'fill', 'fire', 'twelve', 'yourself', 'former', 'of', '300', 'still', 'was', 'nine', 'where', 'whole', 'besides', 'should', 'how', 'much', 'i', 'whither', 'on', 'ours', 'whereupon', 'done', 'cry', 'when', 'we', '15', 'can', 'show', 'mostly', 'sincere', '1000', 'buy', 'may', 'due', 'cannot', 'their', 'anything', 'above', 'twenty', 'among', 'latter', 'might', 'seeming', 'couldnt', 'here', 'next', 'wherever', 'at', 'myself', 'everything', 'give', 'hereupon', 'fifteen', 'least', 'as', 'often', 'thereafter', 'find', 'really', 'not', 'other', 'serious', 'this', 'ity', 'meanwhile', 'almost', 'after', 'is', 'same', 'front', 'then', 'hence', 'one', 'while', 'thereby', 'un', 'just', 'both', 'had', 'hers', 'passionate capable', 'like', 'thin', 'within', 'us', 'behind', 'under', 'since', 'becomes', 'whence', 'make', 'three', 'mill', 'only', 'my', 'any', 'beyond', 'amount', 'became', 'another', 'none', 'eleven', 'bill', 'sometime', 'together', 'yourselves', 'five', 'you', 'for', 'however', 'new', 'it', 'via', 'never', 'de', 'be', 'without', 'or', 'zw', 'these', 'always', 'down', 'top', 'whatever', 'empty', 'sometimes', 'by', 'somewhere', 'whom', 'please', 'during', 'towards', 'yet', 'seemed', 'alone', 'eight', 'your', 'ten', 'do', 'because', 'rs', 'already', 'take', 'con'}}\n",
      "Cross validated Score is 0.8905970149253731\n",
      "Train set accuracy is 0.9237313432835821\n",
      "Test set accuracy is 0.881969696969697\n"
     ]
    }
   ],
   "source": [
    "# Get model info\n",
    "\n",
    "model_info(sw2_tvec_mnb)"
   ]
  },
  {
   "cell_type": "code",
   "execution_count": 361,
   "id": "61ab5a54",
   "metadata": {},
   "outputs": [],
   "source": [
    "# Name model\n",
    "\n",
    "model_2b_sw2 = \"Model 2b_sw2 (Tvec with MNB, sw2 stopwords)\""
   ]
  },
  {
   "cell_type": "code",
   "execution_count": 370,
   "id": "4f16de33",
   "metadata": {},
   "outputs": [
    {
     "name": "stdout",
     "output_type": "stream",
     "text": [
      "Model 2b (Tvec with MNB, sw2 stopwords) Train set Sensitivity: 0.942\n",
      "Model 2b (Tvec with MNB, sw2 stopwords) Train set Specificity: 0.909\n",
      "Model 2b (Tvec with MNB, sw2 stopwords) Train set AUC ROC: 0.975\n"
     ]
    }
   ],
   "source": [
    "# Get evaluation metrics for train set\n",
    "eval_metrics(sw2_tvec_mnb, \"Train\", X_train, y_train, model_2b_sw2)"
   ]
  },
  {
   "cell_type": "code",
   "execution_count": 371,
   "id": "096e6f79",
   "metadata": {},
   "outputs": [
    {
     "name": "stdout",
     "output_type": "stream",
     "text": [
      "Model 2b (Tvec with MNB, sw2 stopwords) Test set Sensitivity: 0.912\n",
      "Model 2b (Tvec with MNB, sw2 stopwords) Test set Specificity: 0.860\n",
      "Model 2b (Tvec with MNB, sw2 stopwords) Test set AUC ROC: 0.952\n"
     ]
    }
   ],
   "source": [
    "# Get evaluation metrics for test set\n",
    "eval_metrics(sw2_tvec_mnb, \"Test\", X_test, y_test, model_2b_sw2)"
   ]
  },
  {
   "cell_type": "markdown",
   "id": "0e83d057",
   "metadata": {},
   "source": [
    "**Model 3b_sw1 (Tvec with RF, sw1 stopwords)**"
   ]
  },
  {
   "cell_type": "code",
   "execution_count": 378,
   "id": "11d2eef7",
   "metadata": {},
   "outputs": [],
   "source": [
    "# Specify Best tvec RF Model wtih stopwords sw_1\n",
    "\n",
    "pipe = Pipeline([\n",
    "    ('tvec', TfidfVectorizer()),\n",
    "    ('rf', RandomForestClassifier())\n",
    "])\n",
    "\n",
    "pipe_params = {\n",
    "    'tvec__max_features': [30_000],\n",
    "    'tvec__min_df': [3],\n",
    "    'tvec__max_df': [.9],\n",
    "    'tvec__ngram_range': [(1,2)],\n",
    "    'tvec__stop_words': [sw_1],\n",
    "    'rf__n_estimators': [300],\n",
    "    'rf__max_depth': [None],\n",
    "    'rf__min_samples_leaf': [3]\n",
    "    \n",
    "}\n",
    "\n",
    "sw1_tvec_rf = GridSearchCV(pipe,\n",
    "                  param_grid=pipe_params, # search parameters\n",
    "                  cv=5)                   # 5-fold cross-validation"
   ]
  },
  {
   "cell_type": "code",
   "execution_count": 379,
   "id": "44781306",
   "metadata": {},
   "outputs": [
    {
     "name": "stderr",
     "output_type": "stream",
     "text": [
      "C:\\Users\\User\\.conda\\envs\\dsi\\lib\\site-packages\\sklearn\\feature_extraction\\text.py:396: UserWarning: Your stop_words may be inconsistent with your preprocessing. Tokenizing the stop words generated tokens ['capable', 'message', 'mod', 'passionate'] not in stop_words.\n",
      "  warnings.warn(\n",
      "C:\\Users\\User\\.conda\\envs\\dsi\\lib\\site-packages\\sklearn\\feature_extraction\\text.py:396: UserWarning: Your stop_words may be inconsistent with your preprocessing. Tokenizing the stop words generated tokens ['capable', 'message', 'mod', 'passionate'] not in stop_words.\n",
      "  warnings.warn(\n",
      "C:\\Users\\User\\.conda\\envs\\dsi\\lib\\site-packages\\sklearn\\feature_extraction\\text.py:396: UserWarning: Your stop_words may be inconsistent with your preprocessing. Tokenizing the stop words generated tokens ['capable', 'message', 'mod', 'passionate'] not in stop_words.\n",
      "  warnings.warn(\n",
      "C:\\Users\\User\\.conda\\envs\\dsi\\lib\\site-packages\\sklearn\\feature_extraction\\text.py:396: UserWarning: Your stop_words may be inconsistent with your preprocessing. Tokenizing the stop words generated tokens ['capable', 'message', 'mod', 'passionate'] not in stop_words.\n",
      "  warnings.warn(\n",
      "C:\\Users\\User\\.conda\\envs\\dsi\\lib\\site-packages\\sklearn\\feature_extraction\\text.py:396: UserWarning: Your stop_words may be inconsistent with your preprocessing. Tokenizing the stop words generated tokens ['capable', 'message', 'mod', 'passionate'] not in stop_words.\n",
      "  warnings.warn(\n",
      "C:\\Users\\User\\.conda\\envs\\dsi\\lib\\site-packages\\sklearn\\feature_extraction\\text.py:396: UserWarning: Your stop_words may be inconsistent with your preprocessing. Tokenizing the stop words generated tokens ['capable', 'message', 'mod', 'passionate'] not in stop_words.\n",
      "  warnings.warn(\n"
     ]
    },
    {
     "data": {
      "text/plain": [
       "GridSearchCV(cv=5,\n",
       "             estimator=Pipeline(steps=[('tvec', TfidfVectorizer()),\n",
       "                                       ('rf', RandomForestClassifier())]),\n",
       "             param_grid={'rf__max_depth': [None], 'rf__min_samples_leaf': [3],\n",
       "                         'rf__n_estimators': [300], 'tvec__max_df': [0.9],\n",
       "                         'tvec__max_features': [30000], 'tvec__min_df': [3],\n",
       "                         'tvec__ngram_range': [(1, 2)],\n",
       "                         'tvec__stop_words': [{'10', '1000', '15', '20', '200',\n",
       "                                               '25', '300', '50', '60', '600',\n",
       "                                               '800', 'a', 'about', 'above',\n",
       "                                               'across', 'after', 'afterwards',\n",
       "                                               'again', 'against', 'all',\n",
       "                                               'almost', 'alone', 'along',\n",
       "                                               'already', 'also', 'although',\n",
       "                                               'always', 'am', 'among',\n",
       "                                               'amongst', ...}]})"
      ]
     },
     "execution_count": 379,
     "metadata": {},
     "output_type": "execute_result"
    }
   ],
   "source": [
    "# Fit Model to training data.\n",
    "\n",
    "sw1_tvec_rf.fit(X_train, y_train)"
   ]
  },
  {
   "cell_type": "code",
   "execution_count": 383,
   "id": "c0987ead",
   "metadata": {},
   "outputs": [
    {
     "name": "stdout",
     "output_type": "stream",
     "text": [
      "{'rf__max_depth': None, 'rf__min_samples_leaf': 3, 'rf__n_estimators': 300, 'tvec__max_df': 0.9, 'tvec__max_features': 30000, 'tvec__min_df': 3, 'tvec__ngram_range': (1, 2), 'tvec__stop_words': {'last', 'noone', 'ourselves', '600', 'own', 'call', 'detail', 'go', 'would', 'formerly', 'are', 'become', 'put', 'side', 'anywhere', '60', 'fifty', 'beforehand', 'a', 'yours', 'thereupon', 'whereas', 'found', 'from', 'back', 'in', 'have', 'its', 'her', 'six', 'there', 'further', 'per', 'even', 'except', 'first', 'him', 'which', 'the', 'against', 'being', 'several', 'every', 'themselves', 'over', 'seems', 'now', 'name', '20', 'keep', 'hereby', 'but', 'two', 'thick', 'either', 'onto', 'seem', 'and', 'am', 'once', 'all', 'our', 'whereby', 'namely', 'if', 'hasnt', 'cant', 'hundred', 'less', 'whoever', '50', 'perhaps', 'otherwise', 'therein', 'moreover', 'therefore', 'no', 'nobody', 'each', 'also', 'his', 'see', 'message mod', 'something', 'eg', 'get', 'most', 'some', 'what', 'third', '10', 'them', 'becoming', 'nevertheless', 'anyone', 'thence', 'amoungst', 'latterly', 'although', 'thus', 'who', 'itself', 'whenever', 'part', 'me', 'neither', 'wherein', 'someone', 'well', 'until', 'more', 'move', 'to', 'those', 'beside', 'with', 'could', 'hi', 'across', 'through', 'herein', 'few', 'he', 'out', 'about', 'into', 'that', 'such', 'somehow', 'four', 'whereafter', 'an', 'been', 'too', 'around', '200', 'so', 'interest', 'must', 'whether', 'ltd', 'elsewhere', 'everywhere', 'has', 'inc', 'upon', 'others', 'throughout', 'toward', 'amongst', 'sixty', '25', 'full', 'than', 're', 'they', 'hereafter', 'very', 'bottom', 'before', 'indeed', 'rather', 'she', 'etc', 'enough', 'will', 'afterwards', 'else', 'why', 'himself', 'anyway', 'again', 'up', 'everyone', 'mine', 'were', 'nowhere', 'co', 'thru', 'nothing', 'ever', 'herself', 'forty', 'between', 'nor', 'many', 'though', 'along', 'made', 'below', 'anyhow', '800', 'describe', 'ie', 'system', 'off', 'whose', 'fill', 'fire', 'twelve', 'yourself', 'former', 'of', '300', 'still', 'was', 'nine', 'where', 'whole', 'besides', 'should', 'how', 'much', 'i', 'whither', 'on', 'ours', 'whereupon', 'done', 'cry', 'when', 'we', '15', 'can', 'show', 'mostly', 'sincere', '1000', 'may', 'due', 'cannot', 'their', 'anything', 'above', 'twenty', 'among', 'latter', 'might', 'seeming', 'couldnt', 'here', 'next', 'wherever', 'at', 'myself', 'everything', 'give', 'hereupon', 'fifteen', 'least', 'as', 'often', 'thereafter', 'find', 'not', 'other', 'serious', 'this', 'ity', 'meanwhile', 'almost', 'after', 'is', 'same', 'front', 'then', 'hence', 'one', 'while', 'thereby', 'un', 'both', 'had', 'hers', 'passionate capable', 'thin', 'within', 'us', 'behind', 'under', 'since', 'becomes', 'whence', 'three', 'mill', 'only', 'my', 'any', 'beyond', 'amount', 'became', 'another', 'none', 'eleven', 'bill', 'sometime', 'together', 'yourselves', 'five', 'you', 'for', 'however', 'it', 'via', 'never', 'de', 'be', 'without', 'or', 'zw', 'these', 'always', 'down', 'top', 'whatever', 'empty', 'sometimes', 'by', 'somewhere', 'whom', 'please', 'during', 'towards', 'yet', 'seemed', 'alone', 'eight', 'your', 'ten', 'do', 'because', 'rs', 'already', 'take', 'con'}}\n",
      "Cross validated Score is 0.8891044776119402\n",
      "Train set accuracy is 0.9477611940298507\n",
      "Test set accuracy is 0.894090909090909\n"
     ]
    }
   ],
   "source": [
    "# Get model info\n",
    "\n",
    "model_info(sw1_tvec_rf)"
   ]
  },
  {
   "cell_type": "code",
   "execution_count": 380,
   "id": "94328743",
   "metadata": {},
   "outputs": [],
   "source": [
    "# Name model\n",
    "\n",
    "model_3b_sw1 = \"Model 3b_sw1 (Tvec with RF, sw1 stopwords)\""
   ]
  },
  {
   "cell_type": "code",
   "execution_count": 381,
   "id": "d395d0a8",
   "metadata": {},
   "outputs": [
    {
     "name": "stdout",
     "output_type": "stream",
     "text": [
      "Model 3b_sw1 (Tvec with RF, sw1 stopwords)) Train set Sensitivity: 0.953\n",
      "Model 3b_sw1 (Tvec with RF, sw1 stopwords)) Train set Specificity: 0.943\n",
      "Model 3b_sw1 (Tvec with RF, sw1 stopwords)) Train set AUC ROC: 0.990\n"
     ]
    }
   ],
   "source": [
    "# Get evaluation metrics for train set\n",
    "eval_metrics(sw1_tvec_rf, \"Train\", X_train, y_train, model_3b_sw1)"
   ]
  },
  {
   "cell_type": "code",
   "execution_count": 382,
   "id": "5f3a3a09",
   "metadata": {},
   "outputs": [
    {
     "name": "stdout",
     "output_type": "stream",
     "text": [
      "Model 3b_sw1 (Tvec with RF, sw1 stopwords)) Test set Sensitivity: 0.903\n",
      "Model 3b_sw1 (Tvec with RF, sw1 stopwords)) Test set Specificity: 0.886\n",
      "Model 3b_sw1 (Tvec with RF, sw1 stopwords)) Test set AUC ROC: 0.959\n"
     ]
    }
   ],
   "source": [
    "# Get evaluation metrics for test set\n",
    "eval_metrics(sw1_tvec_rf, \"Test\", X_test, y_test, model_3b_sw1)"
   ]
  },
  {
   "cell_type": "markdown",
   "id": "3792055f",
   "metadata": {},
   "source": [
    "**Model 3b_sw2 (Tvec with RF, sw2 stopwords)**"
   ]
  },
  {
   "cell_type": "code",
   "execution_count": 399,
   "id": "eafec6ac",
   "metadata": {},
   "outputs": [],
   "source": [
    "# Specify Best tvec RF Model wtih stopwords sw_2\n",
    "\n",
    "pipe = Pipeline([\n",
    "    ('tvec', TfidfVectorizer()),\n",
    "    ('rf', RandomForestClassifier())\n",
    "])\n",
    "\n",
    "pipe_params = {\n",
    "    'tvec__max_features': [30_000],\n",
    "    'tvec__min_df': [3],\n",
    "    'tvec__max_df': [.9],\n",
    "    'tvec__ngram_range': [(1,2)],\n",
    "    'tvec__stop_words': [sw_2],\n",
    "    'rf__n_estimators': [300],\n",
    "    'rf__max_depth': [None],\n",
    "    'rf__min_samples_leaf': [3]\n",
    "    \n",
    "}\n",
    "\n",
    "sw2_tvec_rf = GridSearchCV(pipe,\n",
    "                  param_grid=pipe_params, # search parameters\n",
    "                  cv=5)                   # 5-fold cross-validation"
   ]
  },
  {
   "cell_type": "code",
   "execution_count": 400,
   "id": "f4d6e18d",
   "metadata": {},
   "outputs": [
    {
     "name": "stderr",
     "output_type": "stream",
     "text": [
      "C:\\Users\\User\\.conda\\envs\\dsi\\lib\\site-packages\\sklearn\\feature_extraction\\text.py:396: UserWarning: Your stop_words may be inconsistent with your preprocessing. Tokenizing the stop words generated tokens ['capable', 'message', 'mod', 'passionate'] not in stop_words.\n",
      "  warnings.warn(\n",
      "C:\\Users\\User\\.conda\\envs\\dsi\\lib\\site-packages\\sklearn\\feature_extraction\\text.py:396: UserWarning: Your stop_words may be inconsistent with your preprocessing. Tokenizing the stop words generated tokens ['capable', 'message', 'mod', 'passionate'] not in stop_words.\n",
      "  warnings.warn(\n",
      "C:\\Users\\User\\.conda\\envs\\dsi\\lib\\site-packages\\sklearn\\feature_extraction\\text.py:396: UserWarning: Your stop_words may be inconsistent with your preprocessing. Tokenizing the stop words generated tokens ['capable', 'message', 'mod', 'passionate'] not in stop_words.\n",
      "  warnings.warn(\n",
      "C:\\Users\\User\\.conda\\envs\\dsi\\lib\\site-packages\\sklearn\\feature_extraction\\text.py:396: UserWarning: Your stop_words may be inconsistent with your preprocessing. Tokenizing the stop words generated tokens ['capable', 'message', 'mod', 'passionate'] not in stop_words.\n",
      "  warnings.warn(\n",
      "C:\\Users\\User\\.conda\\envs\\dsi\\lib\\site-packages\\sklearn\\feature_extraction\\text.py:396: UserWarning: Your stop_words may be inconsistent with your preprocessing. Tokenizing the stop words generated tokens ['capable', 'message', 'mod', 'passionate'] not in stop_words.\n",
      "  warnings.warn(\n",
      "C:\\Users\\User\\.conda\\envs\\dsi\\lib\\site-packages\\sklearn\\feature_extraction\\text.py:396: UserWarning: Your stop_words may be inconsistent with your preprocessing. Tokenizing the stop words generated tokens ['capable', 'message', 'mod', 'passionate'] not in stop_words.\n",
      "  warnings.warn(\n"
     ]
    },
    {
     "data": {
      "text/plain": [
       "GridSearchCV(cv=5,\n",
       "             estimator=Pipeline(steps=[('tvec', TfidfVectorizer()),\n",
       "                                       ('rf', RandomForestClassifier())]),\n",
       "             param_grid={'rf__max_depth': [None], 'rf__min_samples_leaf': [3],\n",
       "                         'rf__n_estimators': [300], 'tvec__max_df': [0.9],\n",
       "                         'tvec__max_features': [30000], 'tvec__min_df': [3],\n",
       "                         'tvec__ngram_range': [(1, 2)],\n",
       "                         'tvec__stop_words': [{'10', '1000', '15', '20', '200',\n",
       "                                               '25', '300', '50', '60', '600',\n",
       "                                               '800', 'a', 'about', 'above',\n",
       "                                               'across', 'after', 'afterwards',\n",
       "                                               'again', 'against', 'all',\n",
       "                                               'almost', 'alone', 'along',\n",
       "                                               'already', 'also', 'although',\n",
       "                                               'always', 'am', 'among',\n",
       "                                               'amongst', ...}]})"
      ]
     },
     "execution_count": 400,
     "metadata": {},
     "output_type": "execute_result"
    }
   ],
   "source": [
    "# Fit Model to training data.\n",
    "\n",
    "sw2_tvec_rf.fit(X_train, y_train)"
   ]
  },
  {
   "cell_type": "code",
   "execution_count": 401,
   "id": "8f9062e0",
   "metadata": {},
   "outputs": [
    {
     "name": "stdout",
     "output_type": "stream",
     "text": [
      "{'rf__max_depth': None, 'rf__min_samples_leaf': 3, 'rf__n_estimators': 300, 'tvec__max_df': 0.9, 'tvec__max_features': 30000, 'tvec__min_df': 3, 'tvec__ngram_range': (1, 2), 'tvec__stop_words': {'last', 'noone', 'ourselves', '600', 'own', 'call', 'detail', 'go', 'would', 'formerly', 'are', 'become', 'put', 'side', 'anywhere', '60', 'fifty', 'beforehand', 'a', 'yours', 'thereupon', 'whereas', 'found', 'from', 'back', 'in', 'have', 'its', 'her', 'six', 'there', 'further', 'per', 'even', 'except', 'first', 'him', 'which', 'the', 'against', 'being', 'several', 'every', 'themselves', 'over', 'seems', 'now', 'name', '20', 'keep', 'hereby', 'but', 'two', 'thick', 'either', 'onto', 'seem', 'and', 'am', 'once', 'all', 'our', 'whereby', 'namely', 'if', 'hasnt', 'cant', 'hundred', 'less', 'whoever', '50', 'perhaps', 'otherwise', 'know', 'therein', 'moreover', 'therefore', 'no', 'nobody', 'each', 'also', 'his', 'see', 'message mod', 'something', 'eg', 'get', 'most', 'some', 'what', 'don', 'third', '10', 'them', 'becoming', 'nevertheless', 'anyone', 'thence', 'amoungst', 'latterly', 'although', 'thus', 'who', 'itself', 'whenever', 'part', 'me', 'neither', 'wherein', 'someone', 'well', 'until', 'more', 'move', 'to', 'those', 'beside', 'with', 'could', 'hi', 'across', 'through', 'herein', 'few', 'he', 'out', 'about', 'into', 'that', 'such', 'somehow', 'four', 'whereafter', 'an', 'been', 'too', 'around', '200', 'so', 'interest', 'must', 'whether', 'ltd', 'elsewhere', 'everywhere', 'has', 'inc', 'upon', 'others', 'throughout', 'toward', 'amongst', 'sixty', '25', 'full', 'than', 're', 'they', 'hereafter', 'very', 'bottom', 'before', 'indeed', 'rather', 'want', 'she', 've', 'etc', 'enough', 'will', 'afterwards', 'else', 'why', 'himself', 'anyway', 'again', 'up', 'everyone', 'mine', 'were', 'nowhere', 'co', 'thru', 'nothing', 'ever', 'herself', 'forty', 'between', 'nor', 'many', 'though', 'along', 'made', 'below', 'anyhow', '800', 'describe', 'ie', 'system', 'off', 'whose', 'fill', 'fire', 'twelve', 'yourself', 'former', 'of', '300', 'still', 'was', 'nine', 'where', 'whole', 'besides', 'should', 'how', 'much', 'i', 'whither', 'on', 'ours', 'whereupon', 'done', 'cry', 'when', 'we', '15', 'can', 'show', 'mostly', 'sincere', '1000', 'buy', 'may', 'due', 'cannot', 'their', 'anything', 'above', 'twenty', 'among', 'latter', 'might', 'seeming', 'couldnt', 'here', 'next', 'wherever', 'at', 'myself', 'everything', 'give', 'hereupon', 'fifteen', 'least', 'as', 'often', 'thereafter', 'find', 'really', 'not', 'other', 'serious', 'this', 'ity', 'meanwhile', 'almost', 'after', 'is', 'same', 'front', 'then', 'hence', 'one', 'while', 'thereby', 'un', 'just', 'both', 'had', 'hers', 'passionate capable', 'like', 'thin', 'within', 'us', 'behind', 'under', 'since', 'becomes', 'whence', 'make', 'three', 'mill', 'only', 'my', 'any', 'beyond', 'amount', 'became', 'another', 'none', 'eleven', 'bill', 'sometime', 'together', 'yourselves', 'five', 'you', 'for', 'however', 'new', 'it', 'via', 'never', 'de', 'be', 'without', 'or', 'zw', 'these', 'always', 'down', 'top', 'whatever', 'empty', 'sometimes', 'by', 'somewhere', 'whom', 'please', 'during', 'towards', 'yet', 'seemed', 'alone', 'eight', 'your', 'ten', 'do', 'because', 'rs', 'already', 'take', 'con'}}\n",
      "Cross validated Score is 0.8887313432835822\n",
      "Train set accuracy is 0.9469402985074626\n",
      "Test set accuracy is 0.8936363636363637\n"
     ]
    }
   ],
   "source": [
    "# Get model info\n",
    "\n",
    "model_info(sw2_tvec_rf)"
   ]
  },
  {
   "cell_type": "code",
   "execution_count": 390,
   "id": "b72cd827",
   "metadata": {},
   "outputs": [],
   "source": [
    "# Name model\n",
    "\n",
    "model_3b_sw2 = \"Model 3b_sw2 (Tvec with MNB, sw2 stopwords)\""
   ]
  },
  {
   "cell_type": "code",
   "execution_count": 391,
   "id": "dbebac1f",
   "metadata": {},
   "outputs": [
    {
     "name": "stdout",
     "output_type": "stream",
     "text": [
      "Model 3b_sw2 (Tvec with MNB, sw2 stopwords) Train set Sensitivity: 0.952\n",
      "Model 3b_sw2 (Tvec with MNB, sw2 stopwords) Train set Specificity: 0.942\n",
      "Model 3b_sw2 (Tvec with MNB, sw2 stopwords) Train set AUC ROC: 0.989\n"
     ]
    }
   ],
   "source": [
    "# Get evaluation metrics for train set\n",
    "eval_metrics(sw2_tvec_rf, \"Train\", X_train, y_train, model_3b_sw2)"
   ]
  },
  {
   "cell_type": "code",
   "execution_count": 392,
   "id": "f921708f",
   "metadata": {},
   "outputs": [
    {
     "name": "stdout",
     "output_type": "stream",
     "text": [
      "Model 3b_sw2 (Tvec with MNB, sw2 stopwords) Test set Sensitivity: 0.905\n",
      "Model 3b_sw2 (Tvec with MNB, sw2 stopwords) Test set Specificity: 0.889\n",
      "Model 3b_sw2 (Tvec with MNB, sw2 stopwords) Test set AUC ROC: 0.959\n"
     ]
    }
   ],
   "source": [
    "# Get evaluation metrics for test set\n",
    "eval_metrics(sw2_tvec_rf, \"Test\", X_test, y_test, model_3b_sw2)"
   ]
  },
  {
   "cell_type": "markdown",
   "id": "b18efd57",
   "metadata": {},
   "source": [
    "#### Summary of Models with the \"best hyperparameter combination\" with different stopword sets\n",
    "\n",
    "|              |                        | **Train**    |          |          | **Test**     |          |          |\n",
    "|:-------------|:-----------------------|--------------|----------|----------|--------------|----------|----------|\n",
    "|              |                        | **Accuracy** | **Sens** | **Spec** | **Accuracy** | **Sens** | **Spec** |\n",
    "| Model 2b     | MNB original Stopwords | 0.924        | 0.944    | 0.909    | 0.884        | 0.918    | 0.860    |\n",
    "| Model 2b_sw1 | MNB Stopwords set1     | 0.924        | 0.941    | 0.910    | 0.883        | 0.916    | 0.859    |\n",
    "| Model 2b_sw2 | MNB Stopwords set2     | 0.924        | 0.942    | 0.909    | 0.882        | 0.912    | 0.860    |\n",
    "| Model 3b     | RF original Stopwords  | 0.948        | 0.954    | 0.943    | 0.894        | 0.902    | 0.888    |\n",
    "| Model 3b_sw1 | RF Stopwords set1      | 0.948        | 0.953    | 0.943    | 0.894        | 0.903    | 0.886    |\n",
    "| Model 3b_sw2 | RF Stopwords set2      | 0.947        | 0.952    | 0.942    | 0.896        | 0.905    | 0.889    |"
   ]
  },
  {
   "cell_type": "markdown",
   "id": "0bf5b2af",
   "metadata": {},
   "source": [
    "**Model Tuning**<br/>\n",
    "As seen in the table there were minimal changes in the Accuracy and Sensitivity scores after including the extra stopwords. This is probably because the number of words removed are relatively small compared to the number of features in the corpus.\n",
    "\n",
    "Nonethless, we can see small improvements in the Accuracy and Sensitivity of the RandomForest models when more stopwords are included (ie better overall classification and better identification of ZeroWaste users). This could be indicative that further tuning of the stopwords can result in a better performance."
   ]
  },
  {
   "cell_type": "markdown",
   "id": "7537fac9",
   "metadata": {},
   "source": [
    "## Conclusions and Reccomendations"
   ]
  },
  {
   "cell_type": "markdown",
   "id": "65199d9f",
   "metadata": {},
   "source": [
    "This project set out to identify 'green' users by their text-based social media posts to improve targeted advertising on said users. To achieve this, subreddit posts from 'ZeroWaste' and 'Frugal' were scraped to create a set of text based data which have similar meanings. The goal was to classify these two groups with good overall accuracy and sensitivity. This is to ensure that we could identify the target users well, but at the same time not include too many errors.\n",
    "\n",
    "An exploratory analysis showed promise as the top words in each of the subreddits included distinct words that were reflective of their underlying motivations. (e.g. \"save money\" and \"time\" in Frugal, \"plastic\" and \"eco friendly\" in ZeroWaste). If the posts contained distinctive words that are representative of its subreddit it should be correctly classified. Of course, words such as \"waste\" were popular in both subreddits.\n",
    "\n",
    "An iterative search process using GridSearch led to a decently performing model with the RandomForest algorithm. An accuracy of 89% and sensitivity of 90% was achieved, which meant that we are able to classify ZeroWaste users apart from relatively similar users rather well. The effects of removing tokens from spam entries cannot be seen at this point, but could be salient when the model is deployed on real posts. Likewise the removal of tokens which are common and without logical affliation with either subreddits did not yield conclusive improvements.\n",
    "\n",
    "Nonetheless the algorithm is performing relatively well, and will be able to identify ZeroWaste users to a high accuracy. We will reccomend for the RandomForest model with TfdifVectorizer and all the identified stopwords to be deployed for use."
   ]
  },
  {
   "cell_type": "markdown",
   "id": "c33d8c90",
   "metadata": {},
   "source": [
    "## Future Directions\n",
    "\n",
    "1) Combine predictions with other behaviours on the social media platform<br/>\n",
    "Incorporate users \"likes\" and \"groups\" to boost the performance of the classification\n",
    "\n",
    "2) Investigate wrongly classified posts in fulltext form<br/>\n",
    "Could the wrongly classified posts be semantically suitable for both groups?\n",
    "\n",
    "1) Refine list of Stop Words<br/>\n",
    "During the analysis, we spotted many other common words in both dataset that could have added to the noise in classification. Future modelling can consider increasing the stop word list to reduce the variance in the model.\n",
    "\n",
    "2) Stemming and Lemmatizing<br/>\n",
    "Further adjustment of the word forms can be attempted to boost the weights of influential words that are present in various forms.\n",
    "\n"
   ]
  },
  {
   "cell_type": "code",
   "execution_count": 403,
   "id": "e53ef676",
   "metadata": {},
   "outputs": [
    {
     "data": {
      "text/html": [
       "<style>\n",
       "table {float:left}\n",
       "</style>\n"
      ],
      "text/plain": [
       "<IPython.core.display.HTML object>"
      ]
     },
     "metadata": {},
     "output_type": "display_data"
    }
   ],
   "source": [
    "%%html\n",
    "<style>\n",
    "table {float:left}\n",
    "</style>"
   ]
  }
 ],
 "metadata": {
  "kernelspec": {
   "display_name": "Python 3 (ipykernel)",
   "language": "python",
   "name": "python3"
  },
  "language_info": {
   "codemirror_mode": {
    "name": "ipython",
    "version": 3
   },
   "file_extension": ".py",
   "mimetype": "text/x-python",
   "name": "python",
   "nbconvert_exporter": "python",
   "pygments_lexer": "ipython3",
   "version": "3.8.12"
  }
 },
 "nbformat": 4,
 "nbformat_minor": 5
}
